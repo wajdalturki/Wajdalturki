{
  "nbformat": 4,
  "nbformat_minor": 0,
  "metadata": {
    "kernelspec": {
      "display_name": "Python 3",
      "language": "python",
      "name": "python3"
    },
    "language_info": {
      "codemirror_mode": {
        "name": "ipython",
        "version": 3
      },
      "file_extension": ".py",
      "mimetype": "text/x-python",
      "name": "python",
      "nbconvert_exporter": "python",
      "pygments_lexer": "ipython3",
      "version": "3.8.2"
    },
    "colab": {
      "name": "test_day6.ipynb",
      "provenance": [],
      "collapsed_sections": [
        "14Nav4Zcthjj",
        "_C0VeZLithjp",
        "ogsphveVthjq"
      ],
      "include_colab_link": true
    }
  },
  "cells": [
    {
      "cell_type": "markdown",
      "metadata": {
        "id": "view-in-github",
        "colab_type": "text"
      },
      "source": [
        "<a href=\"https://colab.research.google.com/github/wajdalturki/Wajdalturki/blob/main/test_day6.ipynb\" target=\"_parent\"><img src=\"https://colab.research.google.com/assets/colab-badge.svg\" alt=\"Open In Colab\"/></a>"
      ]
    },
    {
      "cell_type": "markdown",
      "metadata": {
        "id": "q0kPlMZEthjM"
      },
      "source": [
        "#  Feature Scaling & Feature Engineering\n",
        "\n",
        "![](https://static01.nyt.com/images/2020/11/29/fashion/24DIAMONDREPLICA2/24DIAMONDREPLICA2-superJumbo.jpg)\n",
        "\n",
        "Feature scaling is a method used to normalize the range of independent variables or features of data. In data processing, it is also known as data normalization and is generally performed during the data preprocessing step.\n",
        "\n",
        "Since the range of values of raw data varies widely, in some machine learning algorithms, objective functions will not work properly without normalization. For example, many classifiers calculate the distance between two points by the Euclidean distance. If one of the features has a broad range of values, the distance will be governed by this particular feature. Therefore, the range of all features should be normalized so that each feature contributes approximately proportionately to the final distance.\n",
        "\n",
        "Another reason why feature scaling is applied is that gradient descent converges much faster with feature scaling than without it.\n",
        "\n",
        "The idea with gradient descent is to take repeated steps in the opposite direction of the gradient (or approximate gradient) of the function at the current point, because this is the direction of steepest descent. Conversely, stepping in the direction of the gradient will lead to a local maximum of that function; the procedure is then known as gradient ascent.\n",
        "\n",
        "![](https://kevinbinz.files.wordpress.com/2019/05/gradient_descent_line_graph.gif)\n",
        "\n",
        "- [Feature Scaling Reference](https://en.wikipedia.org/wiki/Feature_scaling#:~:text=a%20distance%20measure.-,Application,scaling%20changes%20the%20SVM%20result.)\n",
        "- [Gradient Descent Reference](https://en.wikipedia.org/wiki/Gradient_descent)\n",
        "\n",
        "### Assignment (Day 1 & Day 2)\n",
        "\n",
        "Repeat the steps for the test data and report your results at the bottom of this notebook.\n",
        "\n",
        "**Requirements:**\n",
        "- Show the results (MSE, MAE, RMSE) for all models finished during the lecture using the test data.\n",
        "- Make sure to follow the steps and all additional preprocessing code\n",
        "- Your results should be displayed at the bottom of this notebook in a single code cell output or markdown cell\n",
        "- Only progress as far as we progressed in class\n",
        "- **(Day 2 Task):** Complete all tasks listed above\n",
        "- **(Day 2 Task):** Create a plot displaying the results of the test set on each of the models\n",
        "- **(Day 2 Task):** Show the results (MSE, MAE, RMSE) for all models (yesterday and today). You should be reporting on the results of 7 models.\n",
        "- **(Day 2 Task):** Try to refactor the code. The notebook is purposely written for teaching out of. Can you refactor the lecture code by reducing the amount of lines of code or writing a function to combine a couple tasks together? Explain how you tried to refactor the code in a markdown cell."
      ]
    },
    {
      "cell_type": "code",
      "metadata": {
        "id": "Y-v_LiJjthjS"
      },
      "source": [
        "import pandas as pd\n",
        "import numpy as np\n",
        "import matplotlib.pyplot as plt\n",
        "import seaborn as sns\n",
        "\n",
        "from sklearn.model_selection import train_test_split\n",
        "from sklearn.linear_model import LinearRegression\n",
        "\n",
        "# Cost Functions\n",
        "from sklearn.metrics import mean_squared_error\n",
        "from sklearn.metrics import mean_absolute_error\n",
        "\n",
        "# Scalers\n",
        "from sklearn.preprocessing import StandardScaler\n",
        "from sklearn.preprocessing import RobustScaler\n",
        "from sklearn.preprocessing import MinMaxScaler\n",
        "\n",
        "# Feature Engineering\n",
        "from sklearn.preprocessing import OneHotEncoder\n",
        "from sklearn.preprocessing import OrdinalEncoder\n",
        "\n",
        "# Plot style\n",
        "plt.style.use(\"seaborn-whitegrid\")"
      ],
      "execution_count": null,
      "outputs": []
    },
    {
      "cell_type": "code",
      "metadata": {
        "id": "TCvzsPycthjU"
      },
      "source": [
        "# Load Data\n",
        "df = sns.load_dataset(\"diamonds\")\n",
        "\n",
        "# Split Data\n",
        "train, test = train_test_split(\n",
        "    df, \n",
        "    train_size = .80,\n",
        "    test_size =.20,\n",
        "    random_state=42\n",
        ")\n",
        "\n",
        "train, val = train_test_split(\n",
        "    train,\n",
        "    train_size = .80,\n",
        "    test_size = .20,\n",
        "    random_state=42\n",
        ")\n",
        "\n"
      ],
      "execution_count": null,
      "outputs": []
    },
    {
      "cell_type": "code",
      "metadata": {
        "id": "jr5WG_0uvwpl"
      },
      "source": [
        "test, train = train_test_split(\n",
        "    df, \n",
        "    test_size = .80,\n",
        "    train_size =.20,\n",
        "    random_state=42\n",
        ")\n",
        "\n",
        "test, val = train_test_split(\n",
        "    test,\n",
        "    test_size = .80,\n",
        "    train_size = .20,\n",
        "    random_state=42\n",
        ")"
      ],
      "execution_count": null,
      "outputs": []
    },
    {
      "cell_type": "code",
      "metadata": {
        "collapsed": true,
        "jupyter": {
          "outputs_hidden": true
        },
        "id": "jFZmDIWEthjV",
        "colab": {
          "base_uri": "https://localhost:8080/"
        },
        "outputId": "399df305-2b53-41b1-a70c-b6834f1d79a5"
      },
      "source": [
        "df.info()"
      ],
      "execution_count": null,
      "outputs": [
        {
          "output_type": "stream",
          "text": [
            "<class 'pandas.core.frame.DataFrame'>\n",
            "RangeIndex: 53940 entries, 0 to 53939\n",
            "Data columns (total 10 columns):\n",
            " #   Column   Non-Null Count  Dtype   \n",
            "---  ------   --------------  -----   \n",
            " 0   carat    53940 non-null  float64 \n",
            " 1   cut      53940 non-null  category\n",
            " 2   color    53940 non-null  category\n",
            " 3   clarity  53940 non-null  category\n",
            " 4   depth    53940 non-null  float64 \n",
            " 5   table    53940 non-null  float64 \n",
            " 6   price    53940 non-null  int64   \n",
            " 7   x        53940 non-null  float64 \n",
            " 8   y        53940 non-null  float64 \n",
            " 9   z        53940 non-null  float64 \n",
            "dtypes: category(3), float64(6), int64(1)\n",
            "memory usage: 3.0 MB\n"
          ],
          "name": "stdout"
        }
      ]
    },
    {
      "cell_type": "code",
      "metadata": {
        "collapsed": true,
        "jupyter": {
          "outputs_hidden": true
        },
        "id": "DaRm9I9LthjX",
        "colab": {
          "base_uri": "https://localhost:8080/",
          "height": 202
        },
        "outputId": "a76de811-46be-4a84-a6fa-a1a18b1548f4"
      },
      "source": [
        "df.head()"
      ],
      "execution_count": null,
      "outputs": [
        {
          "output_type": "execute_result",
          "data": {
            "text/html": [
              "<div>\n",
              "<style scoped>\n",
              "    .dataframe tbody tr th:only-of-type {\n",
              "        vertical-align: middle;\n",
              "    }\n",
              "\n",
              "    .dataframe tbody tr th {\n",
              "        vertical-align: top;\n",
              "    }\n",
              "\n",
              "    .dataframe thead th {\n",
              "        text-align: right;\n",
              "    }\n",
              "</style>\n",
              "<table border=\"1\" class=\"dataframe\">\n",
              "  <thead>\n",
              "    <tr style=\"text-align: right;\">\n",
              "      <th></th>\n",
              "      <th>carat</th>\n",
              "      <th>cut</th>\n",
              "      <th>color</th>\n",
              "      <th>clarity</th>\n",
              "      <th>depth</th>\n",
              "      <th>table</th>\n",
              "      <th>price</th>\n",
              "      <th>x</th>\n",
              "      <th>y</th>\n",
              "      <th>z</th>\n",
              "    </tr>\n",
              "  </thead>\n",
              "  <tbody>\n",
              "    <tr>\n",
              "      <th>0</th>\n",
              "      <td>0.23</td>\n",
              "      <td>Ideal</td>\n",
              "      <td>E</td>\n",
              "      <td>SI2</td>\n",
              "      <td>61.5</td>\n",
              "      <td>55.0</td>\n",
              "      <td>326</td>\n",
              "      <td>3.95</td>\n",
              "      <td>3.98</td>\n",
              "      <td>2.43</td>\n",
              "    </tr>\n",
              "    <tr>\n",
              "      <th>1</th>\n",
              "      <td>0.21</td>\n",
              "      <td>Premium</td>\n",
              "      <td>E</td>\n",
              "      <td>SI1</td>\n",
              "      <td>59.8</td>\n",
              "      <td>61.0</td>\n",
              "      <td>326</td>\n",
              "      <td>3.89</td>\n",
              "      <td>3.84</td>\n",
              "      <td>2.31</td>\n",
              "    </tr>\n",
              "    <tr>\n",
              "      <th>2</th>\n",
              "      <td>0.23</td>\n",
              "      <td>Good</td>\n",
              "      <td>E</td>\n",
              "      <td>VS1</td>\n",
              "      <td>56.9</td>\n",
              "      <td>65.0</td>\n",
              "      <td>327</td>\n",
              "      <td>4.05</td>\n",
              "      <td>4.07</td>\n",
              "      <td>2.31</td>\n",
              "    </tr>\n",
              "    <tr>\n",
              "      <th>3</th>\n",
              "      <td>0.29</td>\n",
              "      <td>Premium</td>\n",
              "      <td>I</td>\n",
              "      <td>VS2</td>\n",
              "      <td>62.4</td>\n",
              "      <td>58.0</td>\n",
              "      <td>334</td>\n",
              "      <td>4.20</td>\n",
              "      <td>4.23</td>\n",
              "      <td>2.63</td>\n",
              "    </tr>\n",
              "    <tr>\n",
              "      <th>4</th>\n",
              "      <td>0.31</td>\n",
              "      <td>Good</td>\n",
              "      <td>J</td>\n",
              "      <td>SI2</td>\n",
              "      <td>63.3</td>\n",
              "      <td>58.0</td>\n",
              "      <td>335</td>\n",
              "      <td>4.34</td>\n",
              "      <td>4.35</td>\n",
              "      <td>2.75</td>\n",
              "    </tr>\n",
              "  </tbody>\n",
              "</table>\n",
              "</div>"
            ],
            "text/plain": [
              "   carat      cut color clarity  depth  table  price     x     y     z\n",
              "0   0.23    Ideal     E     SI2   61.5   55.0    326  3.95  3.98  2.43\n",
              "1   0.21  Premium     E     SI1   59.8   61.0    326  3.89  3.84  2.31\n",
              "2   0.23     Good     E     VS1   56.9   65.0    327  4.05  4.07  2.31\n",
              "3   0.29  Premium     I     VS2   62.4   58.0    334  4.20  4.23  2.63\n",
              "4   0.31     Good     J     SI2   63.3   58.0    335  4.34  4.35  2.75"
            ]
          },
          "metadata": {
            "tags": []
          },
          "execution_count": 4
        }
      ]
    },
    {
      "cell_type": "code",
      "metadata": {
        "collapsed": true,
        "jupyter": {
          "outputs_hidden": true
        },
        "id": "avA2VCSwthjY",
        "colab": {
          "base_uri": "https://localhost:8080/"
        },
        "outputId": "6c960408-77db-4cce-d627-e7ad6ea2d5c2"
      },
      "source": [
        "# Model with only numeric features\n",
        "train.dtypes"
      ],
      "execution_count": null,
      "outputs": [
        {
          "output_type": "execute_result",
          "data": {
            "text/plain": [
              "carat       float64\n",
              "cut        category\n",
              "color      category\n",
              "clarity    category\n",
              "depth       float64\n",
              "table       float64\n",
              "price         int64\n",
              "x           float64\n",
              "y           float64\n",
              "z           float64\n",
              "dtype: object"
            ]
          },
          "metadata": {
            "tags": []
          },
          "execution_count": 5
        }
      ]
    },
    {
      "cell_type": "code",
      "metadata": {
        "colab": {
          "base_uri": "https://localhost:8080/"
        },
        "id": "ZJII-iiJwSjE",
        "outputId": "f42c2b6a-6732-4f2e-eb52-92b9fb6204a9"
      },
      "source": [
        "# Model with only numeric features\n",
        "test.dtypes"
      ],
      "execution_count": null,
      "outputs": [
        {
          "output_type": "execute_result",
          "data": {
            "text/plain": [
              "carat       float64\n",
              "cut        category\n",
              "color      category\n",
              "clarity    category\n",
              "depth       float64\n",
              "table       float64\n",
              "price         int64\n",
              "x           float64\n",
              "y           float64\n",
              "z           float64\n",
              "dtype: object"
            ]
          },
          "metadata": {
            "tags": []
          },
          "execution_count": 24
        }
      ]
    },
    {
      "cell_type": "code",
      "metadata": {
        "id": "9vk_kyBxthjZ",
        "colab": {
          "base_uri": "https://localhost:8080/"
        },
        "outputId": "c5dc7643-3c6b-4cdb-dec8-02aa76efd967"
      },
      "source": [
        "(df.dtypes != \"category\").values"
      ],
      "execution_count": null,
      "outputs": [
        {
          "output_type": "execute_result",
          "data": {
            "text/plain": [
              "array([ True, False, False, False,  True,  True,  True,  True,  True,\n",
              "        True])"
            ]
          },
          "metadata": {
            "tags": []
          },
          "execution_count": 6
        }
      ]
    },
    {
      "cell_type": "code",
      "metadata": {
        "id": "Hp7lxb5CthjZ",
        "colab": {
          "base_uri": "https://localhost:8080/"
        },
        "outputId": "9bab1b26-f05d-4109-b203-5d196073517d"
      },
      "source": [
        "df.dtypes != \"category\""
      ],
      "execution_count": null,
      "outputs": [
        {
          "output_type": "execute_result",
          "data": {
            "text/plain": [
              "carat       True\n",
              "cut        False\n",
              "color      False\n",
              "clarity    False\n",
              "depth       True\n",
              "table       True\n",
              "price       True\n",
              "x           True\n",
              "y           True\n",
              "z           True\n",
              "dtype: bool"
            ]
          },
          "metadata": {
            "tags": []
          },
          "execution_count": 7
        }
      ]
    },
    {
      "cell_type": "code",
      "metadata": {
        "id": "bEb8AFKhthja"
      },
      "source": [
        "def cleaner(df):\n",
        "    \"Return Only Numeric Features\"\n",
        "    \n",
        "    # Create boolean array with only columns that are float64\n",
        "    columns_bool = (df.dtypes != \"category\").values\n",
        "\n",
        "    # Return only numeric columns\n",
        "    df = df.iloc[:, columns_bool].dropna()\n",
        "\n",
        "    return df\n",
        "\n",
        "train_numeric = cleaner(train)\n",
        "val_numeric = cleaner(val)"
      ],
      "execution_count": null,
      "outputs": []
    },
    {
      "cell_type": "code",
      "metadata": {
        "id": "C46FpblCthjc",
        "colab": {
          "base_uri": "https://localhost:8080/",
          "height": 415
        },
        "outputId": "75c0771c-77c8-4fff-8eab-b2814d5542f4"
      },
      "source": [
        "train_numeric"
      ],
      "execution_count": null,
      "outputs": [
        {
          "output_type": "execute_result",
          "data": {
            "text/html": [
              "<div>\n",
              "<style scoped>\n",
              "    .dataframe tbody tr th:only-of-type {\n",
              "        vertical-align: middle;\n",
              "    }\n",
              "\n",
              "    .dataframe tbody tr th {\n",
              "        vertical-align: top;\n",
              "    }\n",
              "\n",
              "    .dataframe thead th {\n",
              "        text-align: right;\n",
              "    }\n",
              "</style>\n",
              "<table border=\"1\" class=\"dataframe\">\n",
              "  <thead>\n",
              "    <tr style=\"text-align: right;\">\n",
              "      <th></th>\n",
              "      <th>carat</th>\n",
              "      <th>depth</th>\n",
              "      <th>table</th>\n",
              "      <th>price</th>\n",
              "      <th>x</th>\n",
              "      <th>y</th>\n",
              "      <th>z</th>\n",
              "    </tr>\n",
              "  </thead>\n",
              "  <tbody>\n",
              "    <tr>\n",
              "      <th>6881</th>\n",
              "      <td>1.16</td>\n",
              "      <td>60.8</td>\n",
              "      <td>65.0</td>\n",
              "      <td>4131</td>\n",
              "      <td>6.78</td>\n",
              "      <td>6.75</td>\n",
              "      <td>4.11</td>\n",
              "    </tr>\n",
              "    <tr>\n",
              "      <th>15412</th>\n",
              "      <td>1.51</td>\n",
              "      <td>61.3</td>\n",
              "      <td>55.0</td>\n",
              "      <td>6173</td>\n",
              "      <td>7.41</td>\n",
              "      <td>7.36</td>\n",
              "      <td>4.53</td>\n",
              "    </tr>\n",
              "    <tr>\n",
              "      <th>3782</th>\n",
              "      <td>1.01</td>\n",
              "      <td>64.0</td>\n",
              "      <td>59.0</td>\n",
              "      <td>3461</td>\n",
              "      <td>6.34</td>\n",
              "      <td>6.31</td>\n",
              "      <td>4.05</td>\n",
              "    </tr>\n",
              "    <tr>\n",
              "      <th>34635</th>\n",
              "      <td>0.31</td>\n",
              "      <td>61.9</td>\n",
              "      <td>55.0</td>\n",
              "      <td>872</td>\n",
              "      <td>4.39</td>\n",
              "      <td>4.36</td>\n",
              "      <td>2.71</td>\n",
              "    </tr>\n",
              "    <tr>\n",
              "      <th>37155</th>\n",
              "      <td>0.32</td>\n",
              "      <td>61.0</td>\n",
              "      <td>57.0</td>\n",
              "      <td>972</td>\n",
              "      <td>4.46</td>\n",
              "      <td>4.42</td>\n",
              "      <td>2.71</td>\n",
              "    </tr>\n",
              "    <tr>\n",
              "      <th>...</th>\n",
              "      <td>...</td>\n",
              "      <td>...</td>\n",
              "      <td>...</td>\n",
              "      <td>...</td>\n",
              "      <td>...</td>\n",
              "      <td>...</td>\n",
              "      <td>...</td>\n",
              "    </tr>\n",
              "    <tr>\n",
              "      <th>15653</th>\n",
              "      <td>1.54</td>\n",
              "      <td>61.5</td>\n",
              "      <td>61.0</td>\n",
              "      <td>6278</td>\n",
              "      <td>7.41</td>\n",
              "      <td>7.31</td>\n",
              "      <td>4.53</td>\n",
              "    </tr>\n",
              "    <tr>\n",
              "      <th>30039</th>\n",
              "      <td>0.32</td>\n",
              "      <td>61.3</td>\n",
              "      <td>56.0</td>\n",
              "      <td>719</td>\n",
              "      <td>4.40</td>\n",
              "      <td>4.44</td>\n",
              "      <td>2.71</td>\n",
              "    </tr>\n",
              "    <tr>\n",
              "      <th>47963</th>\n",
              "      <td>0.52</td>\n",
              "      <td>61.2</td>\n",
              "      <td>58.0</td>\n",
              "      <td>1919</td>\n",
              "      <td>5.20</td>\n",
              "      <td>5.16</td>\n",
              "      <td>3.17</td>\n",
              "    </tr>\n",
              "    <tr>\n",
              "      <th>48105</th>\n",
              "      <td>0.50</td>\n",
              "      <td>60.7</td>\n",
              "      <td>57.0</td>\n",
              "      <td>1935</td>\n",
              "      <td>5.14</td>\n",
              "      <td>5.10</td>\n",
              "      <td>3.11</td>\n",
              "    </tr>\n",
              "    <tr>\n",
              "      <th>49854</th>\n",
              "      <td>0.63</td>\n",
              "      <td>60.4</td>\n",
              "      <td>58.0</td>\n",
              "      <td>2171</td>\n",
              "      <td>5.59</td>\n",
              "      <td>5.64</td>\n",
              "      <td>3.39</td>\n",
              "    </tr>\n",
              "  </tbody>\n",
              "</table>\n",
              "<p>34521 rows × 7 columns</p>\n",
              "</div>"
            ],
            "text/plain": [
              "       carat  depth  table  price     x     y     z\n",
              "6881    1.16   60.8   65.0   4131  6.78  6.75  4.11\n",
              "15412   1.51   61.3   55.0   6173  7.41  7.36  4.53\n",
              "3782    1.01   64.0   59.0   3461  6.34  6.31  4.05\n",
              "34635   0.31   61.9   55.0    872  4.39  4.36  2.71\n",
              "37155   0.32   61.0   57.0    972  4.46  4.42  2.71\n",
              "...      ...    ...    ...    ...   ...   ...   ...\n",
              "15653   1.54   61.5   61.0   6278  7.41  7.31  4.53\n",
              "30039   0.32   61.3   56.0    719  4.40  4.44  2.71\n",
              "47963   0.52   61.2   58.0   1919  5.20  5.16  3.17\n",
              "48105   0.50   60.7   57.0   1935  5.14  5.10  3.11\n",
              "49854   0.63   60.4   58.0   2171  5.59  5.64  3.39\n",
              "\n",
              "[34521 rows x 7 columns]"
            ]
          },
          "metadata": {
            "tags": []
          },
          "execution_count": 9
        }
      ]
    },
    {
      "cell_type": "code",
      "metadata": {
        "id": "qOmoddZOthje"
      },
      "source": [
        "# Create X, y train and validation sets\n",
        "\n",
        "target = \"price\"\n",
        "\n",
        "X_train = train_numeric.drop(target, axis=1)\n",
        "y_train = train_numeric[target]\n",
        "\n",
        "X_val = val_numeric.drop(target, axis=1)\n",
        "y_val = val_numeric[target]"
      ],
      "execution_count": null,
      "outputs": []
    },
    {
      "cell_type": "code",
      "metadata": {
        "id": "76jvVqMbthje",
        "colab": {
          "base_uri": "https://localhost:8080/"
        },
        "outputId": "fc29f312-b18b-40b4-8e8b-48264fd2a3fb"
      },
      "source": [
        "y_train"
      ],
      "execution_count": null,
      "outputs": [
        {
          "output_type": "execute_result",
          "data": {
            "text/plain": [
              "6881     4131\n",
              "15412    6173\n",
              "3782     3461\n",
              "34635     872\n",
              "37155     972\n",
              "         ... \n",
              "15653    6278\n",
              "30039     719\n",
              "47963    1919\n",
              "48105    1935\n",
              "49854    2171\n",
              "Name: price, Length: 34521, dtype: int64"
            ]
          },
          "metadata": {
            "tags": []
          },
          "execution_count": 11
        }
      ]
    },
    {
      "cell_type": "code",
      "metadata": {
        "id": "cs4alQFHthjf",
        "colab": {
          "base_uri": "https://localhost:8080/",
          "height": 415
        },
        "outputId": "b8135111-6a20-4923-d172-511fc5aa19da"
      },
      "source": [
        "X_train"
      ],
      "execution_count": null,
      "outputs": [
        {
          "output_type": "execute_result",
          "data": {
            "text/html": [
              "<div>\n",
              "<style scoped>\n",
              "    .dataframe tbody tr th:only-of-type {\n",
              "        vertical-align: middle;\n",
              "    }\n",
              "\n",
              "    .dataframe tbody tr th {\n",
              "        vertical-align: top;\n",
              "    }\n",
              "\n",
              "    .dataframe thead th {\n",
              "        text-align: right;\n",
              "    }\n",
              "</style>\n",
              "<table border=\"1\" class=\"dataframe\">\n",
              "  <thead>\n",
              "    <tr style=\"text-align: right;\">\n",
              "      <th></th>\n",
              "      <th>carat</th>\n",
              "      <th>depth</th>\n",
              "      <th>table</th>\n",
              "      <th>x</th>\n",
              "      <th>y</th>\n",
              "      <th>z</th>\n",
              "    </tr>\n",
              "  </thead>\n",
              "  <tbody>\n",
              "    <tr>\n",
              "      <th>6881</th>\n",
              "      <td>1.16</td>\n",
              "      <td>60.8</td>\n",
              "      <td>65.0</td>\n",
              "      <td>6.78</td>\n",
              "      <td>6.75</td>\n",
              "      <td>4.11</td>\n",
              "    </tr>\n",
              "    <tr>\n",
              "      <th>15412</th>\n",
              "      <td>1.51</td>\n",
              "      <td>61.3</td>\n",
              "      <td>55.0</td>\n",
              "      <td>7.41</td>\n",
              "      <td>7.36</td>\n",
              "      <td>4.53</td>\n",
              "    </tr>\n",
              "    <tr>\n",
              "      <th>3782</th>\n",
              "      <td>1.01</td>\n",
              "      <td>64.0</td>\n",
              "      <td>59.0</td>\n",
              "      <td>6.34</td>\n",
              "      <td>6.31</td>\n",
              "      <td>4.05</td>\n",
              "    </tr>\n",
              "    <tr>\n",
              "      <th>34635</th>\n",
              "      <td>0.31</td>\n",
              "      <td>61.9</td>\n",
              "      <td>55.0</td>\n",
              "      <td>4.39</td>\n",
              "      <td>4.36</td>\n",
              "      <td>2.71</td>\n",
              "    </tr>\n",
              "    <tr>\n",
              "      <th>37155</th>\n",
              "      <td>0.32</td>\n",
              "      <td>61.0</td>\n",
              "      <td>57.0</td>\n",
              "      <td>4.46</td>\n",
              "      <td>4.42</td>\n",
              "      <td>2.71</td>\n",
              "    </tr>\n",
              "    <tr>\n",
              "      <th>...</th>\n",
              "      <td>...</td>\n",
              "      <td>...</td>\n",
              "      <td>...</td>\n",
              "      <td>...</td>\n",
              "      <td>...</td>\n",
              "      <td>...</td>\n",
              "    </tr>\n",
              "    <tr>\n",
              "      <th>15653</th>\n",
              "      <td>1.54</td>\n",
              "      <td>61.5</td>\n",
              "      <td>61.0</td>\n",
              "      <td>7.41</td>\n",
              "      <td>7.31</td>\n",
              "      <td>4.53</td>\n",
              "    </tr>\n",
              "    <tr>\n",
              "      <th>30039</th>\n",
              "      <td>0.32</td>\n",
              "      <td>61.3</td>\n",
              "      <td>56.0</td>\n",
              "      <td>4.40</td>\n",
              "      <td>4.44</td>\n",
              "      <td>2.71</td>\n",
              "    </tr>\n",
              "    <tr>\n",
              "      <th>47963</th>\n",
              "      <td>0.52</td>\n",
              "      <td>61.2</td>\n",
              "      <td>58.0</td>\n",
              "      <td>5.20</td>\n",
              "      <td>5.16</td>\n",
              "      <td>3.17</td>\n",
              "    </tr>\n",
              "    <tr>\n",
              "      <th>48105</th>\n",
              "      <td>0.50</td>\n",
              "      <td>60.7</td>\n",
              "      <td>57.0</td>\n",
              "      <td>5.14</td>\n",
              "      <td>5.10</td>\n",
              "      <td>3.11</td>\n",
              "    </tr>\n",
              "    <tr>\n",
              "      <th>49854</th>\n",
              "      <td>0.63</td>\n",
              "      <td>60.4</td>\n",
              "      <td>58.0</td>\n",
              "      <td>5.59</td>\n",
              "      <td>5.64</td>\n",
              "      <td>3.39</td>\n",
              "    </tr>\n",
              "  </tbody>\n",
              "</table>\n",
              "<p>34521 rows × 6 columns</p>\n",
              "</div>"
            ],
            "text/plain": [
              "       carat  depth  table     x     y     z\n",
              "6881    1.16   60.8   65.0  6.78  6.75  4.11\n",
              "15412   1.51   61.3   55.0  7.41  7.36  4.53\n",
              "3782    1.01   64.0   59.0  6.34  6.31  4.05\n",
              "34635   0.31   61.9   55.0  4.39  4.36  2.71\n",
              "37155   0.32   61.0   57.0  4.46  4.42  2.71\n",
              "...      ...    ...    ...   ...   ...   ...\n",
              "15653   1.54   61.5   61.0  7.41  7.31  4.53\n",
              "30039   0.32   61.3   56.0  4.40  4.44  2.71\n",
              "47963   0.52   61.2   58.0  5.20  5.16  3.17\n",
              "48105   0.50   60.7   57.0  5.14  5.10  3.11\n",
              "49854   0.63   60.4   58.0  5.59  5.64  3.39\n",
              "\n",
              "[34521 rows x 6 columns]"
            ]
          },
          "metadata": {
            "tags": []
          },
          "execution_count": 12
        }
      ]
    },
    {
      "cell_type": "code",
      "metadata": {
        "id": "lyhAvI9Zthjf",
        "colab": {
          "base_uri": "https://localhost:8080/",
          "height": 294
        },
        "outputId": "3cc37c83-e02f-481d-e0cf-682f304c94fe"
      },
      "source": [
        "X_train.describe()"
      ],
      "execution_count": null,
      "outputs": [
        {
          "output_type": "execute_result",
          "data": {
            "text/html": [
              "<div>\n",
              "<style scoped>\n",
              "    .dataframe tbody tr th:only-of-type {\n",
              "        vertical-align: middle;\n",
              "    }\n",
              "\n",
              "    .dataframe tbody tr th {\n",
              "        vertical-align: top;\n",
              "    }\n",
              "\n",
              "    .dataframe thead th {\n",
              "        text-align: right;\n",
              "    }\n",
              "</style>\n",
              "<table border=\"1\" class=\"dataframe\">\n",
              "  <thead>\n",
              "    <tr style=\"text-align: right;\">\n",
              "      <th></th>\n",
              "      <th>carat</th>\n",
              "      <th>depth</th>\n",
              "      <th>table</th>\n",
              "      <th>x</th>\n",
              "      <th>y</th>\n",
              "      <th>z</th>\n",
              "    </tr>\n",
              "  </thead>\n",
              "  <tbody>\n",
              "    <tr>\n",
              "      <th>count</th>\n",
              "      <td>34521.000000</td>\n",
              "      <td>34521.000000</td>\n",
              "      <td>34521.000000</td>\n",
              "      <td>34521.000000</td>\n",
              "      <td>34521.000000</td>\n",
              "      <td>34521.000000</td>\n",
              "    </tr>\n",
              "    <tr>\n",
              "      <th>mean</th>\n",
              "      <td>0.799955</td>\n",
              "      <td>61.745442</td>\n",
              "      <td>57.457409</td>\n",
              "      <td>5.737033</td>\n",
              "      <td>5.740898</td>\n",
              "      <td>3.541986</td>\n",
              "    </tr>\n",
              "    <tr>\n",
              "      <th>std</th>\n",
              "      <td>0.473342</td>\n",
              "      <td>1.433882</td>\n",
              "      <td>2.231511</td>\n",
              "      <td>1.120339</td>\n",
              "      <td>1.156860</td>\n",
              "      <td>0.711898</td>\n",
              "    </tr>\n",
              "    <tr>\n",
              "      <th>min</th>\n",
              "      <td>0.200000</td>\n",
              "      <td>43.000000</td>\n",
              "      <td>49.000000</td>\n",
              "      <td>0.000000</td>\n",
              "      <td>0.000000</td>\n",
              "      <td>0.000000</td>\n",
              "    </tr>\n",
              "    <tr>\n",
              "      <th>25%</th>\n",
              "      <td>0.400000</td>\n",
              "      <td>61.000000</td>\n",
              "      <td>56.000000</td>\n",
              "      <td>4.720000</td>\n",
              "      <td>4.730000</td>\n",
              "      <td>2.910000</td>\n",
              "    </tr>\n",
              "    <tr>\n",
              "      <th>50%</th>\n",
              "      <td>0.700000</td>\n",
              "      <td>61.800000</td>\n",
              "      <td>57.000000</td>\n",
              "      <td>5.700000</td>\n",
              "      <td>5.710000</td>\n",
              "      <td>3.530000</td>\n",
              "    </tr>\n",
              "    <tr>\n",
              "      <th>75%</th>\n",
              "      <td>1.050000</td>\n",
              "      <td>62.500000</td>\n",
              "      <td>59.000000</td>\n",
              "      <td>6.550000</td>\n",
              "      <td>6.540000</td>\n",
              "      <td>4.040000</td>\n",
              "    </tr>\n",
              "    <tr>\n",
              "      <th>max</th>\n",
              "      <td>5.010000</td>\n",
              "      <td>79.000000</td>\n",
              "      <td>95.000000</td>\n",
              "      <td>10.740000</td>\n",
              "      <td>58.900000</td>\n",
              "      <td>31.800000</td>\n",
              "    </tr>\n",
              "  </tbody>\n",
              "</table>\n",
              "</div>"
            ],
            "text/plain": [
              "              carat         depth  ...             y             z\n",
              "count  34521.000000  34521.000000  ...  34521.000000  34521.000000\n",
              "mean       0.799955     61.745442  ...      5.740898      3.541986\n",
              "std        0.473342      1.433882  ...      1.156860      0.711898\n",
              "min        0.200000     43.000000  ...      0.000000      0.000000\n",
              "25%        0.400000     61.000000  ...      4.730000      2.910000\n",
              "50%        0.700000     61.800000  ...      5.710000      3.530000\n",
              "75%        1.050000     62.500000  ...      6.540000      4.040000\n",
              "max        5.010000     79.000000  ...     58.900000     31.800000\n",
              "\n",
              "[8 rows x 6 columns]"
            ]
          },
          "metadata": {
            "tags": []
          },
          "execution_count": 13
        }
      ]
    },
    {
      "cell_type": "code",
      "metadata": {
        "id": "J5-1PZLzthjg",
        "colab": {
          "base_uri": "https://localhost:8080/"
        },
        "outputId": "32900f40-79f5-4cac-810b-cb3aef8e552b"
      },
      "source": [
        "lr = LinearRegression()\n",
        "lr.fit(X_train, y_train)\n",
        "lr.score(X_val, y_val)"
      ],
      "execution_count": null,
      "outputs": [
        {
          "output_type": "execute_result",
          "data": {
            "text/plain": [
              "0.8661014078099777"
            ]
          },
          "metadata": {
            "tags": []
          },
          "execution_count": 14
        }
      ]
    },
    {
      "cell_type": "code",
      "metadata": {
        "id": "lWTxZvz7thjh",
        "colab": {
          "base_uri": "https://localhost:8080/"
        },
        "outputId": "86ca6910-4054-4cf3-b668-8c972f46f748"
      },
      "source": [
        "# Same order as columns passed into the model\n",
        "lr.coef_"
      ],
      "execution_count": null,
      "outputs": [
        {
          "output_type": "execute_result",
          "data": {
            "text/plain": [
              "array([10648.67477587,  -200.44764091,  -105.60923409, -1273.05445187,\n",
              "          38.36164601,    54.22385327])"
            ]
          },
          "metadata": {
            "tags": []
          },
          "execution_count": 15
        }
      ]
    },
    {
      "cell_type": "code",
      "metadata": {
        "id": "4m6rLM32thjh",
        "colab": {
          "base_uri": "https://localhost:8080/",
          "height": 374
        },
        "outputId": "e1ab4955-f8e2-40d6-8611-116a55911319"
      },
      "source": [
        "def calc_cost(y_true, y_predict):\n",
        "    \n",
        "    \"Calculate Cost Functions and print output\"\n",
        "    \n",
        "    result_dict = {}\n",
        "    \n",
        "    mse = mean_squared_error(y_true, y_predict)\n",
        "    mae = mean_absolute_error(y_true, y_predict)\n",
        "    rmse = mean_squared_error(y_true, y_predict, squared=False)\n",
        "    \n",
        "    ls = [mse, mae, rmse]\n",
        "    ls2 = [\"MSE\", \"MAE\", \"RMSE\"]\n",
        "    \n",
        "    for x in range(len(ls)):\n",
        "        print(f\"{ls2[x]}: {ls[x]}\")\n",
        "        result_dict[ls2[x]] = ls[x]\n",
        "    \n",
        "    return result_dict\n",
        "\n",
        "# Save results to object and print results\n",
        "print(\"Baseline\")\n",
        "b_preds = [y.mean() for x in range(len(y_train))]\n",
        "res0 = calc_cost(y_train, b_preds)\n",
        "print(\"\\nLinear Regression\")\n",
        "res1 = calc_cost(y_train, lr.predict(X_train))"
      ],
      "execution_count": null,
      "outputs": [
        {
          "output_type": "stream",
          "text": [
            "Baseline\n"
          ],
          "name": "stdout"
        },
        {
          "output_type": "error",
          "ename": "NameError",
          "evalue": "ignored",
          "traceback": [
            "\u001b[0;31m---------------------------------------------------------------------------\u001b[0m",
            "\u001b[0;31mNameError\u001b[0m                                 Traceback (most recent call last)",
            "\u001b[0;32m<ipython-input-16-a3be93a17356>\u001b[0m in \u001b[0;36m<module>\u001b[0;34m()\u001b[0m\n\u001b[1;32m     20\u001b[0m \u001b[0;31m# Save results to object and print results\u001b[0m\u001b[0;34m\u001b[0m\u001b[0;34m\u001b[0m\u001b[0;34m\u001b[0m\u001b[0m\n\u001b[1;32m     21\u001b[0m \u001b[0mprint\u001b[0m\u001b[0;34m(\u001b[0m\u001b[0;34m\"Baseline\"\u001b[0m\u001b[0;34m)\u001b[0m\u001b[0;34m\u001b[0m\u001b[0;34m\u001b[0m\u001b[0m\n\u001b[0;32m---> 22\u001b[0;31m \u001b[0mb_preds\u001b[0m \u001b[0;34m=\u001b[0m \u001b[0;34m[\u001b[0m\u001b[0my\u001b[0m\u001b[0;34m.\u001b[0m\u001b[0mmean\u001b[0m\u001b[0;34m(\u001b[0m\u001b[0;34m)\u001b[0m \u001b[0;32mfor\u001b[0m \u001b[0mx\u001b[0m \u001b[0;32min\u001b[0m \u001b[0mrange\u001b[0m\u001b[0;34m(\u001b[0m\u001b[0mlen\u001b[0m\u001b[0;34m(\u001b[0m\u001b[0my_train\u001b[0m\u001b[0;34m)\u001b[0m\u001b[0;34m)\u001b[0m\u001b[0;34m]\u001b[0m\u001b[0;34m\u001b[0m\u001b[0;34m\u001b[0m\u001b[0m\n\u001b[0m\u001b[1;32m     23\u001b[0m \u001b[0mres0\u001b[0m \u001b[0;34m=\u001b[0m \u001b[0mcalc_cost\u001b[0m\u001b[0;34m(\u001b[0m\u001b[0my_train\u001b[0m\u001b[0;34m,\u001b[0m \u001b[0mb_preds\u001b[0m\u001b[0;34m)\u001b[0m\u001b[0;34m\u001b[0m\u001b[0;34m\u001b[0m\u001b[0m\n\u001b[1;32m     24\u001b[0m \u001b[0mprint\u001b[0m\u001b[0;34m(\u001b[0m\u001b[0;34m\"\\nLinear Regression\"\u001b[0m\u001b[0;34m)\u001b[0m\u001b[0;34m\u001b[0m\u001b[0;34m\u001b[0m\u001b[0m\n",
            "\u001b[0;32m<ipython-input-16-a3be93a17356>\u001b[0m in \u001b[0;36m<listcomp>\u001b[0;34m(.0)\u001b[0m\n\u001b[1;32m     20\u001b[0m \u001b[0;31m# Save results to object and print results\u001b[0m\u001b[0;34m\u001b[0m\u001b[0;34m\u001b[0m\u001b[0;34m\u001b[0m\u001b[0m\n\u001b[1;32m     21\u001b[0m \u001b[0mprint\u001b[0m\u001b[0;34m(\u001b[0m\u001b[0;34m\"Baseline\"\u001b[0m\u001b[0;34m)\u001b[0m\u001b[0;34m\u001b[0m\u001b[0;34m\u001b[0m\u001b[0m\n\u001b[0;32m---> 22\u001b[0;31m \u001b[0mb_preds\u001b[0m \u001b[0;34m=\u001b[0m \u001b[0;34m[\u001b[0m\u001b[0my\u001b[0m\u001b[0;34m.\u001b[0m\u001b[0mmean\u001b[0m\u001b[0;34m(\u001b[0m\u001b[0;34m)\u001b[0m \u001b[0;32mfor\u001b[0m \u001b[0mx\u001b[0m \u001b[0;32min\u001b[0m \u001b[0mrange\u001b[0m\u001b[0;34m(\u001b[0m\u001b[0mlen\u001b[0m\u001b[0;34m(\u001b[0m\u001b[0my_train\u001b[0m\u001b[0;34m)\u001b[0m\u001b[0;34m)\u001b[0m\u001b[0;34m]\u001b[0m\u001b[0;34m\u001b[0m\u001b[0;34m\u001b[0m\u001b[0m\n\u001b[0m\u001b[1;32m     23\u001b[0m \u001b[0mres0\u001b[0m \u001b[0;34m=\u001b[0m \u001b[0mcalc_cost\u001b[0m\u001b[0;34m(\u001b[0m\u001b[0my_train\u001b[0m\u001b[0;34m,\u001b[0m \u001b[0mb_preds\u001b[0m\u001b[0;34m)\u001b[0m\u001b[0;34m\u001b[0m\u001b[0;34m\u001b[0m\u001b[0m\n\u001b[1;32m     24\u001b[0m \u001b[0mprint\u001b[0m\u001b[0;34m(\u001b[0m\u001b[0;34m\"\\nLinear Regression\"\u001b[0m\u001b[0;34m)\u001b[0m\u001b[0;34m\u001b[0m\u001b[0;34m\u001b[0m\u001b[0m\n",
            "\u001b[0;31mNameError\u001b[0m: name 'y' is not defined"
          ]
        }
      ]
    },
    {
      "cell_type": "markdown",
      "metadata": {
        "id": "BwPdpU88thji"
      },
      "source": [
        "## Feature Scaling\n",
        "\n",
        "![](https://miro.medium.com/max/2625/1*yR54MSI1jjnf2QeGtt57PA.png)\n",
        "\n",
        "The `sklearn.preprocessing` package provides several common utility functions and transformer classes to change raw feature vectors into a representation that is more suitable for the downstream estimators.\n",
        "\n",
        "In general, learning algorithms benefit from standardization of the data set. If some outliers are present in the set, robust scalers or transformers are more appropriate. The behaviors of the different scalers, transformers, and normalizers on a dataset containing marginal outliers is highlighted in [Compare the effect of different scalers on data with outliers](https://scikit-learn.org/stable/auto_examples/preprocessing/plot_all_scaling.html#sphx-glr-auto-examples-preprocessing-plot-all-scaling-py).\n",
        "\n",
        "Standardization of datasets is a common requirement for many machine learning estimators implemented in scikit-learn; they might behave badly if the individual features do not more or less look like standard normally distributed data: Gaussian with zero mean and unit variance.\n",
        "\n",
        "In practice we often ignore the shape of the distribution and just transform the data to center it by removing the mean value of each feature, then scale it by dividing non-constant features by their standard deviation.\n",
        "\n",
        "For instance, many elements used in the objective function of a learning algorithm (such as the RBF kernel of Support Vector Machines or the l1 and l2 regularizers of linear models) assume that all features are centered around zero and have variance in the same order. If a feature has a variance that is orders of magnitude larger than others, it might dominate the objective function and make the estimator unable to learn from other features correctly as expected.\n",
        "\n",
        "Here is a list of ML algorithms that require feature scaling and some that dont.\n",
        "![](https://miro.medium.com/max/1184/1*5N0SXyZVXUV-MZuxb1mZ2g.png)"
      ]
    },
    {
      "cell_type": "markdown",
      "metadata": {
        "id": "14Nav4Zcthjj"
      },
      "source": [
        "#### Standard Scaler\n",
        "\n",
        "![](https://cdn-images-1.medium.com/max/800/0*vQEjz0mvylP--30Q.GIF)\n",
        "\n",
        "StandardScaler removes the mean and scales the data to unit variance. The scaling shrinks the range of the feature values as shown in the left figure below. However, the outliers have an influence when computing the empirical mean and standard deviation. Note in particular that because the outliers on each feature have different magnitudes, the spread of the transformed data on each feature is very different: most of the data lie in the [-2, 4] range for the transformed median income feature while the same data is squeezed in the smaller [-0.2, 0.2] range for the transformed number of households.\n",
        "\n",
        "StandardScaler therefore cannot guarantee balanced feature scales in the presence of outliers.\n",
        "\n",
        "![](https://scikit-learn.org/stable/_images/sphx_glr_plot_all_scaling_001.png)\n",
        "![](https://scikit-learn.org/stable/_images/sphx_glr_plot_all_scaling_002.png)\n",
        "\n",
        "The preprocessing module provides the StandardScaler utility class, which is a quick and easy way to perform the following operation on an array-like dataset:\n",
        "\n",
        "```python\n",
        ">>> from sklearn import preprocessing\n",
        ">>> import numpy as np\n",
        ">>> X_train = np.array([[ 1., -1.,  2.],\n",
        "...                     [ 2.,  0.,  0.],\n",
        "...                     [ 0.,  1., -1.]])\n",
        ">>> scaler = preprocessing.StandardScaler().fit(X_train)\n",
        ">>> scaler\n",
        "StandardScaler()\n",
        "\n",
        ">>> scaler.mean_\n",
        "array([1. ..., 0. ..., 0.33...])\n",
        "\n",
        ">>> scaler.scale_\n",
        "array([0.81..., 0.81..., 1.24...])\n",
        "\n",
        ">>> X_scaled = scaler.transform(X_train)\n",
        ">>> X_scaled\n",
        "array([[ 0.  ..., -1.22...,  1.33...],\n",
        "       [ 1.22...,  0.  ..., -0.26...],\n",
        "       [-1.22...,  1.22..., -1.06...]])\n",
        "```\n",
        "\n",
        "[Standard Scaler Docs](https://scikit-learn.org/stable/modules/generated/sklearn.preprocessing.StandardScaler.html)"
      ]
    },
    {
      "cell_type": "code",
      "metadata": {
        "id": "HGFvDXVothjl"
      },
      "source": [
        "# Instantiate Scaler Object\n",
        "scaler = StandardScaler()\n",
        "\n",
        "# Apply to X data\n",
        "X_train_scaled = scaler.fit_transform(X_train)\n",
        "X_val_scaled = scaler.transform(X_val)\n",
        "\n",
        "# Look at the transformed data\n",
        "X_train_scaled[:5]"
      ],
      "execution_count": null,
      "outputs": []
    },
    {
      "cell_type": "code",
      "metadata": {
        "id": "2Xl_0YRXthjm"
      },
      "source": [
        "# Train the model\n",
        "lr2 = LinearRegression()\n",
        "lr2.fit(X_train_scaled, y_train)\n",
        "lr2.score(X_val_scaled, y_val)"
      ],
      "execution_count": null,
      "outputs": []
    },
    {
      "cell_type": "code",
      "metadata": {
        "id": "6n3y9AVPthjn"
      },
      "source": [
        "res2 = calc_cost(y_val, lr2.predict(X_val_scaled))"
      ],
      "execution_count": null,
      "outputs": []
    },
    {
      "cell_type": "code",
      "metadata": {
        "id": "GjzRte1mthjo"
      },
      "source": [
        "lr2.coef_"
      ],
      "execution_count": null,
      "outputs": []
    },
    {
      "cell_type": "code",
      "metadata": {
        "id": "iXH2Gsekthjo"
      },
      "source": [
        "pd.DataFrame(X_train_scaled).describe()"
      ],
      "execution_count": null,
      "outputs": []
    },
    {
      "cell_type": "markdown",
      "metadata": {
        "id": "_C0VeZLithjp"
      },
      "source": [
        "#### Looking at the Parameters of the Model (Weights)\n",
        "\n",
        "We can look at calculated parameters of the model side by side and notice the scales have changed. Looking at the parameters of the model can help us understand which features or more important. "
      ]
    },
    {
      "cell_type": "code",
      "metadata": {
        "id": "5MbCD6zpthjp"
      },
      "source": [
        "fig, ax = plt.subplots(1,2)\n",
        "\n",
        "pd.Series(lr.coef_).plot(kind=\"bar\", title=\"Coefficients Lr1\", ax=ax[0])\n",
        "pd.Series(lr2.coef_).plot(kind=\"bar\", title=\"Coefficients Lr2\", ax=ax[1]);"
      ],
      "execution_count": null,
      "outputs": []
    },
    {
      "cell_type": "markdown",
      "metadata": {
        "id": "ogsphveVthjq"
      },
      "source": [
        "#### Robust Scaler\n",
        "\n",
        "Scale features using statistics that are robust to outliers.\n",
        "\n",
        "This Scaler removes the median and scales the data according to the quantile range (defaults to IQR: Interquartile Range). The IQR is the range between the 1st quartile (25th quantile) and the 3rd quartile (75th quantile).\n",
        "\n",
        "Centering and scaling happen independently on each feature by computing the relevant statistics on the samples in the training set. Median and interquartile range are then stored to be used on later data using the transform method.\n",
        "\n",
        "Standardization of a dataset is a common requirement for many machine learning estimators. Typically this is done by removing the mean and scaling to unit variance. However, outliers can often influence the sample mean / variance in a negative way. In such cases, the median and the interquartile range often give better results.\n",
        "\n",
        "[Robust Scaler Docs](https://scikit-learn.org/stable/modules/generated/sklearn.preprocessing.RobustScaler.html)"
      ]
    },
    {
      "cell_type": "code",
      "metadata": {
        "id": "kKfROu8Xthjr"
      },
      "source": [
        "df.columns"
      ],
      "execution_count": null,
      "outputs": []
    },
    {
      "cell_type": "code",
      "metadata": {
        "id": "JAP11986thjr"
      },
      "source": [
        "df[[\"carat\"]].plot(kind=\"box\")"
      ],
      "execution_count": null,
      "outputs": []
    },
    {
      "cell_type": "code",
      "metadata": {
        "id": "ExuZKT3kthjs"
      },
      "source": [
        "# Instantiate Scaler Object\n",
        "scaler2 = RobustScaler()\n",
        "\n",
        "# Apply to X data\n",
        "X_train_robust = scaler2.fit_transform(X_train)\n",
        "X_val_robust = scaler2.transform(X_val)\n",
        "\n",
        "# Look at the transformed data\n",
        "X_train_robust[:5]"
      ],
      "execution_count": null,
      "outputs": []
    },
    {
      "cell_type": "code",
      "metadata": {
        "id": "PlYBL_rMthjt"
      },
      "source": [
        "# Train the model\n",
        "lr3 = LinearRegression()\n",
        "lr3.fit(X_train_robust, y_train)\n",
        "lr3.score(X_val_robust, y_val)"
      ],
      "execution_count": null,
      "outputs": []
    },
    {
      "cell_type": "code",
      "metadata": {
        "id": "5MSRmabqthjt"
      },
      "source": [
        "res3 = calc_cost(y_val, lr3.predict(X_val_robust))"
      ],
      "execution_count": null,
      "outputs": []
    },
    {
      "cell_type": "code",
      "metadata": {
        "id": "b-my5UDHthju"
      },
      "source": [
        "lr2.coef_"
      ],
      "execution_count": null,
      "outputs": []
    },
    {
      "cell_type": "code",
      "metadata": {
        "id": "7TK1MG9_thju"
      },
      "source": [
        "fig, ax = plt.subplots(1,3)\n",
        "\n",
        "pd.Series(lr.coef_).plot(kind=\"bar\", title=\"Coefficients Lr\", ax=ax[0])\n",
        "pd.Series(lr2.coef_).plot(kind=\"bar\", title=\"Coefficients Lr2\", ax=ax[1])\n",
        "pd.Series(lr3.coef_).plot(kind=\"bar\", title=\"Coefficients Lr3\", ax=ax[2], figsize=(10,5))\n",
        "plt.tight_layout();"
      ],
      "execution_count": null,
      "outputs": []
    },
    {
      "cell_type": "markdown",
      "metadata": {
        "id": "omj5lOVrthjv"
      },
      "source": [
        "#### Min Max Scaler\n",
        "\n",
        "Transform features by scaling each feature to a given range.\n",
        "\n",
        "This estimator scales and translates each feature individually such that it is in the given range on the training set, e.g. between zero and one.\n",
        "\n",
        "The transformation is given by:\n",
        "\n",
        "```python\n",
        "X_std = (X - X.min(axis=0)) / (X.max(axis=0) - X.min(axis=0))\n",
        "X_scaled = X_std * (max - min) + min\n",
        "```\n",
        "\n",
        "where min, max = feature_range.\n",
        "\n",
        "This transformation is often used as an alternative to zero mean, unit variance scaling.\n",
        "\n",
        "[Min Max Scaler Docs](https://scikit-learn.org/stable/modules/generated/sklearn.preprocessing.MinMaxScaler.html)"
      ]
    },
    {
      "cell_type": "code",
      "metadata": {
        "id": "Rf-ZUyTYthjv"
      },
      "source": [
        "# Instantiate Scaler Object\n",
        "scaler3 = MinMaxScaler()\n",
        "\n",
        "# Apply to X data\n",
        "X_train_mm = scaler3.fit_transform(X_train)\n",
        "X_val_mm = scaler3.transform(X_val)\n",
        "\n",
        "# Look at the transformed data\n",
        "X_train_mm[:5]"
      ],
      "execution_count": null,
      "outputs": []
    },
    {
      "cell_type": "code",
      "metadata": {
        "id": "ppTMoEk9thjw"
      },
      "source": [
        "# Train the model\n",
        "lr4 = LinearRegression()\n",
        "lr4.fit(X_train_mm, y_train)\n",
        "lr4.score(X_val_mm, y_val)"
      ],
      "execution_count": null,
      "outputs": []
    },
    {
      "cell_type": "code",
      "metadata": {
        "id": "UsTusbyLthjx"
      },
      "source": [
        "res4 = calc_cost(y_val, lr4.predict(X_val_mm))"
      ],
      "execution_count": null,
      "outputs": []
    },
    {
      "cell_type": "code",
      "metadata": {
        "id": "Fji95v-cthjx"
      },
      "source": [
        "lr4.coef_"
      ],
      "execution_count": null,
      "outputs": []
    },
    {
      "cell_type": "code",
      "metadata": {
        "id": "ubeo7eiXthjx"
      },
      "source": [
        "fig, ax = plt.subplots(2,2)\n",
        "\n",
        "pd.Series(lr.coef_).plot(kind=\"bar\", title=\"Coefficients Lr1, No Scaler\", ax=ax[0,0])\n",
        "pd.Series(lr2.coef_).plot(kind=\"bar\", title=\"Coefficients Lr2, Standard Scaler\", ax=ax[0,1])\n",
        "pd.Series(lr3.coef_).plot(kind=\"bar\", title=\"Coefficients Lr3, Robust Scaler\", ax=ax[1,0])\n",
        "pd.Series(lr4.coef_).plot(kind=\"bar\", title=\"Coefficients Lr4, Min Max Scaler\", ax=ax[1,1], figsize=(10,5))\n",
        "\n",
        "plt.tight_layout();"
      ],
      "execution_count": null,
      "outputs": []
    },
    {
      "cell_type": "code",
      "metadata": {
        "id": "FNt7eabkthjy"
      },
      "source": [
        ""
      ],
      "execution_count": null,
      "outputs": []
    },
    {
      "cell_type": "markdown",
      "metadata": {
        "id": "duIxck6cuZYH"
      },
      "source": [
        "###Assignment:\n",
        "\n",
        "Show the results (MSE, MAE, RMSE) for all models finished during the lecture using the test data.\n"
      ]
    },
    {
      "cell_type": "code",
      "metadata": {
        "id": "5-ISu7BewcPz"
      },
      "source": [
        "test, train = train_test_split(\n",
        "    df, \n",
        "    test_size = .80,\n",
        "    train_size =.20,\n",
        "    random_state=42\n",
        ")\n",
        "\n",
        "test, val = train_test_split(\n",
        "    test,\n",
        "    test_size = .80,\n",
        "    train_size = .20,\n",
        "    random_state=42\n",
        ")"
      ],
      "execution_count": null,
      "outputs": []
    },
    {
      "cell_type": "code",
      "metadata": {
        "colab": {
          "base_uri": "https://localhost:8080/"
        },
        "id": "rf_pnPowwkNq",
        "outputId": "a35e00a0-b734-4141-e481-69e1045b5848"
      },
      "source": [
        "df.info()"
      ],
      "execution_count": null,
      "outputs": [
        {
          "output_type": "stream",
          "text": [
            "<class 'pandas.core.frame.DataFrame'>\n",
            "RangeIndex: 53940 entries, 0 to 53939\n",
            "Data columns (total 10 columns):\n",
            " #   Column   Non-Null Count  Dtype   \n",
            "---  ------   --------------  -----   \n",
            " 0   carat    53940 non-null  float64 \n",
            " 1   cut      53940 non-null  category\n",
            " 2   color    53940 non-null  category\n",
            " 3   clarity  53940 non-null  category\n",
            " 4   depth    53940 non-null  float64 \n",
            " 5   table    53940 non-null  float64 \n",
            " 6   price    53940 non-null  int64   \n",
            " 7   x        53940 non-null  float64 \n",
            " 8   y        53940 non-null  float64 \n",
            " 9   z        53940 non-null  float64 \n",
            "dtypes: category(3), float64(6), int64(1)\n",
            "memory usage: 3.0 MB\n"
          ],
          "name": "stdout"
        }
      ]
    },
    {
      "cell_type": "code",
      "metadata": {
        "colab": {
          "base_uri": "https://localhost:8080/",
          "height": 202
        },
        "id": "CgVUNCGrwkRT",
        "outputId": "15dd9cfa-1410-4ca1-bcf4-c35d8e94ac9b"
      },
      "source": [
        "df.head()"
      ],
      "execution_count": null,
      "outputs": [
        {
          "output_type": "execute_result",
          "data": {
            "text/html": [
              "<div>\n",
              "<style scoped>\n",
              "    .dataframe tbody tr th:only-of-type {\n",
              "        vertical-align: middle;\n",
              "    }\n",
              "\n",
              "    .dataframe tbody tr th {\n",
              "        vertical-align: top;\n",
              "    }\n",
              "\n",
              "    .dataframe thead th {\n",
              "        text-align: right;\n",
              "    }\n",
              "</style>\n",
              "<table border=\"1\" class=\"dataframe\">\n",
              "  <thead>\n",
              "    <tr style=\"text-align: right;\">\n",
              "      <th></th>\n",
              "      <th>carat</th>\n",
              "      <th>cut</th>\n",
              "      <th>color</th>\n",
              "      <th>clarity</th>\n",
              "      <th>depth</th>\n",
              "      <th>table</th>\n",
              "      <th>price</th>\n",
              "      <th>x</th>\n",
              "      <th>y</th>\n",
              "      <th>z</th>\n",
              "    </tr>\n",
              "  </thead>\n",
              "  <tbody>\n",
              "    <tr>\n",
              "      <th>0</th>\n",
              "      <td>0.23</td>\n",
              "      <td>Ideal</td>\n",
              "      <td>E</td>\n",
              "      <td>SI2</td>\n",
              "      <td>61.5</td>\n",
              "      <td>55.0</td>\n",
              "      <td>326</td>\n",
              "      <td>3.95</td>\n",
              "      <td>3.98</td>\n",
              "      <td>2.43</td>\n",
              "    </tr>\n",
              "    <tr>\n",
              "      <th>1</th>\n",
              "      <td>0.21</td>\n",
              "      <td>Premium</td>\n",
              "      <td>E</td>\n",
              "      <td>SI1</td>\n",
              "      <td>59.8</td>\n",
              "      <td>61.0</td>\n",
              "      <td>326</td>\n",
              "      <td>3.89</td>\n",
              "      <td>3.84</td>\n",
              "      <td>2.31</td>\n",
              "    </tr>\n",
              "    <tr>\n",
              "      <th>2</th>\n",
              "      <td>0.23</td>\n",
              "      <td>Good</td>\n",
              "      <td>E</td>\n",
              "      <td>VS1</td>\n",
              "      <td>56.9</td>\n",
              "      <td>65.0</td>\n",
              "      <td>327</td>\n",
              "      <td>4.05</td>\n",
              "      <td>4.07</td>\n",
              "      <td>2.31</td>\n",
              "    </tr>\n",
              "    <tr>\n",
              "      <th>3</th>\n",
              "      <td>0.29</td>\n",
              "      <td>Premium</td>\n",
              "      <td>I</td>\n",
              "      <td>VS2</td>\n",
              "      <td>62.4</td>\n",
              "      <td>58.0</td>\n",
              "      <td>334</td>\n",
              "      <td>4.20</td>\n",
              "      <td>4.23</td>\n",
              "      <td>2.63</td>\n",
              "    </tr>\n",
              "    <tr>\n",
              "      <th>4</th>\n",
              "      <td>0.31</td>\n",
              "      <td>Good</td>\n",
              "      <td>J</td>\n",
              "      <td>SI2</td>\n",
              "      <td>63.3</td>\n",
              "      <td>58.0</td>\n",
              "      <td>335</td>\n",
              "      <td>4.34</td>\n",
              "      <td>4.35</td>\n",
              "      <td>2.75</td>\n",
              "    </tr>\n",
              "  </tbody>\n",
              "</table>\n",
              "</div>"
            ],
            "text/plain": [
              "   carat      cut color clarity  depth  table  price     x     y     z\n",
              "0   0.23    Ideal     E     SI2   61.5   55.0    326  3.95  3.98  2.43\n",
              "1   0.21  Premium     E     SI1   59.8   61.0    326  3.89  3.84  2.31\n",
              "2   0.23     Good     E     VS1   56.9   65.0    327  4.05  4.07  2.31\n",
              "3   0.29  Premium     I     VS2   62.4   58.0    334  4.20  4.23  2.63\n",
              "4   0.31     Good     J     SI2   63.3   58.0    335  4.34  4.35  2.75"
            ]
          },
          "metadata": {
            "tags": []
          },
          "execution_count": 27
        }
      ]
    },
    {
      "cell_type": "code",
      "metadata": {
        "colab": {
          "base_uri": "https://localhost:8080/"
        },
        "id": "xRx8VnUewkeG",
        "outputId": "f8382a92-88c4-40f0-fcbf-ed4d86be61ed"
      },
      "source": [
        "# Model with only numeric features\n",
        "test.dtypes"
      ],
      "execution_count": null,
      "outputs": [
        {
          "output_type": "execute_result",
          "data": {
            "text/plain": [
              "carat       float64\n",
              "cut        category\n",
              "color      category\n",
              "clarity    category\n",
              "depth       float64\n",
              "table       float64\n",
              "price         int64\n",
              "x           float64\n",
              "y           float64\n",
              "z           float64\n",
              "dtype: object"
            ]
          },
          "metadata": {
            "tags": []
          },
          "execution_count": 29
        }
      ]
    },
    {
      "cell_type": "code",
      "metadata": {
        "colab": {
          "base_uri": "https://localhost:8080/"
        },
        "id": "XstpCLlaxGMp",
        "outputId": "6e479a45-28b9-4418-f334-a3756d3c0862"
      },
      "source": [
        "(df.dtypes != \"category\").values"
      ],
      "execution_count": null,
      "outputs": [
        {
          "output_type": "execute_result",
          "data": {
            "text/plain": [
              "array([ True, False, False, False,  True,  True,  True,  True,  True,\n",
              "        True])"
            ]
          },
          "metadata": {
            "tags": []
          },
          "execution_count": 30
        }
      ]
    },
    {
      "cell_type": "code",
      "metadata": {
        "colab": {
          "base_uri": "https://localhost:8080/"
        },
        "id": "EpTzncXnxKdX",
        "outputId": "feec6dea-8f36-4303-903d-8790dac21662"
      },
      "source": [
        "df.dtypes != \"category\""
      ],
      "execution_count": null,
      "outputs": [
        {
          "output_type": "execute_result",
          "data": {
            "text/plain": [
              "carat       True\n",
              "cut        False\n",
              "color      False\n",
              "clarity    False\n",
              "depth       True\n",
              "table       True\n",
              "price       True\n",
              "x           True\n",
              "y           True\n",
              "z           True\n",
              "dtype: bool"
            ]
          },
          "metadata": {
            "tags": []
          },
          "execution_count": 31
        }
      ]
    },
    {
      "cell_type": "code",
      "metadata": {
        "id": "W9f7gQ8pxRpn"
      },
      "source": [
        "def cleaner(df):\n",
        "    \"Return Only Numeric Features\"\n",
        "    \n",
        "    # Create boolean array with only columns that are float64\n",
        "    columns_bool = (df.dtypes != \"category\").values\n",
        "\n",
        "    # Return only numeric columns\n",
        "    df = df.iloc[:, columns_bool].dropna()\n",
        "\n",
        "    return df\n",
        "\n",
        "test_numeric = cleaner(test)\n",
        "val_numeric = cleaner(val)"
      ],
      "execution_count": null,
      "outputs": []
    },
    {
      "cell_type": "code",
      "metadata": {
        "colab": {
          "base_uri": "https://localhost:8080/",
          "height": 415
        },
        "id": "LT73crOqxbzA",
        "outputId": "dc30760c-40c2-42ad-c0bb-e34850e624a7"
      },
      "source": [
        "test_numeric"
      ],
      "execution_count": null,
      "outputs": [
        {
          "output_type": "execute_result",
          "data": {
            "text/html": [
              "<div>\n",
              "<style scoped>\n",
              "    .dataframe tbody tr th:only-of-type {\n",
              "        vertical-align: middle;\n",
              "    }\n",
              "\n",
              "    .dataframe tbody tr th {\n",
              "        vertical-align: top;\n",
              "    }\n",
              "\n",
              "    .dataframe thead th {\n",
              "        text-align: right;\n",
              "    }\n",
              "</style>\n",
              "<table border=\"1\" class=\"dataframe\">\n",
              "  <thead>\n",
              "    <tr style=\"text-align: right;\">\n",
              "      <th></th>\n",
              "      <th>carat</th>\n",
              "      <th>depth</th>\n",
              "      <th>table</th>\n",
              "      <th>price</th>\n",
              "      <th>x</th>\n",
              "      <th>y</th>\n",
              "      <th>z</th>\n",
              "    </tr>\n",
              "  </thead>\n",
              "  <tbody>\n",
              "    <tr>\n",
              "      <th>30734</th>\n",
              "      <td>0.41</td>\n",
              "      <td>64.2</td>\n",
              "      <td>57.0</td>\n",
              "      <td>739</td>\n",
              "      <td>4.67</td>\n",
              "      <td>4.71</td>\n",
              "      <td>3.01</td>\n",
              "    </tr>\n",
              "    <tr>\n",
              "      <th>29685</th>\n",
              "      <td>0.35</td>\n",
              "      <td>60.5</td>\n",
              "      <td>56.0</td>\n",
              "      <td>707</td>\n",
              "      <td>4.60</td>\n",
              "      <td>4.63</td>\n",
              "      <td>2.79</td>\n",
              "    </tr>\n",
              "    <tr>\n",
              "      <th>33397</th>\n",
              "      <td>0.39</td>\n",
              "      <td>62.1</td>\n",
              "      <td>53.0</td>\n",
              "      <td>828</td>\n",
              "      <td>4.73</td>\n",
              "      <td>4.77</td>\n",
              "      <td>2.95</td>\n",
              "    </tr>\n",
              "    <tr>\n",
              "      <th>52256</th>\n",
              "      <td>0.71</td>\n",
              "      <td>58.7</td>\n",
              "      <td>61.0</td>\n",
              "      <td>2489</td>\n",
              "      <td>5.83</td>\n",
              "      <td>5.86</td>\n",
              "      <td>3.43</td>\n",
              "    </tr>\n",
              "    <tr>\n",
              "      <th>27332</th>\n",
              "      <td>1.76</td>\n",
              "      <td>61.1</td>\n",
              "      <td>59.0</td>\n",
              "      <td>17888</td>\n",
              "      <td>7.81</td>\n",
              "      <td>7.90</td>\n",
              "      <td>4.80</td>\n",
              "    </tr>\n",
              "    <tr>\n",
              "      <th>...</th>\n",
              "      <td>...</td>\n",
              "      <td>...</td>\n",
              "      <td>...</td>\n",
              "      <td>...</td>\n",
              "      <td>...</td>\n",
              "      <td>...</td>\n",
              "      <td>...</td>\n",
              "    </tr>\n",
              "    <tr>\n",
              "      <th>44278</th>\n",
              "      <td>0.51</td>\n",
              "      <td>63.6</td>\n",
              "      <td>59.0</td>\n",
              "      <td>1577</td>\n",
              "      <td>4.99</td>\n",
              "      <td>5.07</td>\n",
              "      <td>3.20</td>\n",
              "    </tr>\n",
              "    <tr>\n",
              "      <th>39892</th>\n",
              "      <td>0.42</td>\n",
              "      <td>61.4</td>\n",
              "      <td>57.0</td>\n",
              "      <td>1103</td>\n",
              "      <td>4.83</td>\n",
              "      <td>4.78</td>\n",
              "      <td>2.95</td>\n",
              "    </tr>\n",
              "    <tr>\n",
              "      <th>4996</th>\n",
              "      <td>0.58</td>\n",
              "      <td>62.2</td>\n",
              "      <td>56.0</td>\n",
              "      <td>3741</td>\n",
              "      <td>5.34</td>\n",
              "      <td>5.36</td>\n",
              "      <td>3.33</td>\n",
              "    </tr>\n",
              "    <tr>\n",
              "      <th>29401</th>\n",
              "      <td>0.40</td>\n",
              "      <td>62.9</td>\n",
              "      <td>57.0</td>\n",
              "      <td>699</td>\n",
              "      <td>4.69</td>\n",
              "      <td>4.72</td>\n",
              "      <td>2.96</td>\n",
              "    </tr>\n",
              "    <tr>\n",
              "      <th>13074</th>\n",
              "      <td>1.26</td>\n",
              "      <td>61.6</td>\n",
              "      <td>56.0</td>\n",
              "      <td>5412</td>\n",
              "      <td>6.99</td>\n",
              "      <td>6.95</td>\n",
              "      <td>4.30</td>\n",
              "    </tr>\n",
              "  </tbody>\n",
              "</table>\n",
              "<p>2157 rows × 7 columns</p>\n",
              "</div>"
            ],
            "text/plain": [
              "       carat  depth  table  price     x     y     z\n",
              "30734   0.41   64.2   57.0    739  4.67  4.71  3.01\n",
              "29685   0.35   60.5   56.0    707  4.60  4.63  2.79\n",
              "33397   0.39   62.1   53.0    828  4.73  4.77  2.95\n",
              "52256   0.71   58.7   61.0   2489  5.83  5.86  3.43\n",
              "27332   1.76   61.1   59.0  17888  7.81  7.90  4.80\n",
              "...      ...    ...    ...    ...   ...   ...   ...\n",
              "44278   0.51   63.6   59.0   1577  4.99  5.07  3.20\n",
              "39892   0.42   61.4   57.0   1103  4.83  4.78  2.95\n",
              "4996    0.58   62.2   56.0   3741  5.34  5.36  3.33\n",
              "29401   0.40   62.9   57.0    699  4.69  4.72  2.96\n",
              "13074   1.26   61.6   56.0   5412  6.99  6.95  4.30\n",
              "\n",
              "[2157 rows x 7 columns]"
            ]
          },
          "metadata": {
            "tags": []
          },
          "execution_count": 33
        }
      ]
    },
    {
      "cell_type": "code",
      "metadata": {
        "id": "pszIh1QkxkJy"
      },
      "source": [
        "# Create X, y test and validation sets\n",
        "\n",
        "target = \"price\"\n",
        "\n",
        "X_test = test_numeric.drop(target, axis=1)\n",
        "y_test = test_numeric[target]\n",
        "\n",
        "X_val = val_numeric.drop(target, axis=1)\n",
        "y_val = val_numeric[target]"
      ],
      "execution_count": null,
      "outputs": []
    },
    {
      "cell_type": "code",
      "metadata": {
        "colab": {
          "base_uri": "https://localhost:8080/"
        },
        "id": "nH1O6RPAx3Ff",
        "outputId": "cf3a2f4f-10b1-4095-d665-cb9c4ba22a88"
      },
      "source": [
        "y_test"
      ],
      "execution_count": null,
      "outputs": [
        {
          "output_type": "execute_result",
          "data": {
            "text/plain": [
              "30734      739\n",
              "29685      707\n",
              "33397      828\n",
              "52256     2489\n",
              "27332    17888\n",
              "         ...  \n",
              "44278     1577\n",
              "39892     1103\n",
              "4996      3741\n",
              "29401      699\n",
              "13074     5412\n",
              "Name: price, Length: 2157, dtype: int64"
            ]
          },
          "metadata": {
            "tags": []
          },
          "execution_count": 35
        }
      ]
    },
    {
      "cell_type": "code",
      "metadata": {
        "colab": {
          "base_uri": "https://localhost:8080/",
          "height": 415
        },
        "id": "z3tDaDoRx-VI",
        "outputId": "094da70c-44ae-4677-97a9-e9368ac8be82"
      },
      "source": [
        "X_test"
      ],
      "execution_count": null,
      "outputs": [
        {
          "output_type": "execute_result",
          "data": {
            "text/html": [
              "<div>\n",
              "<style scoped>\n",
              "    .dataframe tbody tr th:only-of-type {\n",
              "        vertical-align: middle;\n",
              "    }\n",
              "\n",
              "    .dataframe tbody tr th {\n",
              "        vertical-align: top;\n",
              "    }\n",
              "\n",
              "    .dataframe thead th {\n",
              "        text-align: right;\n",
              "    }\n",
              "</style>\n",
              "<table border=\"1\" class=\"dataframe\">\n",
              "  <thead>\n",
              "    <tr style=\"text-align: right;\">\n",
              "      <th></th>\n",
              "      <th>carat</th>\n",
              "      <th>depth</th>\n",
              "      <th>table</th>\n",
              "      <th>x</th>\n",
              "      <th>y</th>\n",
              "      <th>z</th>\n",
              "    </tr>\n",
              "  </thead>\n",
              "  <tbody>\n",
              "    <tr>\n",
              "      <th>30734</th>\n",
              "      <td>0.41</td>\n",
              "      <td>64.2</td>\n",
              "      <td>57.0</td>\n",
              "      <td>4.67</td>\n",
              "      <td>4.71</td>\n",
              "      <td>3.01</td>\n",
              "    </tr>\n",
              "    <tr>\n",
              "      <th>29685</th>\n",
              "      <td>0.35</td>\n",
              "      <td>60.5</td>\n",
              "      <td>56.0</td>\n",
              "      <td>4.60</td>\n",
              "      <td>4.63</td>\n",
              "      <td>2.79</td>\n",
              "    </tr>\n",
              "    <tr>\n",
              "      <th>33397</th>\n",
              "      <td>0.39</td>\n",
              "      <td>62.1</td>\n",
              "      <td>53.0</td>\n",
              "      <td>4.73</td>\n",
              "      <td>4.77</td>\n",
              "      <td>2.95</td>\n",
              "    </tr>\n",
              "    <tr>\n",
              "      <th>52256</th>\n",
              "      <td>0.71</td>\n",
              "      <td>58.7</td>\n",
              "      <td>61.0</td>\n",
              "      <td>5.83</td>\n",
              "      <td>5.86</td>\n",
              "      <td>3.43</td>\n",
              "    </tr>\n",
              "    <tr>\n",
              "      <th>27332</th>\n",
              "      <td>1.76</td>\n",
              "      <td>61.1</td>\n",
              "      <td>59.0</td>\n",
              "      <td>7.81</td>\n",
              "      <td>7.90</td>\n",
              "      <td>4.80</td>\n",
              "    </tr>\n",
              "    <tr>\n",
              "      <th>...</th>\n",
              "      <td>...</td>\n",
              "      <td>...</td>\n",
              "      <td>...</td>\n",
              "      <td>...</td>\n",
              "      <td>...</td>\n",
              "      <td>...</td>\n",
              "    </tr>\n",
              "    <tr>\n",
              "      <th>44278</th>\n",
              "      <td>0.51</td>\n",
              "      <td>63.6</td>\n",
              "      <td>59.0</td>\n",
              "      <td>4.99</td>\n",
              "      <td>5.07</td>\n",
              "      <td>3.20</td>\n",
              "    </tr>\n",
              "    <tr>\n",
              "      <th>39892</th>\n",
              "      <td>0.42</td>\n",
              "      <td>61.4</td>\n",
              "      <td>57.0</td>\n",
              "      <td>4.83</td>\n",
              "      <td>4.78</td>\n",
              "      <td>2.95</td>\n",
              "    </tr>\n",
              "    <tr>\n",
              "      <th>4996</th>\n",
              "      <td>0.58</td>\n",
              "      <td>62.2</td>\n",
              "      <td>56.0</td>\n",
              "      <td>5.34</td>\n",
              "      <td>5.36</td>\n",
              "      <td>3.33</td>\n",
              "    </tr>\n",
              "    <tr>\n",
              "      <th>29401</th>\n",
              "      <td>0.40</td>\n",
              "      <td>62.9</td>\n",
              "      <td>57.0</td>\n",
              "      <td>4.69</td>\n",
              "      <td>4.72</td>\n",
              "      <td>2.96</td>\n",
              "    </tr>\n",
              "    <tr>\n",
              "      <th>13074</th>\n",
              "      <td>1.26</td>\n",
              "      <td>61.6</td>\n",
              "      <td>56.0</td>\n",
              "      <td>6.99</td>\n",
              "      <td>6.95</td>\n",
              "      <td>4.30</td>\n",
              "    </tr>\n",
              "  </tbody>\n",
              "</table>\n",
              "<p>2157 rows × 6 columns</p>\n",
              "</div>"
            ],
            "text/plain": [
              "       carat  depth  table     x     y     z\n",
              "30734   0.41   64.2   57.0  4.67  4.71  3.01\n",
              "29685   0.35   60.5   56.0  4.60  4.63  2.79\n",
              "33397   0.39   62.1   53.0  4.73  4.77  2.95\n",
              "52256   0.71   58.7   61.0  5.83  5.86  3.43\n",
              "27332   1.76   61.1   59.0  7.81  7.90  4.80\n",
              "...      ...    ...    ...   ...   ...   ...\n",
              "44278   0.51   63.6   59.0  4.99  5.07  3.20\n",
              "39892   0.42   61.4   57.0  4.83  4.78  2.95\n",
              "4996    0.58   62.2   56.0  5.34  5.36  3.33\n",
              "29401   0.40   62.9   57.0  4.69  4.72  2.96\n",
              "13074   1.26   61.6   56.0  6.99  6.95  4.30\n",
              "\n",
              "[2157 rows x 6 columns]"
            ]
          },
          "metadata": {
            "tags": []
          },
          "execution_count": 36
        }
      ]
    },
    {
      "cell_type": "code",
      "metadata": {
        "colab": {
          "base_uri": "https://localhost:8080/",
          "height": 294
        },
        "id": "xuoFvyTlyFBf",
        "outputId": "f5e82162-d4cd-4596-d424-77f2b8c98538"
      },
      "source": [
        "X_test.describe()"
      ],
      "execution_count": null,
      "outputs": [
        {
          "output_type": "execute_result",
          "data": {
            "text/html": [
              "<div>\n",
              "<style scoped>\n",
              "    .dataframe tbody tr th:only-of-type {\n",
              "        vertical-align: middle;\n",
              "    }\n",
              "\n",
              "    .dataframe tbody tr th {\n",
              "        vertical-align: top;\n",
              "    }\n",
              "\n",
              "    .dataframe thead th {\n",
              "        text-align: right;\n",
              "    }\n",
              "</style>\n",
              "<table border=\"1\" class=\"dataframe\">\n",
              "  <thead>\n",
              "    <tr style=\"text-align: right;\">\n",
              "      <th></th>\n",
              "      <th>carat</th>\n",
              "      <th>depth</th>\n",
              "      <th>table</th>\n",
              "      <th>x</th>\n",
              "      <th>y</th>\n",
              "      <th>z</th>\n",
              "    </tr>\n",
              "  </thead>\n",
              "  <tbody>\n",
              "    <tr>\n",
              "      <th>count</th>\n",
              "      <td>2157.000000</td>\n",
              "      <td>2157.000000</td>\n",
              "      <td>2157.000000</td>\n",
              "      <td>2157.000000</td>\n",
              "      <td>2157.000000</td>\n",
              "      <td>2157.000000</td>\n",
              "    </tr>\n",
              "    <tr>\n",
              "      <th>mean</th>\n",
              "      <td>0.787997</td>\n",
              "      <td>61.734261</td>\n",
              "      <td>57.557904</td>\n",
              "      <td>5.713713</td>\n",
              "      <td>5.714840</td>\n",
              "      <td>3.524942</td>\n",
              "    </tr>\n",
              "    <tr>\n",
              "      <th>std</th>\n",
              "      <td>0.463456</td>\n",
              "      <td>1.437307</td>\n",
              "      <td>2.236016</td>\n",
              "      <td>1.101009</td>\n",
              "      <td>1.092295</td>\n",
              "      <td>0.683692</td>\n",
              "    </tr>\n",
              "    <tr>\n",
              "      <th>min</th>\n",
              "      <td>0.200000</td>\n",
              "      <td>54.700000</td>\n",
              "      <td>50.000000</td>\n",
              "      <td>3.730000</td>\n",
              "      <td>3.680000</td>\n",
              "      <td>0.000000</td>\n",
              "    </tr>\n",
              "    <tr>\n",
              "      <th>25%</th>\n",
              "      <td>0.400000</td>\n",
              "      <td>61.000000</td>\n",
              "      <td>56.000000</td>\n",
              "      <td>4.700000</td>\n",
              "      <td>4.710000</td>\n",
              "      <td>2.910000</td>\n",
              "    </tr>\n",
              "    <tr>\n",
              "      <th>50%</th>\n",
              "      <td>0.700000</td>\n",
              "      <td>61.900000</td>\n",
              "      <td>57.000000</td>\n",
              "      <td>5.700000</td>\n",
              "      <td>5.720000</td>\n",
              "      <td>3.510000</td>\n",
              "    </tr>\n",
              "    <tr>\n",
              "      <th>75%</th>\n",
              "      <td>1.030000</td>\n",
              "      <td>62.500000</td>\n",
              "      <td>59.000000</td>\n",
              "      <td>6.500000</td>\n",
              "      <td>6.510000</td>\n",
              "      <td>4.020000</td>\n",
              "    </tr>\n",
              "    <tr>\n",
              "      <th>max</th>\n",
              "      <td>3.010000</td>\n",
              "      <td>69.600000</td>\n",
              "      <td>70.000000</td>\n",
              "      <td>9.440000</td>\n",
              "      <td>9.380000</td>\n",
              "      <td>5.650000</td>\n",
              "    </tr>\n",
              "  </tbody>\n",
              "</table>\n",
              "</div>"
            ],
            "text/plain": [
              "             carat        depth  ...            y            z\n",
              "count  2157.000000  2157.000000  ...  2157.000000  2157.000000\n",
              "mean      0.787997    61.734261  ...     5.714840     3.524942\n",
              "std       0.463456     1.437307  ...     1.092295     0.683692\n",
              "min       0.200000    54.700000  ...     3.680000     0.000000\n",
              "25%       0.400000    61.000000  ...     4.710000     2.910000\n",
              "50%       0.700000    61.900000  ...     5.720000     3.510000\n",
              "75%       1.030000    62.500000  ...     6.510000     4.020000\n",
              "max       3.010000    69.600000  ...     9.380000     5.650000\n",
              "\n",
              "[8 rows x 6 columns]"
            ]
          },
          "metadata": {
            "tags": []
          },
          "execution_count": 37
        }
      ]
    },
    {
      "cell_type": "code",
      "metadata": {
        "colab": {
          "base_uri": "https://localhost:8080/"
        },
        "id": "3Qp4APpQyO0r",
        "outputId": "09d0e6d9-a090-4f81-f9b6-7f8c5abce789"
      },
      "source": [
        "lr5 = LinearRegression()\n",
        "lr5.fit(X_test, y_test)\n",
        "lr5.score(X_val, y_val)"
      ],
      "execution_count": null,
      "outputs": [
        {
          "output_type": "execute_result",
          "data": {
            "text/plain": [
              "0.8631423236706628"
            ]
          },
          "metadata": {
            "tags": []
          },
          "execution_count": 40
        }
      ]
    },
    {
      "cell_type": "code",
      "metadata": {
        "colab": {
          "base_uri": "https://localhost:8080/"
        },
        "id": "GhlyHhInytQK",
        "outputId": "c5f7e76c-d48e-4450-cd00-6d83ca570266"
      },
      "source": [
        "# Same order as columns passed into the model\n",
        "lr5.coef_"
      ],
      "execution_count": null,
      "outputs": [
        {
          "output_type": "execute_result",
          "data": {
            "text/plain": [
              "array([11331.31926211,  -173.4842851 ,   -89.1395872 , -2454.46779437,\n",
              "         939.49937464,    88.26991304])"
            ]
          },
          "metadata": {
            "tags": []
          },
          "execution_count": 41
        }
      ]
    },
    {
      "cell_type": "code",
      "metadata": {
        "colab": {
          "base_uri": "https://localhost:8080/"
        },
        "id": "vqkpZcnByzgi",
        "outputId": "b04ead76-4d30-442a-9d92-647feb4dcad3"
      },
      "source": [
        "def calc_cost(y_true, y_predict):\n",
        "    \n",
        "    \"Calculate Cost Functions and print output\"\n",
        "    \n",
        "    result_dict = {}\n",
        "    \n",
        "    mse = mean_squared_error(y_true, y_predict)\n",
        "    mae = mean_absolute_error(y_true, y_predict)\n",
        "    rmse = mean_squared_error(y_true, y_predict, squared=False)\n",
        "    \n",
        "    ls = [mse, mae, rmse]\n",
        "    ls2 = [\"MSE\", \"MAE\", \"RMSE\"]\n",
        "    \n",
        "    for x in range(len(ls)):\n",
        "        print(f\"{ls2[x]}: {ls[x]}\")\n",
        "        result_dict[ls2[x]] = ls[x]\n",
        "    \n",
        "    return result_dict\n",
        "\n",
        "# Save results to object and print results\n",
        "print(\"Baseline\")\n",
        "b_preds = [y_test.mean() for x in range(len(y_test))]\n",
        "res0 = calc_cost(y_test, b_preds)\n",
        "print(\"\\nLinear Regression\")\n",
        "res1 = calc_cost(y_test, lr5.predict(X_test))"
      ],
      "execution_count": null,
      "outputs": [
        {
          "output_type": "stream",
          "text": [
            "Baseline\n",
            "MSE: 15477651.304509753\n",
            "MAE: 2969.0450046844285\n",
            "RMSE: 3934.164626005088\n",
            "\n",
            "Linear Regression\n",
            "MSE: 2170353.2487983797\n",
            "MAE: 864.5229885706963\n",
            "RMSE: 1473.2118818412985\n"
          ],
          "name": "stdout"
        }
      ]
    },
    {
      "cell_type": "markdown",
      "metadata": {
        "id": "nl6GGEFz0o85"
      },
      "source": [
        "##**Feature Scaling**"
      ]
    },
    {
      "cell_type": "markdown",
      "metadata": {
        "id": "oppcd2TouTsQ"
      },
      "source": [
        "\n",
        "##**1- Standard Scaler Docs**"
      ]
    },
    {
      "cell_type": "code",
      "metadata": {
        "colab": {
          "base_uri": "https://localhost:8080/"
        },
        "id": "7-yMF5W00zK4",
        "outputId": "5ca9d828-d89b-4c6f-d4ff-1d6a0e4cb32f"
      },
      "source": [
        "# Instantiate Scaler Object\n",
        "scaler6 = StandardScaler()\n",
        "\n",
        "# Apply to X data\n",
        "X_test_scaled = scaler6.fit_transform(X_test)\n",
        "X_val_scaled = scaler6.transform(X_val)\n",
        "\n",
        "# Look at the transformed data\n",
        "X_test_scaled[:5]"
      ],
      "execution_count": null,
      "outputs": [
        {
          "output_type": "execute_result",
          "data": {
            "text/plain": [
              "array([[-0.81579457,  1.71592466, -0.24956615, -0.94818115, -0.92014835,\n",
              "        -0.75335261],\n",
              "       [-0.94528673, -0.85893021, -0.69689386, -1.01177396, -0.99340565,\n",
              "        -1.07520936],\n",
              "       [-0.85895862,  0.25452054, -2.03887702, -0.89367302, -0.86520538,\n",
              "        -0.84113172],\n",
              "       [-0.1683338 , -2.11156231,  1.53974473,  0.10564267,  0.13292532,\n",
              "        -0.13889881],\n",
              "       [ 2.09777891, -0.44138618,  0.64508929,  1.9044109 ,  2.00098644,\n",
              "         1.86539094]])"
            ]
          },
          "metadata": {
            "tags": []
          },
          "execution_count": 52
        }
      ]
    },
    {
      "cell_type": "code",
      "metadata": {
        "colab": {
          "base_uri": "https://localhost:8080/"
        },
        "id": "GdC4Vb-p1Rco",
        "outputId": "79d6cc54-27ea-4554-e345-449a116c95b2"
      },
      "source": [
        "# Test the model\n",
        "lr6 = LinearRegression()\n",
        "lr6.fit(X_test_scaled, y_test)\n",
        "lr6.score(X_val_scaled, y_val)"
      ],
      "execution_count": null,
      "outputs": [
        {
          "output_type": "execute_result",
          "data": {
            "text/plain": [
              "0.8631423236706628"
            ]
          },
          "metadata": {
            "tags": []
          },
          "execution_count": 45
        }
      ]
    },
    {
      "cell_type": "code",
      "metadata": {
        "colab": {
          "base_uri": "https://localhost:8080/"
        },
        "id": "zx1qcuD71fLY",
        "outputId": "950d0220-ddae-4477-beb4-adb952becc70"
      },
      "source": [
        "res2 = calc_cost(y_val, lr6.predict(X_val_scaled))"
      ],
      "execution_count": null,
      "outputs": [
        {
          "output_type": "stream",
          "text": [
            "MSE: 2164706.439668235\n",
            "MAE: 880.7718755495545\n",
            "RMSE: 1471.2941377128623\n"
          ],
          "name": "stdout"
        }
      ]
    },
    {
      "cell_type": "code",
      "metadata": {
        "colab": {
          "base_uri": "https://localhost:8080/"
        },
        "id": "Ok9wGmky1xMj",
        "outputId": "3a5355bc-258e-49e9-d8c0-b60d258aa4d1"
      },
      "source": [
        "lr6.coef_"
      ],
      "execution_count": null,
      "outputs": [
        {
          "output_type": "execute_result",
          "data": {
            "text/plain": [
              "array([ 5250.35015377,  -249.29244042,  -199.27132506, -2701.76343193,\n",
              "        1025.97216998,    60.33547833])"
            ]
          },
          "metadata": {
            "tags": []
          },
          "execution_count": 49
        }
      ]
    },
    {
      "cell_type": "code",
      "metadata": {
        "colab": {
          "base_uri": "https://localhost:8080/",
          "height": 294
        },
        "id": "tosdiBdk12Yu",
        "outputId": "68064246-a523-4753-f8a9-c480b61980d3"
      },
      "source": [
        "pd.DataFrame(X_test_scaled).describe()"
      ],
      "execution_count": null,
      "outputs": [
        {
          "output_type": "execute_result",
          "data": {
            "text/html": [
              "<div>\n",
              "<style scoped>\n",
              "    .dataframe tbody tr th:only-of-type {\n",
              "        vertical-align: middle;\n",
              "    }\n",
              "\n",
              "    .dataframe tbody tr th {\n",
              "        vertical-align: top;\n",
              "    }\n",
              "\n",
              "    .dataframe thead th {\n",
              "        text-align: right;\n",
              "    }\n",
              "</style>\n",
              "<table border=\"1\" class=\"dataframe\">\n",
              "  <thead>\n",
              "    <tr style=\"text-align: right;\">\n",
              "      <th></th>\n",
              "      <th>0</th>\n",
              "      <th>1</th>\n",
              "      <th>2</th>\n",
              "      <th>3</th>\n",
              "      <th>4</th>\n",
              "      <th>5</th>\n",
              "    </tr>\n",
              "  </thead>\n",
              "  <tbody>\n",
              "    <tr>\n",
              "      <th>count</th>\n",
              "      <td>2.157000e+03</td>\n",
              "      <td>2.157000e+03</td>\n",
              "      <td>2.157000e+03</td>\n",
              "      <td>2.157000e+03</td>\n",
              "      <td>2.157000e+03</td>\n",
              "      <td>2.157000e+03</td>\n",
              "    </tr>\n",
              "    <tr>\n",
              "      <th>mean</th>\n",
              "      <td>-7.998547e-17</td>\n",
              "      <td>5.557980e-15</td>\n",
              "      <td>1.481121e-15</td>\n",
              "      <td>8.554431e-17</td>\n",
              "      <td>-1.019120e-17</td>\n",
              "      <td>6.055013e-16</td>\n",
              "    </tr>\n",
              "    <tr>\n",
              "      <th>std</th>\n",
              "      <td>1.000232e+00</td>\n",
              "      <td>1.000232e+00</td>\n",
              "      <td>1.000232e+00</td>\n",
              "      <td>1.000232e+00</td>\n",
              "      <td>1.000232e+00</td>\n",
              "      <td>1.000232e+00</td>\n",
              "    </tr>\n",
              "    <tr>\n",
              "      <th>min</th>\n",
              "      <td>-1.269017e+00</td>\n",
              "      <td>-4.895189e+00</td>\n",
              "      <td>-3.380860e+00</td>\n",
              "      <td>-1.802142e+00</td>\n",
              "      <td>-1.863336e+00</td>\n",
              "      <td>-5.156938e+00</td>\n",
              "    </tr>\n",
              "    <tr>\n",
              "      <th>25%</th>\n",
              "      <td>-8.373766e-01</td>\n",
              "      <td>-5.109769e-01</td>\n",
              "      <td>-6.968939e-01</td>\n",
              "      <td>-9.209271e-01</td>\n",
              "      <td>-9.201484e-01</td>\n",
              "      <td>-8.996511e-01</td>\n",
              "    </tr>\n",
              "    <tr>\n",
              "      <th>50%</th>\n",
              "      <td>-1.899158e-01</td>\n",
              "      <td>1.153392e-01</td>\n",
              "      <td>-2.495661e-01</td>\n",
              "      <td>-1.245828e-02</td>\n",
              "      <td>4.725045e-03</td>\n",
              "      <td>-2.186000e-02</td>\n",
              "    </tr>\n",
              "    <tr>\n",
              "      <th>75%</th>\n",
              "      <td>5.222910e-01</td>\n",
              "      <td>5.328832e-01</td>\n",
              "      <td>6.450893e-01</td>\n",
              "      <td>7.143168e-01</td>\n",
              "      <td>7.281409e-01</td>\n",
              "      <td>7.242625e-01</td>\n",
              "    </tr>\n",
              "    <tr>\n",
              "      <th>max</th>\n",
              "      <td>4.795532e+00</td>\n",
              "      <td>5.473821e+00</td>\n",
              "      <td>5.565694e+00</td>\n",
              "      <td>3.385215e+00</td>\n",
              "      <td>3.356246e+00</td>\n",
              "      <td>3.108928e+00</td>\n",
              "    </tr>\n",
              "  </tbody>\n",
              "</table>\n",
              "</div>"
            ],
            "text/plain": [
              "                  0             1  ...             4             5\n",
              "count  2.157000e+03  2.157000e+03  ...  2.157000e+03  2.157000e+03\n",
              "mean  -7.998547e-17  5.557980e-15  ... -1.019120e-17  6.055013e-16\n",
              "std    1.000232e+00  1.000232e+00  ...  1.000232e+00  1.000232e+00\n",
              "min   -1.269017e+00 -4.895189e+00  ... -1.863336e+00 -5.156938e+00\n",
              "25%   -8.373766e-01 -5.109769e-01  ... -9.201484e-01 -8.996511e-01\n",
              "50%   -1.899158e-01  1.153392e-01  ...  4.725045e-03 -2.186000e-02\n",
              "75%    5.222910e-01  5.328832e-01  ...  7.281409e-01  7.242625e-01\n",
              "max    4.795532e+00  5.473821e+00  ...  3.356246e+00  3.108928e+00\n",
              "\n",
              "[8 rows x 6 columns]"
            ]
          },
          "metadata": {
            "tags": []
          },
          "execution_count": 50
        }
      ]
    },
    {
      "cell_type": "code",
      "metadata": {
        "colab": {
          "base_uri": "https://localhost:8080/",
          "height": 272
        },
        "id": "MGoPgAAqBafy",
        "outputId": "00451852-9bc5-4d10-9e35-7297c3f9c497"
      },
      "source": [
        "fig, ax = plt.subplots(1,2)\n",
        "\n",
        "pd.Series(lr5.coef_).plot(kind=\"bar\", title=\"Coefficients Lr5, No Scaler\", color=\"green\", ax=ax[0])\n",
        "pd.Series(lr6.coef_).plot(kind=\"bar\", title=\"Coefficients Lr6, Standard Scaler\", color=\"Red\", ax=ax[1]);\n"
      ],
      "execution_count": null,
      "outputs": [
        {
          "output_type": "display_data",
          "data": {
            "image/png": "[encoded data removed]",
            "text/plain": [
              "<Figure size 432x288 with 2 Axes>"
            ]
          },
          "metadata": {
            "tags": [],
            "needs_background": "light"
          }
        }
      ]
    },
    {
      "cell_type": "markdown",
      "metadata": {
        "id": "SzQcAwCK2Dti"
      },
      "source": [
        "##**2- Robust Scaler**"
      ]
    },
    {
      "cell_type": "code",
      "metadata": {
        "colab": {
          "base_uri": "https://localhost:8080/"
        },
        "id": "cXigmWUM2FUX",
        "outputId": "16c2e7b3-c2d3-4733-e150-886932fbdb3c"
      },
      "source": [
        "df.columns"
      ],
      "execution_count": null,
      "outputs": [
        {
          "output_type": "execute_result",
          "data": {
            "text/plain": [
              "Index(['carat', 'cut', 'color', 'clarity', 'depth', 'table', 'price', 'x', 'y',\n",
              "       'z'],\n",
              "      dtype='object')"
            ]
          },
          "metadata": {
            "tags": []
          },
          "execution_count": 51
        }
      ]
    },
    {
      "cell_type": "code",
      "metadata": {
        "colab": {
          "base_uri": "https://localhost:8080/"
        },
        "id": "LABCHwpH2Oze",
        "outputId": "5792e389-9540-48e2-d876-85be4274f7f0"
      },
      "source": [
        "# Instantiate Scaler Object\n",
        "scaler7 = RobustScaler()\n",
        "\n",
        "# Apply to X data\n",
        "X_test_robust = scaler7.fit_transform(X_test)\n",
        "X_val_robust = scaler7.transform(X_val)\n",
        "\n",
        "# Look at the transformed data\n",
        "X_test_robust[:5]"
      ],
      "execution_count": null,
      "outputs": [
        {
          "output_type": "execute_result",
          "data": {
            "text/plain": [
              "array([[-0.46031746,  1.53333333,  0.        , -0.57222222, -0.56111111,\n",
              "        -0.45045045],\n",
              "       [-0.55555556, -0.93333333, -0.33333333, -0.61111111, -0.60555556,\n",
              "        -0.64864865],\n",
              "       [-0.49206349,  0.13333333, -1.33333333, -0.53888889, -0.52777778,\n",
              "        -0.5045045 ],\n",
              "       [ 0.01587302, -2.13333333,  1.33333333,  0.07222222,  0.07777778,\n",
              "        -0.07207207],\n",
              "       [ 1.68253968, -0.53333333,  0.66666667,  1.17222222,  1.21111111,\n",
              "         1.16216216]])"
            ]
          },
          "metadata": {
            "tags": []
          },
          "execution_count": 54
        }
      ]
    },
    {
      "cell_type": "code",
      "metadata": {
        "colab": {
          "base_uri": "https://localhost:8080/"
        },
        "id": "s6ZYpUnB2kad",
        "outputId": "ad1b9bd8-723d-4328-ce98-7935710c51ae"
      },
      "source": [
        "# Test the model\n",
        "lr7 = LinearRegression()\n",
        "lr7.fit(X_test_robust, y_test)\n",
        "lr7.score(X_val_robust, y_val)"
      ],
      "execution_count": null,
      "outputs": [
        {
          "output_type": "execute_result",
          "data": {
            "text/plain": [
              "0.8631423236706628"
            ]
          },
          "metadata": {
            "tags": []
          },
          "execution_count": 55
        }
      ]
    },
    {
      "cell_type": "code",
      "metadata": {
        "colab": {
          "base_uri": "https://localhost:8080/"
        },
        "id": "NVVR0gcc3HiV",
        "outputId": "07592d58-2592-4b7e-dc82-c288fae7a1e9"
      },
      "source": [
        "res3 = calc_cost(y_val, lr7.predict(X_val_robust))"
      ],
      "execution_count": null,
      "outputs": [
        {
          "output_type": "stream",
          "text": [
            "MSE: 2164706.4396682344\n",
            "MAE: 880.7718755495541\n",
            "RMSE: 1471.294137712862\n"
          ],
          "name": "stdout"
        }
      ]
    },
    {
      "cell_type": "code",
      "metadata": {
        "colab": {
          "base_uri": "https://localhost:8080/"
        },
        "id": "oa-vdk9d3PMr",
        "outputId": "25c58773-f3cd-448a-99c0-24a2ee4cf21c"
      },
      "source": [
        "lr7.coef_"
      ],
      "execution_count": null,
      "outputs": [
        {
          "output_type": "execute_result",
          "data": {
            "text/plain": [
              "array([ 7138.73113513,  -260.22642765,  -267.4187616 , -4418.04202987,\n",
              "        1691.09887435,    97.97960347])"
            ]
          },
          "metadata": {
            "tags": []
          },
          "execution_count": 57
        }
      ]
    },
    {
      "cell_type": "code",
      "metadata": {
        "colab": {
          "base_uri": "https://localhost:8080/",
          "height": 369
        },
        "id": "kWGpX6A-CT65",
        "outputId": "99450480-6c41-4034-f87e-86c3e08a380d"
      },
      "source": [
        "fig, ax = plt.subplots(1,3)\n",
        "\n",
        "pd.Series(lr5.coef_).plot(kind=\"bar\", title=\"Coefficients Lr5\", color=\"green\", ax=ax[0])\n",
        "pd.Series(lr6.coef_).plot(kind=\"bar\", title=\"Coefficients Lr6\", color=\"red\", ax=ax[1])\n",
        "pd.Series(lr7.coef_).plot(kind=\"bar\", title=\"Coefficients Lr7\", color=\"black\", ax=ax[2], figsize=(10,5))\n",
        "plt.tight_layout();"
      ],
      "execution_count": null,
      "outputs": [
        {
          "output_type": "display_data",
          "data": {
            "image/png": "[encoded data removed]",
            "text/plain": [
              "<Figure size 720x360 with 3 Axes>"
            ]
          },
          "metadata": {
            "tags": [],
            "needs_background": "light"
          }
        }
      ]
    },
    {
      "cell_type": "markdown",
      "metadata": {
        "id": "2FPMpXpV7uJt"
      },
      "source": [
        "##**3- Min Max Scaler**"
      ]
    },
    {
      "cell_type": "code",
      "metadata": {
        "colab": {
          "base_uri": "https://localhost:8080/"
        },
        "id": "vJrYpxwJ7r1w",
        "outputId": "4bb97fdb-d070-4aae-c6a3-b7138b82ae6c"
      },
      "source": [
        "# Instantiate Scaler Object\n",
        "scaler3 = MinMaxScaler()\n",
        "\n",
        "# Apply to X data\n",
        "X_test_mm = scaler3.fit_transform(X_test)\n",
        "X_val_mm = scaler3.transform(X_val)\n",
        "\n",
        "# Look at the transformed data\n",
        "X_test_mm[:5]"
      ],
      "execution_count": null,
      "outputs": [
        {
          "output_type": "execute_result",
          "data": {
            "text/plain": [
              "array([[0.0747331 , 0.63758389, 0.35      , 0.16462347, 0.18070175,\n",
              "        0.53274336],\n",
              "       [0.05338078, 0.38926174, 0.3       , 0.15236427, 0.16666667,\n",
              "        0.49380531],\n",
              "       [0.06761566, 0.4966443 , 0.15      , 0.17513135, 0.19122807,\n",
              "        0.52212389],\n",
              "       [0.18149466, 0.26845638, 0.55      , 0.36777583, 0.38245614,\n",
              "        0.60707965],\n",
              "       [0.55516014, 0.4295302 , 0.45      , 0.7145359 , 0.74035088,\n",
              "        0.84955752]])"
            ]
          },
          "metadata": {
            "tags": []
          },
          "execution_count": 58
        }
      ]
    },
    {
      "cell_type": "code",
      "metadata": {
        "colab": {
          "base_uri": "https://localhost:8080/"
        },
        "id": "MMOkAx0u8AC_",
        "outputId": "e0a7e28e-278f-4765-fc2d-46c15d19b6f6"
      },
      "source": [
        "# Test the model\n",
        "lr8 = LinearRegression()\n",
        "lr8.fit(X_test_mm, y_test)\n",
        "lr8.score(X_val_mm, y_val)"
      ],
      "execution_count": null,
      "outputs": [
        {
          "output_type": "execute_result",
          "data": {
            "text/plain": [
              "0.8631423236706628"
            ]
          },
          "metadata": {
            "tags": []
          },
          "execution_count": 59
        }
      ]
    },
    {
      "cell_type": "code",
      "metadata": {
        "colab": {
          "base_uri": "https://localhost:8080/"
        },
        "id": "QXo5inqR8KpM",
        "outputId": "942b53c8-bb0a-4011-d61e-6edaca2f4f0c"
      },
      "source": [
        "res4 = calc_cost(y_val, lr8.predict(X_val_mm))"
      ],
      "execution_count": null,
      "outputs": [
        {
          "output_type": "stream",
          "text": [
            "MSE: 2164706.4396682354\n",
            "MAE: 880.7718755495533\n",
            "RMSE: 1471.2941377128625\n"
          ],
          "name": "stdout"
        }
      ]
    },
    {
      "cell_type": "code",
      "metadata": {
        "colab": {
          "base_uri": "https://localhost:8080/"
        },
        "id": "irjPKXsJ8RuM",
        "outputId": "1be4e6b8-0dd9-4bd5-eaa1-1154845944e8"
      },
      "source": [
        "lr8.coef_"
      ],
      "execution_count": null,
      "outputs": [
        {
          "output_type": "execute_result",
          "data": {
            "text/plain": [
              "array([ 31841.00712653,  -2584.91584799,  -1782.79174397, -14015.01110588,\n",
              "         5355.14643546,    498.72500868])"
            ]
          },
          "metadata": {
            "tags": []
          },
          "execution_count": 61
        }
      ]
    },
    {
      "cell_type": "code",
      "metadata": {
        "colab": {
          "base_uri": "https://localhost:8080/",
          "height": 348
        },
        "id": "bZBFlXWP8WkU",
        "outputId": "6df203ad-639e-40ce-d520-f68c95bc7901"
      },
      "source": [
        "fig, ax = plt.subplots(2,2)\n",
        "\n",
        "\n",
        "pd.Series(lr5.coef_).plot(kind=\"bar\", title=\"Coefficients Lr5, No Scaler\", color=\"green\", ax=ax[0,0])\n",
        "pd.Series(lr6.coef_).plot(kind=\"bar\", title=\"Coefficients Lr6, Standard Scaler\", color=\"Red\", ax=ax[0,1])\n",
        "pd.Series(lr7.coef_).plot(kind=\"bar\", title=\"Coefficients Lr7, Robust Scaler\", color=\"black\", ax=ax[1,0])\n",
        "pd.Series(lr8.coef_).plot(kind=\"bar\", title=\"Coefficients Lr8, Min Max Scaler\", ax=ax[1,1], figsize=(10,5))\n",
        "\n",
        "# Add title\n",
        "fig.suptitle('Compare between Test Models:', fontsize=16)\n",
        "\n",
        "plt.show()\n",
        "#plt.tight_layout();"
      ],
      "execution_count": null,
      "outputs": [
        {
          "output_type": "display_data",
          "data": {
            "image/png": "[encoded data removed]",
            "text/plain": [
              "<Figure size 720x360 with 4 Axes>"
            ]
          },
          "metadata": {
            "tags": [],
            "needs_background": "light"
          }
        }
      ]
    },
    {
      "cell_type": "code",
      "metadata": {
        "colab": {
          "base_uri": "https://localhost:8080/",
          "height": 369
        },
        "id": "7O2mhSHGALvu",
        "outputId": "fb8f231a-0b65-46f9-a920-de78cb1f5223"
      },
      "source": [
        "fig, ax = plt.subplots(2,2)\n",
        "\n",
        "\n",
        "pd.Series(lr5.coef_).plot(kind=\"bar\", title=\"Coefficients Lr5, No Scaler\", color=\"green\", ax=ax[0,0])\n",
        "pd.Series(lr6.coef_).plot(kind=\"bar\", title=\"Coefficients Lr6, Standard Scaler\", color=\"Red\", ax=ax[0,1])\n",
        "pd.Series(lr7.coef_).plot(kind=\"bar\", title=\"Coefficients Lr7, Robust Scaler\", color=\"black\", ax=ax[1,0])\n",
        "pd.Series(lr8.coef_).plot(kind=\"bar\", title=\"Coefficients Lr8, Min Max Scaler\", ax=ax[1,1], figsize=(10,5))\n",
        "\n",
        "#fig.suptitle('Compare between Test Models:', fontsize=16)\n",
        "\n",
        "plt.tight_layout();"
      ],
      "execution_count": null,
      "outputs": [
        {
          "output_type": "display_data",
          "data": {
            "image/png": "[encoded data removed]",
            "text/plain": [
              "<Figure size 720x360 with 4 Axes>"
            ]
          },
          "metadata": {
            "tags": [],
            "needs_background": "light"
          }
        }
      ]
    }
  ]
}
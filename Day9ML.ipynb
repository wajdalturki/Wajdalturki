{
  "nbformat": 4,
  "nbformat_minor": 0,
  "metadata": {
    "colab": {
      "name": "Day9ML.ipynb",
      "provenance": [],
      "collapsed_sections": [],
      "authorship_tag": "ABX9TyN01+XMhWBn8uGH01/MwqJC",
      "include_colab_link": true
    },
    "kernelspec": {
      "name": "python3",
      "display_name": "Python 3"
    },
    "language_info": {
      "name": "python"
    }
  },
  "cells": [
    {
      "cell_type": "markdown",
      "metadata": {
        "id": "view-in-github",
        "colab_type": "text"
      },
      "source": [
        "<a href=\"https://colab.research.google.com/github/wajdalturki/Wajdalturki/blob/main/Day9ML.ipynb\" target=\"_parent\"><img src=\"https://colab.research.google.com/assets/colab-badge.svg\" alt=\"Open In Colab\"/></a>"
      ]
    },
    {
      "cell_type": "code",
      "metadata": {
        "id": "-dRXTbTWSecC"
      },
      "source": [
        "import numpy as np\n",
        "import matplotlib.pyplot as plt\n",
        "import pandas as pd\n",
        "import seaborn as sns\n",
        "\n",
        "import datetime\n",
        "%matplotlib inline\n",
        "\n",
        "from sklearn.linear_model import LogisticRegression\n",
        "from sklearn.metrics import classification_report,confusion_matrix, accuracy_score\n",
        "from sklearn.model_selection import train_test_split\n",
        "#from sklearn.ensemble import RandomForestClassifier\n",
        "\n",
        "from sklearn.preprocessing import StandardScaler\n",
        "from sklearn.metrics import plot_confusion_matrix\n",
        "\n",
        "from numpy import mean\n",
        "from sklearn.model_selection import KFold\n",
        "from sklearn.model_selection import cross_val_score"
      ],
      "execution_count": null,
      "outputs": []
    },
    {
      "cell_type": "code",
      "metadata": {
        "colab": {
          "base_uri": "https://localhost:8080/",
          "height": 415
        },
        "id": "SQck972AUSGD",
        "outputId": "5a0fd58c-869f-4d33-c573-2387b8821f96"
      },
      "source": [
        "# load data\n",
        "df = pd.read_csv('/seattleWeather_1948-2017.csv').dropna()\n",
        "df"
      ],
      "execution_count": null,
      "outputs": [
        {
          "output_type": "execute_result",
          "data": {
            "text/html": [
              "<div>\n",
              "<style scoped>\n",
              "    .dataframe tbody tr th:only-of-type {\n",
              "        vertical-align: middle;\n",
              "    }\n",
              "\n",
              "    .dataframe tbody tr th {\n",
              "        vertical-align: top;\n",
              "    }\n",
              "\n",
              "    .dataframe thead th {\n",
              "        text-align: right;\n",
              "    }\n",
              "</style>\n",
              "<table border=\"1\" class=\"dataframe\">\n",
              "  <thead>\n",
              "    <tr style=\"text-align: right;\">\n",
              "      <th></th>\n",
              "      <th>DATE</th>\n",
              "      <th>PRCP</th>\n",
              "      <th>TMAX</th>\n",
              "      <th>TMIN</th>\n",
              "      <th>RAIN</th>\n",
              "    </tr>\n",
              "  </thead>\n",
              "  <tbody>\n",
              "    <tr>\n",
              "      <th>0</th>\n",
              "      <td>1948-01-01</td>\n",
              "      <td>0.47</td>\n",
              "      <td>51</td>\n",
              "      <td>42</td>\n",
              "      <td>True</td>\n",
              "    </tr>\n",
              "    <tr>\n",
              "      <th>1</th>\n",
              "      <td>1948-01-02</td>\n",
              "      <td>0.59</td>\n",
              "      <td>45</td>\n",
              "      <td>36</td>\n",
              "      <td>True</td>\n",
              "    </tr>\n",
              "    <tr>\n",
              "      <th>2</th>\n",
              "      <td>1948-01-03</td>\n",
              "      <td>0.42</td>\n",
              "      <td>45</td>\n",
              "      <td>35</td>\n",
              "      <td>True</td>\n",
              "    </tr>\n",
              "    <tr>\n",
              "      <th>3</th>\n",
              "      <td>1948-01-04</td>\n",
              "      <td>0.31</td>\n",
              "      <td>45</td>\n",
              "      <td>34</td>\n",
              "      <td>True</td>\n",
              "    </tr>\n",
              "    <tr>\n",
              "      <th>4</th>\n",
              "      <td>1948-01-05</td>\n",
              "      <td>0.17</td>\n",
              "      <td>45</td>\n",
              "      <td>32</td>\n",
              "      <td>True</td>\n",
              "    </tr>\n",
              "    <tr>\n",
              "      <th>...</th>\n",
              "      <td>...</td>\n",
              "      <td>...</td>\n",
              "      <td>...</td>\n",
              "      <td>...</td>\n",
              "      <td>...</td>\n",
              "    </tr>\n",
              "    <tr>\n",
              "      <th>25546</th>\n",
              "      <td>2017-12-10</td>\n",
              "      <td>0.00</td>\n",
              "      <td>49</td>\n",
              "      <td>34</td>\n",
              "      <td>False</td>\n",
              "    </tr>\n",
              "    <tr>\n",
              "      <th>25547</th>\n",
              "      <td>2017-12-11</td>\n",
              "      <td>0.00</td>\n",
              "      <td>49</td>\n",
              "      <td>29</td>\n",
              "      <td>False</td>\n",
              "    </tr>\n",
              "    <tr>\n",
              "      <th>25548</th>\n",
              "      <td>2017-12-12</td>\n",
              "      <td>0.00</td>\n",
              "      <td>46</td>\n",
              "      <td>32</td>\n",
              "      <td>False</td>\n",
              "    </tr>\n",
              "    <tr>\n",
              "      <th>25549</th>\n",
              "      <td>2017-12-13</td>\n",
              "      <td>0.00</td>\n",
              "      <td>48</td>\n",
              "      <td>34</td>\n",
              "      <td>False</td>\n",
              "    </tr>\n",
              "    <tr>\n",
              "      <th>25550</th>\n",
              "      <td>2017-12-14</td>\n",
              "      <td>0.00</td>\n",
              "      <td>50</td>\n",
              "      <td>36</td>\n",
              "      <td>False</td>\n",
              "    </tr>\n",
              "  </tbody>\n",
              "</table>\n",
              "<p>25548 rows × 5 columns</p>\n",
              "</div>"
            ],
            "text/plain": [
              "             DATE  PRCP  TMAX  TMIN   RAIN\n",
              "0      1948-01-01  0.47    51    42   True\n",
              "1      1948-01-02  0.59    45    36   True\n",
              "2      1948-01-03  0.42    45    35   True\n",
              "3      1948-01-04  0.31    45    34   True\n",
              "4      1948-01-05  0.17    45    32   True\n",
              "...           ...   ...   ...   ...    ...\n",
              "25546  2017-12-10  0.00    49    34  False\n",
              "25547  2017-12-11  0.00    49    29  False\n",
              "25548  2017-12-12  0.00    46    32  False\n",
              "25549  2017-12-13  0.00    48    34  False\n",
              "25550  2017-12-14  0.00    50    36  False\n",
              "\n",
              "[25548 rows x 5 columns]"
            ]
          },
          "metadata": {
            "tags": []
          },
          "execution_count": 337
        }
      ]
    },
    {
      "cell_type": "code",
      "metadata": {
        "colab": {
          "base_uri": "https://localhost:8080/",
          "height": 542
        },
        "id": "LvRu-hch3xie",
        "outputId": "c38778df-78f2-47a2-a8fd-d80d7bfa5e64"
      },
      "source": [
        "fig = px.pie(df, df['RAIN'],color_discrete_sequence=px.colors.sequential.RdBu)\n",
        "fig\n",
        "fig.update_layout(title_text='Rain or Not?')"
      ],
      "execution_count": null,
      "outputs": [
        {
          "output_type": "display_data",
          "data": {
            "text/html": [
              "<html>\n",
              "<head><meta charset=\"utf-8\" /></head>\n",
              "<body>\n",
              "    <div>\n",
              "            <script src=\"https://cdnjs.cloudflare.com/ajax/libs/mathjax/2.7.5/MathJax.js?config=TeX-AMS-MML_SVG\"></script><script type=\"text/javascript\">if (window.MathJax) {MathJax.Hub.Config({SVG: {font: \"STIX-Web\"}});}</script>\n",
              "                <script type=\"text/javascript\">window.PlotlyConfig = {MathJaxConfig: 'local'};</script>\n",
              "        <script src=\"https://cdn.plot.ly/plotly-latest.min.js\"></script>    \n",
              "            <div id=\"67a97da2-28f7-4968-8d15-fddfaac88338\" class=\"plotly-graph-div\" style=\"height:525px; width:100%;\"></div>\n",
              "            <script type=\"text/javascript\">\n",
              "                \n",
              "                    window.PLOTLYENV=window.PLOTLYENV || {};\n",
              "                    \n",
              "                if (document.getElementById(\"67a97da2-28f7-4968-8d15-fddfaac88338\")) {\n",
              "                    Plotly.newPlot(\n",
              "                        '67a97da2-28f7-4968-8d15-fddfaac88338',\n",
              "                        [{\"domain\": {\"x\": [0.0, 1.0], \"y\": [0.0, 1.0]}, \"hoverlabel\": {\"namelength\": 0}, \"hovertemplate\": \"RAIN=%{label}\", \"labels\": [true, true, true, true, true, true, true, true, true, true, true, false, false, false, false, false, false, false, false, false, false, true, false, true, false, false, false, false, true, true, true, true, false, true, true, false, false, true, true, false, false, false, false, false, true, true, true, true, true, false, true, true, true, false, true, true, true, false, false, false, true, false, false, false, false, true, true, true, false, false, true, true, true, false, false, false, true, true, false, true, true, true, false, true, true, false, false, false, false, false, false, true, true, true, true, true, true, false, true, true, true, false, true, true, false, true, false, true, false, false, false, true, true, true, true, true, false, false, true, false, true, true, true, true, false, true, true, false, true, false, true, false, true, true, true, false, true, false, true, true, false, false, false, false, false, false, false, true, true, true, false, false, false, false, true, false, false, false, false, false, false, false, true, true, true, false, false, true, true, false, false, true, true, false, false, false, false, false, false, false, false, false, false, false, false, true, true, true, true, false, false, false, false, false, false, false, false, false, false, true, true, false, false, false, true, false, false, true, false, false, false, false, false, false, false, true, false, true, false, false, false, false, false, false, false, true, false, true, true, true, false, false, true, true, true, true, true, false, true, true, false, true, true, false, false, true, true, false, false, false, false, false, false, false, false, false, false, true, true, false, false, false, false, false, true, true, true, false, false, true, true, true, false, false, false, true, true, true, false, true, true, false, false, true, false, false, false, false, false, false, false, false, false, false, false, false, true, true, true, true, false, true, false, true, true, false, true, true, true, true, false, false, false, false, false, false, true, true, true, true, true, true, true, true, true, true, false, true, true, true, false, true, true, true, true, true, false, true, true, true, true, true, true, true, true, true, true, true, true, true, false, false, false, true, false, false, true, false, false, false, false, false, true, true, true, true, false, true, false, false, false, true, true, false, false, false, false, false, false, false, false, false, true, true, false, false, true, true, false, false, false, true, false, false, false, false, false, false, true, true, true, true, true, false, false, true, true, true, false, false, true, true, true, true, true, true, true, true, true, false, false, false, false, false, false, false, false, false, false, false, false, false, true, false, false, false, true, true, true, true, true, true, true, true, true, false, false, false, false, true, true, false, false, true, false, false, true, false, false, false, true, false, false, false, false, false, false, false, false, false, false, false, false, false, true, true, true, true, true, false, true, false, true, true, false, true, true, true, false, false, false, false, false, false, false, false, false, false, false, false, false, false, false, false, true, false, false, false, false, false, false, false, true, false, false, false, true, true, false, false, false, false, false, false, false, true, false, false, false, false, false, false, true, true, false, true, true, false, false, false, true, true, true, true, true, true, false, false, false, false, false, false, false, false, false, false, false, false, false, false, false, false, false, false, true, true, false, false, false, true, true, true, true, true, false, false, false, false, false, false, false, true, false, true, true, false, false, false, true, true, false, false, false, false, false, false, false, false, false, false, false, true, false, false, false, false, false, true, false, false, false, false, false, false, false, false, false, false, false, false, false, false, true, true, true, false, true, true, false, false, false, false, false, false, false, false, false, false, true, false, false, true, true, false, true, true, false, true, true, true, false, false, false, true, false, true, false, false, false, false, false, false, false, false, true, true, true, false, false, false, false, false, false, false, false, false, true, true, true, true, true, true, true, true, false, false, false, true, false, false, false, true, true, true, true, true, true, true, true, true, true, false, false, false, true, false, false, true, true, true, true, true, false, false, true, true, true, true, false, true, true, true, true, true, true, true, true, true, true, true, true, true, true, true, false, true, true, true, true, true, true, true, false, true, true, true, false, false, true, true, true, true, true, true, false, true, true, false, false, false, false, false, false, false, true, true, true, true, true, true, true, true, false, true, true, true, true, true, true, true, false, true, true, true, true, true, true, true, false, false, false, true, true, true, true, false, false, true, true, true, false, true, true, false, true, true, true, true, true, true, true, true, true, true, false, true, true, false, false, true, true, true, true, false, false, true, true, false, true, false, false, true, true, false, true, true, true, true, false, false, false, false, true, false, false, true, true, true, false, false, true, true, false, true, true, true, false, false, false, true, false, false, false, false, false, false, true, true, false, false, false, false, true, false, false, false, true, true, true, false, false, false, false, false, false, false, true, true, true, false, false, true, false, true, true, true, false, false, false, false, false, true, true, true, true, false, true, false, true, false, false, false, false, false, false, false, false, false, false, true, true, false, false, false, false, false, false, false, false, false, true, false, false, false, false, false, false, false, true, true, false, false, false, false, true, false, false, false, true, false, false, false, false, false, false, false, true, true, false, false, false, false, false, false, true, true, true, false, false, false, false, false, false, false, false, false, true, true, false, false, false, false, false, false, false, false, false, false, false, false, false, false, false, false, false, false, true, true, true, true, true, false, false, true, false, false, true, true, true, true, false, true, true, true, false, true, false, true, false, true, true, true, true, true, false, false, true, true, true, true, true, true, true, true, true, true, true, false, true, false, true, false, false, false, false, false, false, true, true, true, true, true, false, true, true, true, true, true, true, true, true, true, true, false, true, true, true, true, true, true, true, true, true, true, false, true, false, false, true, true, true, true, true, true, true, true, true, true, true, false, true, true, false, true, true, false, true, true, true, true, true, false, true, false, false, true, true, true, true, true, true, true, true, true, true, true, true, true, true, true, true, false, false, false, false, false, false, true, true, true, false, false, true, true, true, true, true, true, false, false, false, true, false, true, false, true, true, false, false, false, true, false, false, false, true, true, false, true, true, true, true, true, true, true, true, true, true, true, true, true, false, false, false, false, true, true, false, false, false, true, true, false, false, true, true, false, false, false, false, false, false, false, false, false, false, false, false, false, false, false, false, false, false, true, false, false, false, false, false, false, false, false, true, true, false, false, false, false, false, true, false, true, true, false, false, true, true, true, true, false, false, false, true, false, false, false, false, true, true, true, false, false, false, true, false, false, false, false, false, false, true, false, true, true, false, false, false, false, true, false, false, false, false, false, false, false, false, false, false, false, false, false, false, false, false, false, false, false, false, false, false, true, true, false, false, false, false, false, false, false, false, false, false, false, false, false, false, false, false, false, false, false, false, false, false, false, false, false, false, false, false, false, false, false, false, false, false, false, false, false, false, false, false, false, false, false, false, false, false, false, false, false, false, false, true, true, true, true, false, false, false, false, false, false, false, true, false, false, true, false, false, false, false, false, false, false, false, true, false, false, false, false, true, true, false, true, true, true, true, true, true, true, false, true, true, false, false, false, true, true, true, true, true, true, true, true, true, true, true, true, true, true, true, false, false, false, true, true, false, false, false, false, true, false, false, true, true, false, true, true, true, true, true, true, false, false, false, false, true, true, false, false, false, true, true, true, true, true, true, true, true, true, true, true, true, true, false, false, false, true, false, false, false, false, true, true, true, true, true, true, true, false, false, false, false, true, true, true, true, true, false, false, false, true, true, true, true, true, false, true, true, true, false, false, true, false, false, false, true, true, true, true, true, true, true, true, true, false, true, true, true, true, true, true, true, true, false, false, false, false, true, false, true, false, false, true, true, true, false, false, true, false, false, false, true, true, true, false, false, false, true, false, false, true, true, true, false, false, true, true, true, true, true, true, false, false, false, true, true, true, true, false, true, true, true, true, false, false, true, true, true, false, true, true, true, false, false, false, false, false, false, false, false, false, true, true, false, false, false, false, true, false, false, false, false, false, false, false, true, true, true, true, true, true, false, false, false, false, false, true, false, false, true, true, true, false, false, false, false, false, true, true, true, false, false, false, false, false, false, true, false, false, false, false, false, true, true, true, true, false, false, false, false, true, false, false, true, true, false, false, false, false, true, true, true, false, false, false, false, true, true, true, false, false, false, false, false, false, false, false, false, false, false, false, false, false, false, false, false, false, false, false, true, false, true, true, false, false, false, false, false, false, false, false, false, false, false, false, false, false, false, false, false, false, false, false, false, false, false, false, false, false, false, false, false, true, false, true, true, false, false, false, false, false, false, false, false, true, false, true, true, false, true, false, false, false, true, false, false, false, false, false, false, false, false, false, false, false, false, false, false, false, false, false, false, false, false, false, false, false, false, false, false, false, false, false, false, false, false, false, false, false, false, false, true, false, true, true, true, false, false, false, false, true, true, true, false, false, false, false, false, false, false, false, true, true, true, true, true, true, false, false, true, false, false, false, false, false, false, false, false, false, false, false, false, true, true, true, true, true, true, true, true, true, true, false, true, true, false, false, true, true, false, true, true, true, true, true, true, false, false, true, false, true, true, true, true, true, true, false, false, false, true, true, true, true, true, true, true, true, true, true, true, true, true, true, true, true, true, true, true, true, true, true, true, true, true, true, true, true, true, true, true, true, true, false, false, true, false, false, false, false, true, true, true, false, false, true, true, false, false, false, false, true, true, true, false, false, false, false, false, true, false, false, false, true, true, true, false, false, true, false, true, true, false, true, true, true, false, true, true, false, true, true, false, true, true, false, false, true, true, true, true, true, false, false, false, true, true, true, false, false, true, false, false, false, false, true, true, true, false, true, true, true, false, true, false, false, false, false, false, false, true, true, true, true, false, false, false, false, true, false, false, false, true, false, false, true, true, true, true, false, true, false, false, true, false, false, false, false, false, true, true, true, true, false, false, false, true, true, true, false, true, false, false, true, true, false, false, true, true, false, false, true, true, false, true, false, false, false, false, false, false, false, true, true, false, false, false, false, true, false, false, false, false, true, false, false, false, true, false, false, false, false, false, false, false, false, false, false, false, false, false, false, true, false, true, true, false, false, false, false, false, false, false, false, false, false, false, false, true, true, true, true, true, true, false, false, false, true, false, false, false, false, false, false, false, false, false, false, true, true, false, false, false, true, false, false, false, false, false, true, true, false, false, true, true, true, true, true, true, false, false, false, false, false, false, true, true, true, false, false, false, false, false, true, true, true, true, true, false, false, false, false, false, false, false, false, true, true, true, true, false, false, false, true, true, true, false, false, true, true, true, true, true, true, true, true, true, true, true, true, true, true, true, true, true, true, true, true, true, true, true, true, false, true, true, false, true, true, false, true, false, true, true, false, false, true, true, true, true, false, false, true, false, true, true, true, true, false, false, true, true, true, true, true, true, true, true, false, true, false, false, false, true, true, true, true, true, true, false, true, true, true, true, true, true, true, true, true, true, true, true, false, false, false, false, false, false, false, false, false, false, true, true, true, true, true, true, true, true, true, true, true, false, true, true, true, false, false, true, false, false, false, false, false, true, true, true, true, true, true, false, true, false, true, true, false, false, false, false, false, false, false, false, true, true, true, false, false, false, false, true, true, true, true, true, true, false, true, true, false, false, true, false, true, false, false, false, false, true, false, false, false, false, false, false, true, false, false, true, false, false, true, false, false, false, false, false, false, false, false, true, true, false, false, false, false, false, false, false, true, false, false, false, true, true, true, false, false, true, true, true, false, false, true, false, true, true, false, false, false, false, false, true, false, true, true, true, false, false, true, true, false, false, false, false, true, true, true, false, false, true, true, false, false, false, false, false, true, true, true, true, false, false, false, false, false, false, false, false, false, true, false, false, false, false, false, false, false, false, false, false, false, false, true, true, false, false, false, false, false, false, false, false, false, false, true, true, true, false, true, true, false, false, true, true, false, true, true, false, false, true, true, false, false, false, true, false, true, false, true, true, false, true, false, true, false, true, true, true, true, true, false, false, false, false, false, false, false, false, true, false, false, false, false, true, false, false, false, false, true, true, true, true, true, false, false, false, false, false, true, false, true, true, false, true, true, false, false, false, false, false, false, false, false, false, false, false, true, true, false, true, true, true, true, true, true, true, true, true, true, true, true, true, false, false, true, false, true, true, true, false, true, false, false, false, false, false, true, true, true, false, false, true, false, false, true, true, true, false, false, false, false, false, false, true, false, true, true, true, false, true, true, true, true, true, true, true, false, true, false, false, false, true, false, false, false, true, true, false, true, true, true, false, false, true, true, true, true, true, false, false, false, false, true, true, true, true, false, false, true, false, true, true, true, false, false, false, true, false, true, false, true, true, false, false, false, false, false, true, true, true, true, false, true, true, true, true, false, false, false, false, false, true, true, true, true, true, false, false, false, false, false, false, false, true, true, false, true, true, false, false, true, true, true, true, true, false, false, false, false, false, true, true, true, true, true, true, true, true, true, true, true, false, true, true, true, true, true, true, false, true, false, false, false, false, false, false, false, false, false, false, true, true, false, true, true, true, true, true, false, false, false, false, true, false, false, false, false, false, true, true, false, true, true, true, false, false, true, true, true, false, false, false, false, false, false, false, false, false, false, false, false, true, true, false, false, false, true, false, true, true, true, true, true, true, true, true, false, true, false, false, false, false, false, true, true, false, false, false, false, false, true, false, false, false, false, false, false, false, true, true, true, true, true, true, true, true, true, false, false, false, false, false, false, true, false, false, false, false, false, false, false, false, false, false, false, true, false, false, false, false, false, false, false, false, false, false, false, false, false, false, false, false, false, false, false, false, false, false, false, true, true, true, true, true, false, false, true, false, false, false, false, false, true, true, true, false, false, false, false, true, true, false, false, true, true, true, false, true, true, false, true, false, false, false, false, true, false, false, false, false, true, true, true, true, true, true, false, true, true, true, true, true, false, true, true, true, true, true, true, false, false, false, false, false, true, true, true, true, false, true, true, true, true, true, true, true, true, true, true, true, false, false, true, true, false, true, true, true, true, false, false, false, true, true, false, true, true, true, true, true, true, true, false, true, true, false, false, false, false, true, true, true, true, true, true, true, true, true, true, false, true, true, true, true, true, true, true, true, true, true, true, true, true, false, false, false, true, false, false, false, false, false, false, true, true, true, true, false, false, true, true, false, true, true, false, true, true, false, false, true, true, true, true, true, false, true, true, true, true, true, true, true, true, true, false, true, false, true, true, false, false, false, false, false, false, false, false, false, true, true, true, true, true, true, true, false, true, true, true, true, true, true, false, false, false, true, true, false, false, false, false, false, false, false, true, false, false, false, false, false, false, false, false, false, false, false, false, false, false, false, false, false, false, true, true, false, false, false, false, true, true, false, false, false, false, false, false, false, false, false, false, false, false, false, false, true, false, false, false, false, false, false, false, true, true, false, true, true, true, true, true, false, false, true, false, false, true, false, true, true, false, false, false, false, false, false, false, false, false, false, false, false, false, false, true, true, false, false, false, false, false, false, false, false, true, false, false, false, false, false, false, false, false, false, false, false, false, false, false, false, false, false, false, true, false, false, false, false, false, false, false, false, false, false, false, false, true, false, false, false, false, false, false, false, false, false, true, true, true, false, false, false, false, false, false, false, false, false, false, false, false, true, true, true, false, false, false, false, false, false, false, false, true, false, false, true, true, true, true, false, true, true, false, false, true, false, true, false, false, false, false, true, true, true, false, false, true, true, true, true, true, true, true, true, true, true, true, true, true, true, true, true, true, true, false, false, false, false, true, true, false, false, false, true, false, true, false, true, true, true, false, true, false, false, false, false, false, false, false, false, false, false, false, false, false, true, true, true, true, false, false, true, true, true, true, true, true, false, true, true, true, true, false, true, false, true, true, false, false, false, false, false, false, true, false, true, true, true, false, false, true, true, true, true, true, true, false, false, true, false, false, false, false, true, true, false, true, true, false, false, false, false, false, false, true, false, true, false, true, true, true, true, true, true, true, true, true, false, false, false, false, false, false, false, true, true, false, true, true, true, true, true, false, false, false, true, false, true, true, true, true, true, true, true, true, true, false, true, true, true, true, false, true, true, false, false, true, true, false, false, false, true, true, true, true, false, true, true, true, true, true, false, false, false, false, true, true, true, true, true, false, false, true, false, false, false, false, true, false, true, true, false, false, false, true, false, true, false, false, false, false, false, false, true, false, false, false, true, false, false, false, true, true, false, true, true, true, false, false, false, false, false, false, false, false, false, false, false, false, false, true, true, false, true, true, false, true, false, true, false, false, false, false, false, false, true, false, false, false, false, true, true, true, false, false, false, false, false, false, false, false, true, false, true, true, true, false, false, true, true, false, true, false, false, false, false, false, false, true, false, false, false, false, false, false, false, false, false, false, true, false, true, true, true, true, true, true, false, false, false, false, false, false, false, false, false, false, false, false, false, false, false, false, false, false, false, false, false, false, false, false, false, false, true, false, false, false, false, false, false, false, false, false, true, true, false, false, false, false, false, false, false, false, true, true, true, false, true, false, true, false, false, true, true, true, true, false, false, false, true, true, true, false, true, false, false, false, false, false, true, true, true, true, true, false, false, true, true, false, false, false, false, false, false, false, false, false, false, true, true, true, true, true, true, false, true, true, false, false, false, false, false, true, true, false, true, false, false, true, true, true, false, true, true, true, false, false, false, false, true, false, true, false, true, true, true, true, true, true, true, true, true, true, true, true, true, true, true, false, false, true, true, false, false, false, false, false, true, true, true, true, true, true, true, true, true, true, false, false, true, false, true, true, true, true, true, true, true, true, true, true, false, false, true, false, true, true, true, true, true, true, true, true, false, true, true, true, true, true, false, false, true, true, true, true, true, false, false, false, false, false, false, false, true, false, true, true, true, false, false, false, false, false, false, true, true, true, true, true, true, true, true, true, true, false, false, false, true, true, true, true, true, false, false, false, false, false, true, true, true, false, false, true, true, true, true, true, true, true, false, true, true, true, false, true, false, false, false, false, false, false, false, false, false, false, false, false, false, false, true, true, true, false, false, false, false, false, false, true, false, false, false, true, false, false, false, true, true, false, true, true, true, false, false, false, false, true, false, false, true, false, false, false, false, false, false, false, false, false, false, false, false, false, false, true, true, true, false, false, false, false, false, false, false, false, false, false, false, false, false, false, false, false, false, false, false, false, false, false, false, false, false, false, false, false, false, false, false, false, false, false, false, false, false, true, false, false, false, true, false, false, false, false, false, false, false, false, false, false, false, false, false, false, false, false, false, false, false, true, true, true, false, true, false, false, false, false, false, false, false, true, true, true, false, false, true, true, true, true, true, true, true, true, false, true, false, true, true, false, false, false, false, false, false, false, false, false, false, false, true, true, true, false, false, true, true, false, false, false, true, true, true, false, false, true, false, false, false, false, false, false, false, false, true, true, true, true, true, true, true, true, false, true, true, true, true, true, true, false, false, true, true, true, true, false, true, true, true, false, false, false, false, true, true, true, true, true, false, true, true, true, false, true, true, true, false, false, false, true, false, true, true, true, true, true, false, true, true, true, true, true, true, true, false, true, true, false, false, true, true, true, true, true, true, true, true, true, true, false, true, true, true, false, false, false, true, true, true, true, true, true, true, false, false, true, true, false, false, true, true, true, false, true, true, true, true, false, false, true, true, false, true, false, true, true, false, false, true, true, true, true, true, true, true, false, true, true, false, false, true, true, true, true, true, true, true, true, false, false, false, true, true, false, true, true, false, true, false, true, true, true, true, true, true, true, true, true, true, true, true, false, false, false, false, false, false, false, false, true, true, true, true, false, false, false, true, false, false, false, true, true, true, true, true, true, true, true, false, true, false, false, false, false, false, true, false, false, false, true, true, false, true, false, false, false, false, false, false, false, true, true, false, false, false, false, false, false, true, false, true, false, false, false, true, true, true, true, false, false, false, false, true, false, false, false, false, true, false, true, true, false, false, true, false, false, false, false, true, true, true, true, true, false, false, false, false, false, false, false, false, false, false, false, false, false, false, false, false, true, false, false, false, false, false, false, false, false, false, false, false, true, false, false, false, false, false, false, false, false, false, false, false, false, false, false, false, false, false, false, false, false, false, true, false, false, false, true, true, false, false, true, true, true, true, true, false, false, false, false, false, false, false, true, true, false, true, true, true, true, true, false, true, true, true, true, false, false, false, false, false, false, false, false, false, true, true, true, true, true, true, false, true, false, false, false, false, true, true, true, true, true, true, false, false, true, true, false, false, false, false, true, true, false, false, false, false, false, false, false, true, true, false, true, true, false, true, true, true, true, true, true, true, true, true, false, false, true, true, false, false, true, true, false, false, true, false, false, true, true, true, true, true, true, true, true, true, true, true, true, false, false, true, true, false, false, false, false, true, true, false, false, false, false, false, true, true, true, true, false, true, false, true, false, true, true, true, false, false, false, false, false, true, true, true, true, true, true, true, true, true, true, true, true, true, true, true, true, true, true, true, false, false, true, true, true, false, false, false, false, false, true, false, false, false, false, false, false, false, false, false, false, false, true, true, true, true, true, true, true, true, false, false, true, true, true, true, true, false, false, false, false, false, false, false, false, true, true, true, true, true, true, true, true, false, false, false, false, false, true, false, true, true, true, true, true, true, false, true, true, true, true, true, true, true, true, true, false, false, true, false, false, false, false, true, true, false, true, true, false, false, true, true, true, true, false, true, true, true, false, true, true, false, true, false, true, true, true, false, false, true, true, false, false, false, false, false, false, false, false, false, false, false, false, false, false, true, true, true, false, false, true, false, false, false, false, true, false, false, false, false, false, false, false, false, false, false, false, false, false, false, false, false, false, false, false, false, false, false, false, false, false, false, false, false, false, false, false, false, false, false, false, false, false, true, false, false, false, false, false, false, false, false, false, false, false, false, true, true, true, false, false, true, false, true, false, true, true, true, true, false, true, true, false, true, false, false, true, true, false, false, false, false, false, false, false, true, false, false, false, false, false, false, true, false, false, true, false, true, true, false, false, false, false, false, false, false, false, false, false, true, true, false, false, false, true, false, false, false, false, false, false, false, true, false, true, true, true, true, true, true, true, true, false, true, true, true, true, false, false, false, false, false, true, true, true, true, true, true, true, true, true, true, true, true, true, true, true, true, true, true, false, false, false, false, true, true, true, true, false, false, false, false, false, false, true, true, true, true, false, false, true, true, true, true, false, false, false, false, true, true, true, false, false, true, true, true, false, false, false, true, true, true, true, true, true, true, true, true, true, true, true, false, true, false, false, false, false, false, true, false, false, false, false, true, true, true, true, true, true, true, true, true, true, true, true, true, true, true, true, true, true, true, true, true, true, true, true, true, false, false, true, true, true, true, true, true, true, true, true, true, true, false, true, true, true, true, true, true, true, true, false, true, false, true, true, false, true, true, true, true, true, false, false, false, true, false, true, true, true, false, false, false, false, true, false, false, true, true, true, true, true, true, false, false, false, true, true, true, true, true, false, false, false, true, true, false, true, true, true, true, true, false, false, true, true, true, false, false, false, true, false, false, false, false, false, false, false, true, true, false, false, true, true, false, true, false, false, false, false, false, false, true, true, false, true, true, true, false, false, false, false, false, false, false, false, false, false, false, false, false, false, false, false, false, false, true, false, true, false, false, true, true, false, false, false, false, false, false, false, false, false, false, false, false, false, false, false, false, true, false, false, false, false, false, false, false, false, false, false, false, false, false, false, false, false, false, false, false, false, false, false, false, true, false, false, false, false, false, false, false, false, false, false, true, false, false, false, true, true, true, false, false, false, true, false, false, false, false, false, false, false, false, false, true, false, false, true, false, true, true, false, false, false, false, false, true, true, false, true, false, false, false, false, true, true, true, false, true, true, true, true, false, false, false, true, false, false, true, true, false, true, true, false, true, true, true, true, false, false, true, true, true, false, false, false, false, false, false, true, true, false, false, true, false, false, false, true, true, true, false, true, true, true, false, false, true, true, true, true, true, false, true, false, true, false, true, true, true, false, false, false, true, true, false, true, true, true, true, true, true, false, true, true, true, false, false, true, true, true, false, false, false, true, true, false, true, true, false, true, false, false, false, true, false, true, false, true, true, false, false, false, false, false, false, true, true, true, false, false, false, false, false, false, false, false, true, false, true, true, true, true, true, false, true, true, true, true, false, true, false, false, false, false, true, true, false, false, false, false, true, true, false, true, true, true, false, false, true, true, true, false, false, false, false, true, true, false, true, true, true, true, true, true, true, true, true, true, false, false, false, false, false, false, false, true, true, true, false, true, false, false, false, false, false, false, true, false, false, false, true, false, false, false, false, true, false, true, true, true, false, true, true, true, true, false, false, true, true, true, true, false, false, true, false, false, true, false, false, false, false, false, false, true, true, true, true, false, true, true, false, false, false, false, true, true, true, false, false, false, true, false, false, false, false, true, true, false, false, false, false, false, false, false, false, false, false, false, true, true, false, false, false, true, false, false, true, true, true, false, false, false, false, false, false, true, false, false, true, false, false, false, false, false, false, false, false, false, false, false, false, false, false, false, false, true, true, true, true, true, true, false, false, false, false, true, false, false, false, true, true, true, false, false, false, false, false, false, false, true, false, true, false, false, false, false, false, false, false, false, false, false, false, true, true, false, true, true, true, false, false, false, false, false, false, false, false, false, false, false, false, true, true, true, false, false, true, true, false, false, true, true, true, true, true, true, true, true, false, false, false, false, true, false, false, true, true, false, false, false, true, false, false, false, false, false, false, false, true, true, true, false, true, false, true, true, true, true, true, false, true, false, true, false, true, true, false, false, false, true, true, true, true, false, true, true, true, true, true, true, true, false, false, false, false, false, false, true, true, true, true, true, false, true, true, false, true, false, false, false, false, false, true, true, true, true, false, true, true, true, false, false, false, false, true, true, false, false, false, true, true, true, false, false, false, false, false, false, false, false, false, false, false, false, false, false, false, true, true, true, true, true, true, true, false, false, false, false, false, false, true, false, true, true, true, true, true, false, false, false, false, false, true, true, false, true, true, true, false, false, false, false, false, false, false, false, true, false, false, true, false, true, false, true, true, true, true, false, true, true, true, true, true, true, true, true, true, false, false, true, true, true, true, true, true, false, false, true, true, true, true, true, true, true, true, true, true, false, true, false, true, false, false, false, false, true, true, true, true, false, true, true, false, false, false, false, false, false, false, false, false, false, false, false, false, false, false, false, false, false, false, false, false, false, false, false, false, false, false, true, false, true, true, false, true, true, true, false, false, false, false, false, false, false, false, false, false, true, false, true, false, true, false, true, true, true, true, false, false, false, false, false, false, true, true, true, false, false, false, false, false, false, false, false, false, false, false, false, true, true, false, true, false, false, false, false, false, false, true, false, false, false, false, false, false, false, false, false, false, true, true, false, false, false, false, false, true, false, false, false, true, true, true, true, false, false, false, false, false, false, true, false, false, false, false, false, false, false, false, true, false, true, true, false, true, true, false, false, false, false, false, true, true, false, false, false, false, false, false, false, false, false, false, true, true, true, false, true, false, false, false, true, true, true, false, false, true, false, false, true, true, true, true, true, true, true, true, true, true, true, false, true, true, true, true, true, true, true, true, true, true, true, true, true, true, true, true, true, true, true, false, true, true, true, true, true, true, false, false, false, false, false, false, false, true, true, true, true, true, true, false, false, false, false, true, true, true, true, true, true, true, false, true, true, true, false, true, true, true, false, true, true, true, false, true, false, true, true, false, true, true, false, false, true, true, false, true, true, true, true, true, true, true, true, false, true, true, true, true, true, true, true, true, true, false, false, true, false, false, false, false, true, true, true, true, false, true, true, true, true, true, false, false, false, false, true, false, false, false, false, true, true, true, true, true, true, false, true, true, true, true, true, true, true, false, true, false, false, true, false, false, true, true, true, false, false, true, true, false, false, false, false, true, true, false, false, true, true, false, false, false, true, true, true, true, false, true, false, false, false, false, false, true, true, true, false, false, false, false, false, false, false, true, true, false, false, true, true, false, false, false, true, false, false, true, false, false, false, false, false, false, false, true, false, true, true, true, false, false, false, false, false, false, false, true, false, true, true, true, false, true, true, false, false, true, false, true, false, true, true, true, true, false, false, false, false, false, false, false, false, true, false, false, false, true, false, false, false, false, false, true, true, false, false, false, false, false, true, true, true, false, false, false, true, true, false, false, false, false, false, false, false, false, true, false, true, true, true, false, false, false, false, false, true, false, false, false, false, false, false, false, false, true, false, false, false, false, false, false, true, true, true, true, true, false, false, false, false, false, false, false, false, true, true, false, false, false, false, false, true, false, true, true, false, true, false, false, true, false, false, true, false, false, false, true, true, false, true, false, false, false, false, true, true, true, false, false, false, true, true, true, false, false, false, false, false, false, false, false, true, false, false, false, false, true, true, true, true, false, true, true, false, true, true, true, true, true, true, true, true, false, false, false, false, false, false, false, false, true, true, true, true, true, true, false, true, true, true, true, false, false, false, false, true, true, true, true, false, true, false, true, false, false, false, true, true, true, true, true, true, true, true, true, true, true, true, true, true, true, true, true, true, true, true, true, true, false, false, false, false, true, false, false, false, false, false, false, true, true, false, true, true, true, true, true, true, true, true, false, false, false, true, true, true, false, true, true, false, true, true, true, true, false, true, false, false, false, true, false, true, true, false, false, false, true, true, false, false, false, false, false, false, false, false, false, false, false, false, false, false, false, false, true, false, false, false, false, true, true, false, false, false, true, true, true, true, false, true, true, true, false, false, false, true, true, true, true, false, false, false, true, false, false, true, false, true, true, true, true, false, true, true, false, false, false, true, false, true, true, false, true, true, false, false, false, false, false, false, false, false, false, false, true, true, false, false, true, false, false, true, true, false, false, false, false, false, false, true, false, false, false, false, false, false, false, false, false, false, true, true, false, true, true, false, false, false, false, false, false, false, false, false, false, false, false, false, false, false, false, false, false, false, false, false, false, false, false, false, true, false, false, false, false, false, false, false, false, false, true, false, false, false, false, true, false, true, false, false, false, false, false, true, false, false, false, false, false, false, false, true, true, true, false, false, false, false, false, false, true, true, false, false, true, true, false, false, false, false, false, false, false, false, false, false, false, false, false, false, false, false, false, false, false, true, true, true, false, false, false, false, false, false, false, false, false, false, true, false, false, false, false, false, false, false, true, true, true, false, false, false, false, false, true, true, true, true, false, true, true, false, true, false, false, false, false, false, false, true, false, true, true, false, true, true, true, true, true, true, false, true, true, true, true, true, true, true, false, false, false, true, true, true, true, true, false, true, false, true, false, false, false, true, true, false, true, true, true, true, true, false, true, true, false, true, true, false, false, false, false, true, false, true, true, false, true, true, true, true, true, true, true, true, false, true, true, true, false, true, true, true, true, true, true, true, true, true, false, false, false, false, true, false, false, false, false, false, true, true, false, true, true, true, true, false, false, false, true, true, true, true, true, true, false, false, true, true, false, true, false, true, false, false, true, true, false, true, false, true, true, true, true, true, false, false, true, true, true, true, true, true, true, true, false, true, true, true, true, false, false, true, true, true, false, false, false, false, false, false, false, false, false, true, false, true, false, false, false, false, false, false, false, true, true, true, true, false, true, false, false, false, false, false, true, false, false, false, true, true, false, false, false, false, false, false, false, false, false, false, true, false, false, false, false, false, true, true, false, true, false, false, false, false, false, true, false, false, false, false, true, false, false, false, false, false, true, true, true, true, false, false, false, false, false, true, false, false, true, false, false, false, false, false, false, false, false, false, true, false, false, false, true, true, false, false, true, true, true, false, true, false, false, false, false, true, false, false, false, true, false, true, false, false, false, false, false, false, false, false, false, false, false, false, false, false, false, false, false, false, false, false, false, false, false, false, false, false, false, true, false, false, false, false, false, false, false, false, false, false, false, true, true, true, false, false, false, false, false, false, false, false, false, false, false, false, false, true, true, false, false, false, false, true, true, true, false, false, false, true, false, true, true, true, false, false, false, false, true, false, false, false, false, true, true, true, false, false, false, true, false, false, false, false, false, false, true, true, true, true, true, false, false, true, false, false, true, false, false, false, false, false, false, true, false, false, false, true, false, true, true, true, true, true, true, true, true, true, true, true, true, true, false, true, false, true, true, true, true, true, true, true, true, true, true, true, false, true, true, true, true, true, true, true, true, true, true, true, true, false, false, true, true, true, false, false, true, true, false, true, false, true, true, true, false, true, true, true, false, true, true, true, true, true, true, false, false, true, true, true, true, true, true, false, true, true, true, true, true, false, false, true, true, true, true, false, false, false, false, true, false, true, true, true, true, true, false, true, true, false, false, false, false, false, false, true, false, false, true, true, true, false, false, false, false, false, true, true, true, false, false, true, true, true, true, true, false, true, true, true, true, true, true, true, true, false, true, true, false, false, false, false, false, true, true, false, false, true, true, false, false, true, true, true, false, true, true, true, false, true, true, true, false, true, true, true, true, false, false, false, false, false, false, false, false, false, true, true, false, true, true, false, false, false, false, false, false, false, false, false, false, false, false, false, false, false, false, true, true, true, false, false, true, false, false, false, false, false, false, false, false, false, false, false, false, false, false, false, false, false, true, true, true, false, false, false, false, false, false, false, false, false, false, false, false, false, false, false, false, false, false, false, false, false, false, false, false, false, false, true, false, false, false, false, false, false, false, false, false, false, false, false, false, false, false, false, false, false, false, false, false, false, false, false, false, false, false, false, false, false, false, true, false, false, false, false, false, false, false, false, false, false, false, true, false, false, false, false, true, false, false, true, true, true, false, false, false, false, false, false, false, false, false, false, false, false, false, false, false, false, false, true, true, true, true, true, true, true, true, true, false, false, true, true, false, true, false, false, false, false, true, false, true, true, true, false, true, false, false, true, false, false, true, true, false, false, false, false, false, false, true, true, true, true, true, false, true, true, true, false, false, false, false, false, false, true, true, false, false, false, true, true, true, true, true, true, true, true, true, true, true, true, true, true, false, true, false, false, false, false, true, false, false, false, true, true, true, true, true, true, false, true, false, false, true, true, false, false, true, true, false, true, true, true, true, false, true, true, true, true, true, true, true, true, true, true, false, false, true, true, true, false, true, true, true, true, true, true, true, false, false, false, false, false, false, false, false, false, false, false, false, false, true, true, true, true, true, true, true, false, true, false, false, false, false, false, false, false, true, true, false, true, false, false, false, true, true, true, true, true, true, true, false, false, false, false, false, true, true, true, true, true, true, true, false, false, true, true, false, true, false, true, false, false, false, true, false, true, false, true, true, true, false, true, false, false, false, false, true, false, false, false, false, false, false, true, false, false, false, false, true, false, false, false, false, false, false, true, false, false, false, false, false, false, true, true, false, false, true, false, true, false, true, false, true, false, true, true, true, false, false, false, false, false, false, false, true, false, false, true, false, false, false, false, false, true, false, true, true, false, false, false, true, true, true, false, false, false, false, false, false, false, false, false, false, false, false, true, true, true, false, true, false, false, false, true, false, false, false, false, false, false, false, false, false, false, false, false, false, false, false, false, false, false, false, false, false, false, false, false, true, true, false, false, true, true, true, false, false, true, true, true, true, true, true, true, false, false, false, true, false, false, false, false, false, false, false, false, false, true, false, true, true, false, true, true, true, true, false, false, true, true, false, false, false, false, false, false, false, false, false, false, true, true, false, false, false, true, true, true, true, true, true, true, false, true, false, true, true, true, false, false, false, true, false, false, false, true, true, false, false, true, false, false, true, false, true, true, true, true, true, true, false, false, false, false, true, true, false, true, true, true, false, true, false, true, false, false, true, true, true, true, true, true, true, false, true, true, true, true, true, false, true, true, true, false, true, true, false, false, true, true, true, true, false, true, true, true, false, true, true, true, false, true, true, true, true, true, true, true, true, true, true, true, true, true, true, true, false, true, true, true, false, false, false, true, true, true, true, true, true, true, false, true, true, true, false, false, true, true, true, true, true, true, false, false, true, true, false, false, false, false, false, false, true, false, false, false, false, false, true, false, true, true, true, true, false, false, false, false, false, false, false, false, true, true, true, true, true, false, false, true, false, false, false, false, false, false, true, true, true, true, true, true, true, true, true, false, false, true, false, false, true, false, false, false, true, true, true, true, true, false, true, true, false, false, false, true, true, false, true, true, true, true, false, false, false, false, false, false, false, false, false, false, false, false, false, false, false, false, false, false, false, true, true, true, true, true, false, true, false, false, false, false, false, false, false, false, false, false, false, false, false, false, false, false, false, false, false, false, false, false, false, true, true, true, true, false, true, false, false, false, true, false, true, true, false, false, false, false, false, true, false, false, false, false, false, false, false, false, false, false, false, false, false, false, false, false, false, false, false, false, false, false, false, false, true, true, false, false, false, false, false, false, false, false, false, true, false, false, true, false, false, false, false, false, true, false, true, true, false, false, false, false, false, true, false, false, false, false, false, false, false, false, false, true, true, false, false, true, true, true, true, true, true, true, true, true, true, false, true, true, true, true, true, false, false, false, false, false, true, true, true, false, false, false, false, false, false, true, false, false, false, false, false, true, false, true, false, true, true, true, true, true, false, false, true, false, true, false, true, false, true, false, true, false, false, false, false, false, false, false, false, false, true, false, false, true, false, false, false, false, false, false, false, false, false, true, false, false, false, false, true, true, true, true, true, true, true, true, true, true, true, true, true, true, true, true, false, true, true, false, false, false, false, false, false, false, false, false, false, false, false, true, true, true, true, true, true, true, false, true, true, true, true, true, true, true, true, true, true, true, true, false, false, false, true, false, false, false, false, true, false, false, false, false, false, false, true, true, true, true, true, true, false, false, false, false, true, false, false, false, false, false, false, false, true, true, false, true, true, true, false, false, false, true, true, true, true, true, true, false, false, false, true, true, false, false, false, false, true, true, true, false, false, false, true, true, false, true, true, true, false, true, true, true, true, false, false, false, false, false, false, true, true, false, true, true, true, true, true, false, true, false, true, true, false, false, false, false, false, false, false, true, false, true, false, true, false, false, false, false, false, false, false, false, false, true, false, false, false, false, false, true, true, false, false, false, false, false, true, false, false, false, false, true, false, true, false, false, true, true, false, false, false, false, false, false, false, false, false, false, false, true, true, true, false, true, false, false, false, false, false, false, false, false, false, false, false, false, false, false, true, false, false, false, false, false, false, false, false, true, true, true, false, false, false, false, true, true, false, false, false, false, true, false, false, false, false, true, true, false, false, false, false, false, false, false, false, false, false, false, false, false, false, false, false, false, false, false, true, true, true, true, true, true, false, false, false, false, false, false, false, false, false, true, true, true, true, false, true, false, false, false, false, false, false, false, false, false, false, false, true, true, true, false, false, true, false, true, false, false, false, false, false, true, true, true, true, true, true, true, true, false, false, false, false, false, false, false, false, false, false, true, true, true, true, true, true, true, true, true, false, false, true, true, true, false, true, false, false, true, true, true, true, true, true, false, true, true, true, true, true, true, true, true, true, false, false, true, false, false, true, true, true, true, false, false, true, true, false, false, false, false, false, true, true, true, true, true, false, false, false, false, false, false, true, true, true, true, true, true, true, true, true, true, true, true, true, true, true, true, true, false, true, true, true, false, false, true, false, false, true, true, true, true, false, false, false, false, true, true, false, true, true, true, true, false, false, true, true, false, true, true, true, true, false, true, true, true, false, true, true, true, false, true, true, false, true, true, true, true, true, true, false, true, false, false, false, false, false, true, true, false, true, true, true, true, true, true, false, true, true, false, false, false, true, true, true, true, true, true, false, false, false, true, true, true, false, false, true, false, false, false, true, false, false, false, false, false, false, false, false, false, true, true, false, false, false, false, false, false, true, true, false, true, true, false, true, true, true, false, false, false, true, true, false, false, false, true, false, true, true, false, true, true, false, true, false, false, false, true, false, false, true, true, false, false, false, true, true, false, false, true, false, true, true, true, false, true, false, false, false, false, false, false, true, true, false, true, true, true, false, false, false, false, false, false, false, false, false, false, false, false, false, false, false, false, false, false, false, false, false, false, false, false, false, false, false, false, false, false, false, false, false, false, false, false, false, false, false, false, true, true, true, false, false, false, false, false, false, false, true, true, true, true, false, false, true, true, false, true, true, true, false, false, false, false, false, false, false, false, false, false, false, false, false, true, true, false, true, true, true, false, false, false, false, false, false, true, true, false, false, false, false, false, true, true, false, false, false, true, true, true, false, true, false, false, true, true, true, false, false, true, true, false, false, true, true, false, false, true, true, true, true, true, true, true, true, true, false, true, false, true, false, false, false, true, true, true, true, true, true, false, false, false, true, true, true, true, false, true, true, true, true, true, true, true, true, true, true, true, true, false, true, true, true, true, true, true, false, false, true, true, true, true, true, true, false, false, true, false, true, true, false, true, true, false, false, true, false, true, true, true, true, true, true, true, true, true, true, false, false, false, false, false, true, false, false, false, false, true, true, true, true, false, true, true, true, true, true, true, true, true, true, true, false, false, true, true, true, true, true, true, true, true, true, true, false, true, true, false, false, false, true, true, true, true, true, false, true, false, false, true, true, false, true, true, false, true, true, false, false, false, false, false, true, true, false, false, true, true, true, true, true, false, true, true, true, false, false, true, true, true, false, true, true, true, false, false, true, false, false, true, true, false, false, false, false, false, false, false, false, false, true, false, false, false, false, false, false, true, true, true, true, false, false, true, false, false, false, false, false, false, false, false, false, false, false, false, false, false, false, false, true, true, true, true, false, true, false, true, false, false, false, false, false, true, true, true, true, true, true, false, false, false, false, false, false, false, false, false, false, false, false, true, true, true, true, true, false, false, false, false, false, false, false, false, false, false, false, false, false, false, false, false, false, false, false, false, false, false, false, false, false, false, false, false, false, false, false, false, true, true, true, true, false, false, false, true, true, false, false, false, false, false, false, false, false, false, false, false, false, false, true, true, true, true, true, false, false, false, false, false, false, true, false, true, true, true, true, true, false, true, false, true, false, true, false, false, false, false, false, false, false, false, false, false, true, false, false, false, false, false, false, false, false, false, false, false, true, false, true, false, true, true, true, false, true, false, false, true, true, true, true, false, true, true, true, true, true, false, false, false, false, false, false, false, true, false, false, false, false, true, true, true, true, true, false, false, false, true, true, false, false, false, false, false, false, false, false, true, true, false, false, true, true, true, true, true, true, true, true, true, true, true, true, true, true, false, true, false, true, false, true, true, true, false, false, false, false, true, true, true, true, true, true, true, true, true, false, true, false, false, true, true, false, false, false, false, true, true, false, false, true, true, false, false, false, false, false, true, true, false, false, false, true, false, true, false, false, false, false, false, false, false, false, true, true, true, true, true, true, true, true, false, false, false, false, true, true, true, true, true, false, false, true, false, true, true, true, false, false, false, false, true, true, true, false, true, true, false, true, false, false, false, false, true, false, false, false, false, false, false, false, false, true, true, true, true, false, false, false, true, true, false, false, false, true, false, false, false, false, false, true, true, false, true, true, true, true, false, false, false, false, false, false, false, false, false, false, false, false, true, true, true, true, false, false, false, false, false, false, false, false, false, false, false, true, true, false, false, false, true, true, true, false, false, true, true, false, true, false, false, false, true, true, true, true, false, false, false, true, false, false, false, true, true, false, false, false, false, false, false, false, false, false, false, false, false, false, false, false, true, false, false, false, false, false, false, false, false, false, false, false, false, false, false, true, false, false, false, false, true, false, false, true, false, false, true, false, false, false, false, false, false, false, false, false, false, false, false, false, false, false, false, false, false, false, false, true, true, false, false, false, false, true, false, false, false, false, true, true, true, true, true, true, true, true, false, false, false, false, false, false, false, false, false, false, true, true, false, false, false, true, true, true, true, false, true, false, false, false, false, true, true, false, false, true, false, false, false, true, false, true, true, true, false, true, true, false, true, false, true, true, true, true, true, true, true, true, true, false, false, true, true, true, true, true, true, true, true, true, true, true, true, true, false, true, false, true, true, true, false, false, true, true, true, true, true, true, true, true, false, true, true, true, true, true, true, false, true, true, false, true, false, false, false, false, false, false, false, false, false, false, false, true, false, true, true, true, true, true, false, true, true, true, true, false, true, true, true, true, false, true, true, true, true, true, true, true, false, false, false, false, false, false, false, false, false, true, true, true, true, true, true, true, false, true, true, false, true, true, true, true, true, true, true, true, true, true, false, false, false, true, true, true, true, false, true, true, true, true, false, false, false, false, false, false, false, true, true, true, true, true, true, true, true, true, false, true, true, true, false, false, true, false, true, false, false, false, false, false, false, false, true, false, true, true, false, true, true, false, true, false, false, false, true, false, false, false, true, true, false, false, true, true, true, true, true, true, true, true, true, false, false, false, false, true, true, true, true, false, false, false, true, true, false, false, false, true, true, true, true, false, false, false, false, false, false, false, false, false, false, false, false, false, false, false, false, false, false, true, true, false, false, false, false, false, false, true, true, false, false, false, true, true, false, true, false, false, false, true, true, true, true, false, false, false, false, false, false, false, false, false, false, false, false, false, false, false, false, false, false, false, false, false, false, false, false, false, false, false, false, false, false, true, false, false, false, false, false, false, false, false, false, false, false, false, false, false, false, false, true, false, false, false, true, true, false, false, false, false, false, false, false, false, false, false, false, false, false, false, false, false, false, false, false, false, false, true, false, false, false, false, false, false, false, false, true, false, false, false, false, false, false, false, false, false, true, false, false, false, false, false, true, true, true, false, false, true, true, false, false, true, true, true, true, true, true, false, true, true, false, false, false, false, true, true, true, true, true, true, true, true, true, false, false, false, false, false, true, true, true, true, false, true, false, true, true, true, false, true, true, true, true, true, false, true, true, true, true, false, false, true, true, true, true, false, true, false, false, true, true, true, true, true, true, true, false, true, true, true, true, true, true, true, true, true, true, true, true, false, false, true, true, true, true, true, true, false, false, false, true, true, false, false, false, true, true, false, true, true, true, true, true, true, true, true, true, true, true, false, false, false, true, false, false, true, true, true, true, true, false, false, false, false, false, true, false, false, false, true, false, false, true, true, true, true, true, false, true, true, true, false, false, true, false, false, false, true, false, true, true, true, true, false, false, false, false, false, false, false, false, true, true, false, false, false, true, true, false, false, true, true, true, true, false, true, false, false, false, false, true, true, true, false, false, false, false, false, true, false, false, false, false, true, false, false, true, false, false, true, true, true, false, false, true, true, false, false, false, false, false, false, true, false, false, false, false, false, false, false, false, false, false, false, true, true, true, false, false, false, false, false, true, true, true, true, true, false, false, false, false, true, false, false, false, false, false, false, false, false, false, false, false, false, false, true, true, false, false, false, false, false, false, false, false, false, false, true, false, false, false, false, false, false, false, false, false, true, true, false, false, false, false, false, false, false, true, true, true, false, false, false, true, true, false, false, false, true, true, true, true, false, false, false, false, false, false, false, false, false, false, false, false, false, false, false, false, false, false, false, false, false, false, false, false, false, false, false, false, false, false, false, false, false, true, false, true, false, false, true, true, true, false, false, false, true, false, true, true, false, true, true, true, true, false, true, true, true, true, true, true, true, false, true, true, true, false, false, true, true, true, false, false, true, false, true, true, true, true, true, false, false, false, false, true, true, true, true, true, false, false, true, true, true, true, true, true, false, false, true, true, true, true, false, true, true, true, true, false, false, false, false, false, true, true, true, true, true, true, false, true, true, false, false, false, false, true, true, true, true, true, true, true, true, true, false, true, true, true, false, true, false, false, false, false, true, false, false, false, true, true, false, false, false, false, false, false, false, false, false, false, false, true, false, false, true, true, true, true, true, true, true, true, true, true, false, false, true, true, true, true, true, true, true, true, false, false, false, false, false, true, false, false, true, false, true, true, true, false, true, true, true, false, true, true, true, true, true, false, true, true, false, false, true, true, true, false, false, false, true, true, true, true, false, true, true, false, true, true, false, false, true, true, true, false, false, false, true, true, false, false, false, false, false, false, true, true, false, true, true, false, false, false, false, true, false, false, false, false, false, false, false, false, false, false, false, false, true, true, false, false, true, false, true, false, true, false, false, false, false, false, false, false, false, false, false, true, true, false, false, true, true, false, false, false, false, false, false, false, false, false, false, false, false, false, false, true, false, true, true, false, false, true, true, false, false, false, false, false, false, false, false, false, false, false, true, false, false, false, false, false, false, false, false, false, false, false, false, false, false, false, false, true, true, false, false, false, false, false, true, true, true, true, false, false, true, false, false, false, true, true, true, false, true, false, false, false, false, false, false, false, false, true, true, false, false, false, false, true, false, true, true, false, false, false, false, false, false, false, true, true, false, false, false, false, false, false, false, false, true, false, false, true, false, false, false, false, false, true, false, false, false, false, false, false, false, false, false, false, false, false, true, true, false, false, true, false, false, true, false, false, false, false, false, false, false, true, false, false, false, false, false, true, true, true, true, false, true, false, true, false, false, true, true, false, false, false, false, false, false, false, false, false, false, true, true, true, false, false, false, false, true, true, true, false, true, false, false, false, false, true, true, false, true, true, false, false, false, false, false, false, true, true, false, false, false, false, false, false, false, true, true, true, true, true, true, true, true, false, false, true, false, false, false, false, false, false, false, false, true, true, true, false, false, false, false, false, false, false, true, true, true, true, false, false, false, false, false, false, false, true, true, false, false, false, true, true, true, true, true, true, true, false, false, true, true, true, true, false, true, true, true, true, false, false, false, false, true, false, true, true, true, true, false, true, false, false, false, false, true, false, false, false, false, false, false, false, true, true, false, false, true, true, false, true, true, false, false, false, false, true, false, false, false, true, true, false, false, false, false, true, true, true, false, true, false, true, true, false, true, false, false, false, false, false, true, true, false, false, false, true, false, true, false, true, true, true, true, false, true, true, false, false, true, true, false, false, false, false, false, false, false, false, false, false, false, false, false, false, false, false, false, false, false, false, false, false, false, false, false, false, true, false, true, true, false, false, false, false, false, false, false, true, false, false, false, true, false, false, false, false, false, false, false, false, false, false, false, false, false, false, false, false, false, false, false, false, false, false, false, false, false, false, false, false, false, false, false, false, false, false, false, false, false, true, true, true, true, true, true, true, true, false, false, true, true, true, false, false, true, false, false, false, false, false, false, false, true, false, false, true, true, true, false, false, true, true, true, false, true, true, true, false, false, false, false, false, false, true, false, true, false, false, false, true, false, false, true, false, false, false, true, false, true, false, true, true, true, false, false, true, true, true, true, true, false, false, true, false, true, false, false, true, true, true, true, true, true, true, false, true, true, false, false, false, true, true, false, true, true, true, true, false, true, true, true, true, true, true, true, false, false, true, true, true, true, true, true, true, false, true, true, false, false, false, false, false, false, false, false, false, true, true, true, false, false, true, true, true, true, false, true, true, true, true, true, true, true, true, false, false, false, true, true, true, true, false, false, false, true, true, false, true, false, false, true, true, true, false, false, true, true, true, true, true, false, false, false, false, true, false, false, false, true, false, false, false, false, true, true, true, false, false, false, false, false, true, false, true, true, true, false, false, false, true, true, true, true, false, false, false, false, false, false, false, false, true, true, true, false, false, true, false, true, false, true, true, false, true, true, false, false, false, false, true, false, false, true, true, true, true, true, true, true, false, true, true, false, false, false, true, true, true, false, false, false, false, true, true, false, false, false, false, true, true, false, true, true, true, true, false, false, false, false, false, false, true, false, false, true, true, true, true, false, false, false, false, false, false, false, false, false, false, false, true, false, true, true, true, true, false, false, false, false, false, false, false, false, false, false, false, false, false, false, false, false, false, false, false, false, false, false, false, false, false, true, true, false, false, false, false, true, false, false, false, false, false, false, false, false, false, true, false, false, false, false, false, false, false, false, false, false, false, false, false, false, true, true, true, false, true, false, false, false, true, true, true, false, true, true, true, true, false, false, false, false, false, true, true, true, true, true, true, true, false, true, true, false, true, false, true, false, false, true, true, false, false, true, true, true, true, false, false, true, true, true, false, true, false, false, false, false, false, false, false, false, false, false, false, false, false, false, false, false, false, false, false, true, false, false, true, false, false, false, false, true, false, false, false, false, true, true, false, false, false, true, true, true, false, false, false, false, false, true, true, false, true, true, false, false, false, false, false, false, false, true, false, true, true, true, false, true, true, true, false, false, true, true, true, true, false, false, false, false, false, true, true, false, true, true, true, true, false, false, false, true, false, false, false, false, false, false, false, false, false, false, false, false, true, true, false, false, false, true, true, false, false, false, true, true, true, false, true, false, true, true, false, false, false, false, false, false, true, true, true, true, true, false, true, true, true, true, true, true, false, true, true, true, true, true, true, true, false, true, true, true, true, true, false, false, false, true, true, true, true, false, false, false, false, false, false, false, true, true, false, true, false, false, false, false, false, false, false, false, false, false, false, false, true, false, true, true, false, true, false, false, false, true, true, true, true, true, true, false, false, true, false, false, false, false, false, false, false, false, false, false, false, false, false, false, false, false, false, true, true, true, false, false, true, false, false, false, false, false, false, true, false, false, false, false, false, false, false, false, false, true, true, false, false, false, false, false, false, false, false, true, true, false, false, false, false, false, false, false, false, false, true, true, false, true, false, false, false, false, false, false, false, false, false, false, true, true, false, false, false, false, false, false, false, true, true, true, false, false, false, false, false, false, false, false, false, false, false, false, false, false, false, false, false, false, false, false, false, false, false, false, false, false, false, false, false, false, false, false, true, true, false, true, true, true, true, false, true, true, false, false, false, false, false, false, false, false, false, true, true, true, false, true, false, true, true, false, false, false, false, false, false, false, false, false, false, false, false, false, false, false, false, false, false, false, false, false, false, false, false, false, false, false, false, false, false, false, false, false, false, true, true, true, true, false, true, true, true, false, true, false, true, true, true, true, true, false, false, false, false, true, true, true, true, false, false, false, false, false, false, false, false, false, false, true, true, false, true, false, false, true, false, true, true, true, false, false, true, false, true, true, true, true, false, false, true, false, true, false, true, false, true, true, true, true, true, true, true, true, true, true, true, false, true, true, false, false, false, true, true, true, true, false, true, true, false, true, true, true, false, true, true, true, true, true, true, true, false, false, false, false, false, false, false, true, false, false, false, false, false, true, true, true, true, false, true, true, false, false, false, false, false, false, false, true, true, false, true, true, true, true, false, false, false, true, true, true, true, true, false, false, false, true, true, false, false, true, true, true, true, true, true, true, true, false, true, true, false, true, true, false, false, false, false, false, true, false, false, false, false, true, false, false, false, true, true, true, false, true, true, false, false, false, false, true, false, false, true, true, true, true, false, false, false, false, false, false, false, true, false, false, false, true, false, false, false, false, false, false, false, false, false, false, false, true, false, false, false, false, true, true, true, true, false, true, true, true, true, false, false, false, false, true, true, false, false, true, true, true, true, false, false, false, false, false, false, false, true, false, false, false, false, false, true, true, true, true, false, false, false, false, false, false, false, true, true, false, false, false, false, true, false, true, false, false, true, false, true, false, false, false, false, false, false, false, false, false, false, false, false, false, false, false, false, true, false, false, false, false, false, false, false, false, false, false, false, false, false, false, true, true, false, false, false, false, false, false, false, true, false, true, false, true, true, true, false, false, false, false, true, true, false, false, false, false, true, true, false, false, false, false, true, true, true, true, false, false, false, false, false, false, false, true, false, false, false, false, false, false, false, false, true, false, false, true, true, true, false, false, false, false, false, false, false, false, false, false, true, true, false, false, false, false, false, true, true, false, true, false, true, true, true, true, true, false, false, false, false, true, false, true, true, false, true, true, true, false, true, false, true, false, true, true, true, true, true, true, true, true, false, true, false, false, false, true, true, false, true, true, false, false, false, false, false, true, true, true, false, true, true, true, true, false, true, true, false, false, false, false, false, false, true, false, true, false, false, false, false, false, false, false, false, true, true, true, true, true, true, true, true, false, true, true, true, true, false, false, false, false, false, false, false, false, false, false, true, false, true, true, true, true, true, true, true, true, true, false, false, false, true, true, true, false, false, false, false, false, true, true, false, false, true, false, false, false, false, false, false, false, true, true, false, false, false, false, true, true, true, true, true, false, false, true, true, true, true, false, true, true, true, true, true, true, true, false, true, true, true, false, false, true, false, false, false, false, false, true, false, true, false, false, false, true, true, false, false, true, false, true, false, false, false, true, true, false, false, true, false, false, false, false, false, true, true, true, true, false, false, false, true, true, false, false, false, true, true, false, false, false, true, true, true, false, true, true, true, true, false, true, false, false, true, false, true, true, true, false, true, true, false, false, false, false, false, false, false, true, false, false, false, false, false, true, false, false, false, true, false, false, true, false, false, false, false, false, true, false, false, false, false, false, false, false, false, false, true, false, false, false, false, false, false, false, false, false, false, false, false, false, false, false, false, false, false, false, false, false, false, false, false, false, false, true, false, false, false, true, false, true, true, false, false, false, false, false, false, false, true, false, false, false, false, false, false, false, false, true, true, true, true, false, true, false, true, true, true, true, true, true, true, true, true, true, true, true, true, true, false, false, false, false, false, false, false, false, false, false, false, false, false, false, false, false, false, true, true, true, true, true, false, false, false, true, false, false, false, false, false, false, true, true, false, true, true, true, true, true, false, true, true, true, true, true, false, false, false, false, false, false, true, true, true, true, true, true, true, false, true, true, true, false, false, true, true, true, false, true, true, true, false, true, true, true, true, false, true, true, true, false, false, true, false, true, true, true, true, false, false, false, false, true, true, true, true, false, true, true, true, false, false, false, true, true, true, false, true, true, true, true, true, true, false, true, true, false, false, false, false, false, false, false, false, true, true, true, true, true, true, true, true, true, true, false, true, true, false, false, true, true, true, true, true, true, true, false, false, false, true, true, true, true, true, true, true, true, false, false, false, false, false, false, false, false, false, false, true, true, false, true, true, true, false, true, true, true, false, false, false, false, false, true, true, true, true, true, true, false, true, false, false, false, false, false, false, false, false, false, true, true, false, false, false, true, true, false, false, false, true, true, false, false, false, false, false, false, false, false, true, true, false, false, false, false, false, false, false, true, true, false, false, false, false, false, false, false, false, false, false, false, false, false, false, false, false, false, false, false, false, false, false, false, false, false, false, false, false, false, true, true, true, false, true, false, true, false, false, false, true, true, false, false, false, false, false, true, true, false, false, false, false, false, false, false, false, false, false, false, false, false, false, false, true, false, false, false, false, false, false, false, false, false, true, false, false, false, true, false, false, false, false, false, false, true, false, false, false, false, false, false, false, false, true, true, false, false, false, true, true, false, false, false, false, true, true, true, true, false, false, false, false, false, false, false, true, false, false, false, true, true, true, false, true, false, false, true, true, false, false, false, true, false, true, false, false, false, false, false, false, false, true, true, false, false, true, true, true, true, false, true, true, false, true, false, false, true, false, false, true, true, true, true, false, false, false, false, false, false, false, false, true, true, true, true, true, true, false, false, false, false, false, true, true, true, true, true, false, true, true, false, true, true, false, false, false, false, false, true, true, true, true, true, true, true, true, true, true, true, false, false, true, false, false, false, false, false, false, false, true, true, true, true, true, true, true, true, true, false, false, false, false, false, true, true, true, true, true, false, true, true, true, true, true, true, false, false, true, false, false, false, false, false, false, true, false, true, true, true, true, true, true, true, true, true, true, false, true, true, true, true, true, true, true, true, false, true, true, false, true, false, true, true, true, true, true, true, false, true, true, true, false, false, false, false, false, false, true, false, false, false, false, true, true, true, true, true, false, true, true, false, false, false, false, true, true, true, true, false, false, false, false, false, false, false, false, false, true, false, false, true, true, false, true, false, false, false, false, false, false, false, false, true, true, true, true, false, false, false, false, false, true, true, false, false, false, false, false, false, false, false, false, false, false, false, false, false, false, true, true, false, false, false, false, false, false, false, true, true, true, false, false, false, false, true, true, true, true, false, false, true, true, false, false, false, false, false, true, true, true, false, false, false, false, false, false, true, false, false, true, true, true, true, false, false, false, false, true, true, false, false, false, false, true, false, true, false, false, false, false, false, false, false, false, false, false, false, false, false, false, true, false, false, false, false, false, false, false, false, false, false, false, false, false, false, false, false, true, true, true, true, true, true, false, false, false, true, false, true, false, true, false, false, false, true, false, false, false, true, false, false, false, false, false, false, false, true, true, false, false, false, false, false, false, true, false, false, false, false, false, false, false, false, false, false, false, false, true, false, true, true, true, true, false, true, false, false, true, false, true, true, false, true, true, true, true, true, true, false, false, true, true, true, true, true, true, true, true, true, false, true, true, false, true, true, true, false, true, true, true, false, false, false, true, false, true, true, false, true, true, true, true, true, true, true, true, false, false, false, true, true, false, false, false, false, false, true, true, false, false, true, true, false, false, true, true, true, true, true, true, true, false, true, true, false, false, false, false, false, false, false, false, false, true, true, true, true, true, false, true, true, true, false, false, false, false, false, false, false, false, true, true, true, false, true, true, true, true, true, true, false, true, true, true, true, true, true, true, true, true, false, true, true, true, true, false, false, false, false, false, false, false, true, true, true, true, true, true, true, true, true, true, true, true, true, true, false, true, true, true, true, false, false, false, true, true, true, true, true, true, true, false, true, true, true, true, true, false, false, true, false, true, false, false, false, false, false, true, true, false, false, true, false, true, true, true, true, true, true, false, false, true, true, true, true, false, true, true, true, false, false, false, true, false, false, true, false, false, true, false, false, false, false, true, false, false, false, true, true, true, false, true, false, false, false, false, false, false, false, false, false, false, false, false, true, true, false, false, false, false, true, false, true, true, false, true, false, false, false, false, false, false, false, false, false, false, false, false, false, false, false, false, false, false, false, false, false, false, false, false, false, false, false, false, false, true, false, false, false, false, false, false, false, false, false, false, false, true, false, false, false, false, false, true, false, false, false, false, false, false, false, false, true, false, false, false, false, false, false, false, false, true, false, false, false, false, false, false, false, false, false, false, true, false, false, false, true, false, true, false, false, false, false, false, false, false, false, false, false, false, true, false, false, false, true, true, true, true, true, false, false, false, false, false, false, false, false, false, false, true, true, true, true, true, false, false, true, true, true, true, true, true, false, true, true, true, true, true, true, true, true, false, false, false, true, true, true, false, false, false, true, true, true, true, true, true, true, true, false, false, false, false, false, false, true, true, true, false, true, true, true, true, true, true, true, false, false, true, true, true, true, false, true, true, true, true, true, true, false, false, false, false, false, true, false, false, false, false, false, false, false, false, true, false, false, false, false, true, true, false, false, false, false, false, false, false, false, false, false, false, true, false, false, false, false, true, true, true, true, true, true, true, false, true, false, false, false, false, true, false, false, false, false, true, false, false, false, true, true, false, true, true, true, false, false, false, false, false, false, false, false, false, false, false, false, false, true, true, true, true, true, true, false, true, true, true, true, true, true, false, true, true, false, false, false, true, false, false, false, true, false, false, false, true, false, true, true, true, false, true, true, false, true, false, true, true, false, false, false, false, true, false, false, true, true, false, true, false, true, false, false, true, true, false, false, false, false, false, false, false, false, true, false, false, false, false, true, true, true, false, true, false, true, false, false, true, true, false, false, false, false, false, true, true, true, false, false, false, false, false, false, false, true, false, false, false, false, false, true, false, false, false, false, false, false, false, false, false, false, false, false, false, false, false, false, false, false, false, false, false, false, false, false, false, false, false, false, false, false, false, true, true, true, false, false, false, false, true, false, true, true, false, false, false, false, false, false, false, false, false, false, false, false, false, false, false, false, false, false, false, true, false, false, false, false, false, true, true, true, true, true, true, false, true, true, true, false, true, true, false, false, false, false, false, false, false, false, false, false, false, false, false, false, false, false, false, false, true, false, false, false, false, true, false, false, false, false, true, false, false, true, true, true, true, true, true, true, true, true, false, true, true, true, true, true, true, true, true, true, true, true, true, false, false, false, false, true, true, false, true, false, true, true, true, false, false, false, true, false, true, false, false, false, false, true, true, true, true, true, true, false, false, false, false, false, false, false, false, false, false, false, false, false, false, false, false, false, false, false, false, false, true, false, true, true, true, true, true, true, false, true, true, true, true, false, false, true, true, true, true, true, true, false, true, false, true, true, false, false, true, true, true, true, true, true, true, true, true, true, false, false, false, false, false, false, false, false, true, true, true, true, true, true, false, true, true, true, true, true, true, false, false, false, false, false, true, false, false, false, true, true, true, true, true, false, true, false, false, false, false, true, false, false, true, false, true, true, true, false, false, true, true, true, false, true, false, false, true, false, false, false, false, true, false, true, false, false, false, true, true, false, false, false, false, true, true, false, true, true, true, true, true, false, false, true, true, true, true, true, false, true, false, true, false, true, true, true, false, false, false, true, true, true, false, true, false, false, false, false, true, false, false, false, false, false, false, false, false, false, false, false, false, false, false, false, false, false, false, true, false, true, true, true, true, false, false, false, false, false, false, false, false, true, true, false, true, false, true, true, false, false, false, false, false, true, false, false, false, false, false, true, false, false, false, false, false, false, false, false, false, false, false, false, false, false, false, false, false, false, false, false, false, false, false, false, false, false, false, false, false, false, false, false, false, false, false, false, false, false, false, false, false, false, true, true, true, false, false, false, false, false, false, false, false, false, false, true, false, false, true, false, false, true, true, true, false, false, false, false, true, true, true, true, false, true, true, true, false, false, false, false, false, false, false, false, false, false, false, false, false, false, false, false, false, false, false, false, false, false, false, true, true, true, true, false, true, true, true, false, false, false, false, true, true, true, false, false, false, false, false, true, true, true, true, false, true, true, true, true, true, true, true, true, true, false, true, false, true, true, false, false, false, true, false, false, false, false, false, true, true, true, true, false, false, false, true, true, false, true, true, false, true, true, false, false, true, true, false, true, true, true, true, true, false, false, false, false, false, false, true, true, true, false, false, false, false, true, false, false, false, false, true, true, true, true, true, true, true, true, true, true, true, true, true, false, false, false, false, false, true, true, true, true, false, true, true, false, false, false, false, true, true, false, false, false, false, true, true, true, true, true, false, true, true, false, true, true, true, true, true, true, true, false, true, true, true, false, false, false, false, true, false, true, false, false, false, false, false, false, false, false, true, false, true, true, true, false, false, true, true, false, false, true, false, true, true, false, false, false, false, false, false, false, false, false, false, true, false, true, true, true, false, false, false, false, false, false, false, false, true, true, true, true, false, false, false, false, false, false, false, false, false, false, false, false, false, true, true, true, true, true, false, false, false, false, false, false, false, false, false, false, false, false, false, true, false, false, false, false, true, true, false, false, false, false, false, false, false, false, false, false, false, false, true, false, false, false, false, true, false, false, false, false, false, false, false, true, true, false, false, false, false, false, false, false, false, false, false, false, false, false, false, false, false, false, false, false, false, false, false, false, false, true, true, true, false, false, false, false, false, false, false, false, false, false, false, false, false, false, false, false, false, false, false, false, false, false, false, false, false, false, false, false, true, false, true, true, false, false, false, false, false, false, false, false, false, false, true, false, false, false, false, false, false, false, false, false, false, false, false, false, false, false, false, false, true, false, false, false, false, false, false, false, false, false, false, true, false, false, false, false, true, true, true, false, false, false, false, false, false, false, true, true, true, true, true, false, true, true, false, false, false, false, true, true, true, true, false, false, false, false, true, true, true, true, true, true, true, true, true, true, true, true, false, true, false, true, false, true, false, true, false, true, true, true, false, false, false, false, false, false, true, false, false, false, false, false, false, false, false, false, true, true, true, true, true, true, true, true, true, false, false, false, true, false, true, false, false, false, false, false, true, false, true, false, false, true, false, false, false, false, true, true, true, true, false, false, false, true, false, false, true, false, false, false, false, false, false, false, false, false, false, false, true, false, true, false, true, true, false, false, true, true, false, false, false, false, false, false, false, false, false, false, true, true, true, true, true, true, true, false, true, true, false, false, true, true, true, true, true, true, true, false, false, false, false, false, true, false, false, true, true, false, false, false, true, true, false, true, false, false, false, true, true, true, true, true, true, false, false, true, false, false, false, false, false, true, true, false, true, true, true, true, false, false, false, true, false, false, false, true, true, true, false, false, true, true, true, true, true, true, true, true, false, true, true, false, false, false, false, false, false, false, false, false, false, false, true, false, false, false, false, false, false, false, false, true, true, false, false, true, false, false, false, false, false, false, true, false, false, false, false, false, false, false, false, false, false, false, false, false, false, false, false, false, false, false, false, false, false, false, false, false, false, false, false, false, false, false, false, false, true, true, false, false, false, false, false, false, false, false, false, false, false, false, true, false, false, false, false, false, false, false, false, false, false, true, false, false, false, false, false, false, true, true, true, true, false, false, false, true, true, true, true, true, false, false, false, false, false, false, false, true, false, false, false, false, false, false, false, true, true, true, true, false, true, false, false, true, false, false, false, false, false, false, false, false, true, false, true, true, true, true, true, false, true, true, true, true, true, true, false, false, true, true, true, false, true, true, true, true, true, true, false, false, true, false, false, false, false, true, false, false, true, true, false, false, false, false, true, true, false, false, false, false, false, true, true, true, true, true, true, true, false, false, false, true, true, true, true, true, true, true, true, true, true, false, true, true, false, false, true, true, true, true, true, true, true, false, true, true, true, false, false, false, true, false, false, false, true, false, true, true, false, false, false, false, false, false, false, false, false, false, false, false, false, true, true, true, true, true, true, true, true, true, true, false, true, true, true, true, false, false, true, true, true, true, true, true, true, true, true, true, true, true, true, true, true, true, true, false, false, true, true, true, true, true, true, true, true, true, true, true, true, true, true, false, false, false, false, false, false, false, false, false, false, false, false, true, true, false, true, false, false, true, false, false, false, false, false, false, false, false, false, false, false, false, false, true, true, true, false, false, false, false, false, true, true, false, false, false, true, true, false, false, true, true, true, true, false, false, false, false, false, false, false, false, false, false, false, false, false, false, true, true, false, false, false, false, true, false, false, false, false, false, false, false, false, true, true, true, true, true, true, false, false, false, false, false, false, false, false, false, false, false, false, true, false, false, false, false, false, false, false, false, false, false, false, false, false, true, false, false, false, false, false, false, false, false, false, false, false, false, false, false, true, false, false, false, false, false, true, true, false, false, false, false, false, false, false, false, false, false, true, false, false, false, false, false, false, false, false, false, false, false, false, false, false, true, true, false, false, false, false, false, false, false, true, true, false, false, true, true, false, false, false, true, false, false, false, false, false, true, true, true, true, false, false, false, false, true, false, true, true, true, true, true, true, true, false, true, false, false, false, false, false, true, true, false, true, false, true, true, true, true, true, true, false, false, true, false, false, true, true, true, false, true, true, true, true, false, false, false, false, false, true, true, true, true, false, true, true, false, false, false, false, false, false, false, false, false, false, true, false, false, false, true, false, false, false, true, true, false, false, true, true, false, true, true, true, true, true, true, true, false, true, false, true, true, true, false, false, false, false, false, true, true, false, false, true, true, true, true, true, true, true, true, true, true, true, true, true, true, true, true, true, true, false, false, true, true, true, true, false, true, true, false, false, true, true, false, false, false, false, false, false, true, true, true, true, true, true, true, true, false, false, true, true, false, false, true, false, true, true, false, true, true, false, false, false, false, false, false, false, false, false, false, false, false, false, false, false, false, false, false, true, false, true, true, false, false, true, false, true, true, false, true, true, true, true, false, true, true, true, false, false, true, false, false, false, true, false, false, false, false, false, false, true, true, false, false, false, false, true, true, true, false, false, false, false, false, true, false, false, true, true, true, true, true, true, false, true, false, true, true, true, false, true, false, false, false, true, false, false, false, false, false, true, false, false, false, false, false, true, false, true, false, true, false, false, true, true, false, false, false, false, false, false, false, false, false, false, false, false, false, false, false, false, false, false, true, false, false, false, false, false, false, false, false, false, false, false, false, false, false, false, false, false, false, false, false, false, false, true, true, true, false, true, false, false, false, false, false, false, false, true, true, true, true, false, false, false, false, false, true, false, false, false, false, false, false, false, false, true, false, false, false, false, false, false, false, false, false, false, false, false, false, false, true, true, true, true, false, true, false, false, true, false, true, true, false, true, true, true, true, true, false, true, true, false, false, false, true, false, true, true, true, true, true, false, true, true, true, false, false, true, true, true, true, false, true, true, true, false, false, true, false, true, false, true, true, true, true, false, true, false, false, true, true, true, true, true, true, false, false, false, true, true, true, true, true, false, true, true, true, false, true, false, false, false, false, false, false, true, false, true, true, false, true, true, true, false, false, false, false, true, true, true, true, true, true, true, true, true, false, false, true, false, false, false, false, false, false, false, false, false, true, false, false, false, true, true, true, true, true, false, false, false, false, false, false, true, true, true, true, true, true, true, true, true, false, false, false, false, false, false, false, false, false, true, true, true, true, true, false, true, false, true, true, true, true, false, false, false, false, false, true, true, false, true, false, true, true, false, false, false, false, false, false, false, false, true, true, true, true, true, false, true, true, true, false, false, false, true, true, false, false, false, false, false, false, false, true, true, true, false, false, true, true, false, false, false, false, false, true, false, true, false, false, false, false, false, true, false, false, true, true, true, false, false, false, false, true, true, true, true, true, false, true, false, false, false, false, false, false, false, false, true, false, false, false, false, false, true, false, true, true, false, false, false, true, false, false, false, false, false, false, false, false, true, true, false, false, false, false, false, false, false, false, false, false, false, false, false, false, false, false, false, false, false, false, false, false, false, true, false, false, false, false, false, false, false, false, false, false, false, false, true, true, false, true, false, false, false, false, false, false, false, false, false, false, false, false, false, false, false, false, false, true, true, true, false, true, false, false, false, false, false, false, false, false, false, false, false, false, false, false, false, false, false, false, false, false, false, false, false, false, false, false, false, false, false, false, false, false, false, false, false, false, false, false, false, false, false, false, false, false, false, true, false, false, false, false, false, true, false, true, true, false, true, true, false, false, true, false, false, true, true, true, false, true, true, true, true, true, false, true, false, false, true, true, true, true, true, false, false, true, true, true, true, true, true, false, false, true, false, false, true, true, true, false, true, true, false, true, true, false, false, false, false, false, true, false, true, true, false, true, true, true, true, true, true, false, true, false, true, true, true, true, true, false, false, false, true, true, false, false, false, false, true, true, false, false, false, true, true, true, true, true, true, true, true, true, true, true, true, true, true, false, false, false, false, true, true, false, false, true, true, true, true, true, false, true, true, true, true, true, true, true, false, false, false, false, false, false, false, false, true, true, true, false, false, false, false, false, false, false, false, false, true, false, true, false, false, false, false, false, false, false, false, false, true, false, false, false, false, false, false, false, true, true, false, false, false, true, false, true, true, true, false, true, true, true, false, false, true, true, false, false, false, false, true, true, true, true, true, false, false, false, false, false, false, false, true, true, false, false, false, false, false, false, false, false, false, false, false, false, false, false, false, false, false, false, true, true, false, false, false, false, false, false, false, false, false, false, true, false, false, true, true, false, false, false, false, false, false, false, false, false, false, false, false, false, false, true, true, false, true, false, false, true, true, true, true, true, false, true, false, false, false, false, false, false, false, false, true, false, false, false, true, false, false, false, false, false, false, false, false, false, false, false, false, false, true, true, false, false, false, false, false, false, false, false, false, false, false, false, false, false, false, false, false, false, false, false, false, false, false, false, false, false, true, true, true, false, false, true, false, false, false, false, false, false, false, false, false, true, true, false, false, false, true, true, false, true, false, false, false, false, false, true, true, false, false, false, false, true, false, false, false, true, false, false, false, true, false, true, true, true, true, false, false, true, false, false, false, true, true, true, true, true, false, true, true, false, true, true, true, true, true, true, true, false, false, true, true, true, true, true, false, true, true, false, false, false, false, true, false, true, true, false, false, false, false, true, false, true, true, false, true, true, false, false, true, false, true, true, true, true, true, true, false, false, true, true, true, true, true, true, true, false, false, false, true, true, false, false, false, true, false, false, false, false, false, false, false, false, false, false, true, true, true, true, true, true, true, true, false, true, false, false, false, false, false, false, false, false, false, false, false, true, false, true, false, false, false, false, false, false, false, false, true, true, false, false, false, false, false, false, false, true, true, true, true, false, false, false, true, false, false, false, false, true, true, true, true, false, true, true, true, true, true, true, false, false, false, false, false, true, true, false, true, true, true, false, false, true, true, true, true, true, true, true, true, false, true, true, true, true, false, true, true, true, true, true, true, true, false, true, true, true, true, true, true, true, true, true, true, false, true, false, false, false, false, false, false, false, false, false, true, true, true, false, false, false, false, false, true, true, false, true, true, true, false, false, false, false, true, true, true, true, true, true, false, false, true, false, false, false, false, false, false, false, true, false, false, false, false, false, true, false, false, false, true, true, false, false, false, false, false, false, false, true, false, false, true, false, true, false, false, true, true, true, true, true, false, false, false, true, true, true, false, false, false, false, false, false, false, false, false, false, false, false, false, false, false, false, true, true, false, false, false, false, true, true, false, true, false, false, false, false, false, false, false, false, false, false, false, false, false, false, false, false, false, false, false, false, true, false, false, false, false, false, false, false, false, false, false, false, false, false, false, false, false, false, false, false, false, false, true, false, false, false, false, false, false, false, true, true, true, false, false, true, false, false, true, true, false, false, false, false, true, false, false, false, false, true, true, false, false, false, false, false, false, false, false, false, false, false, true, true, true, false, false, false, true, true, false, false, false, false, true, true, true, true, true, true, true, true, false, true, true, true, true, true, true, true, true, true, false, false, false, false, false, false, false, false, false, false, false, false, false, true, false, true, true, true, true, true, true, true, false, true, true, true, true, false, true, true, false, false, false, false, false, false, false, true, true, true, true, true, false, false, false, false, false, false, false, false, false, false, false, false, true, false, true, false, false, false, true, true, true, true, true, true, false, true, true, true, true, true, true, true, true, true, true, true, true, true, false, false, false, false, true, true, false, false, false, false, true, true, true, true, true, true, true, true, false, false, false, false, false, false, false, false, false, false, false, true, false, true, true, true, true, false, false, false, true, true, false, false, false, false, false, false, false, true, false, true, true, false, true, false, false, true, false, false, true, true, true, false, false, false, false, false, false, false, true, false, true, true, true, true, false, false, true, false, false, false, false, false, true, false, true, true, false, true, false, true, false, true, true, true, false, false, false, false, false, true, true, true, false, false, true, true, false, false, false, false, false, false, false, false, false, false, false, false, true, true, false, false, true, false, false, false, false, false, false, false, false, false, false, false, false, false, false, false, false, false, true, true, false, false, false, false, false, false, false, false, false, false, false, false, false, true, true, true, false, false, false, false, false, false, false, false, false, false, false, false, false, false, false, false, false, false, false, false, false, false, false, true, true, true, false, false, false, true, true, true, false, false, true, true, false, false, false, false, false, false, false, false, false, false, false, false, false, false, false, false, true, false, false, false, false, false, false, false, false, false, false, false, true, true, false, false, true, false, true, true, false, true, false, false, true, true, true, false, true, true, true, false, true, false, true, false, true, false, true, true, true, true, true, true, true, true, true, true, false, true, false, false, false, true, true, true, true, true, true, true, true, true, true, true, false, true, true, true, true, false, true, true, false, false, true, true, true, true, true, true, true, true, false, false, false, true, true, true, false, false, false, false, false, false, false, false, false, false, true, true, true, true, true, true, true, true, true, true, true, true, false, false, false, false, false, false, false, false, false, true, true, true, true, true, false, true, false, false, false, false, false, false, false, true, true, false, false, true, true, true, true, true, true, false, false, false, true, true, false, false, false, false, false, false, true, true, false, false, true, true, true, true, true, true, true, false, false, true, true, true, true, true, true, true, false, false, false, false, false, false, false, true, false, false, false, true, false, true, true, true, false, true, true, true, true, true, false, false, true, true, true, true, false, false, false, false, false, false, true, false, true, false, true, true, false, false, true, false, false, false, true, true, true, false, false, false, false, false, false, false, false, false, false, false, false, false, false, false, false, false, false, false, false, false, false, false, true, true, false, false, false, false, true, false, true, true, true, false, false, true, false, false, true, false, false, false, false, false, false, false, false, false, false, false, true, true, false, false, true, false, false, true, false, false, false, false, false, false, false, false, false, false, false, false, false, false, false, true, true, false, false, false, false, false, false, false, false, false, false, true, true, false, false, true, false, true, false, false, false, true, true, false, false, false, false, false, false, false, false, false, false, true, false, false, false, false, false, false, true, false, false, false, false, false, false, false, false, false, false, false, false, false, false, false, false, false, false, false, false, true, true, true, true, true, true, true, true, true, false, false, false, false, true, true, true, true, false, false, false, true, true, true, false, false, true, true, false, false, false, true, false, false, false, false, false, false, false, false, false, false, true, true, true, true, false, true, true, true, true, false, true, false, true, true, false, false, true, true, true, true, true, false, true, true, true, true, true, true, true, false, false, false, false, false, true, true, true, true, true, true, false, false, true, true, true, false, false, false, false, false, false, false, true, true, true, true, true, true, true, true, true, true, true, true, false, true, false, false, false, true, true, true, true, true, true, true, true, true, true, true, true, true, true, true, true, true, false, false, false, false, true, true, true, true, true, true, true, false, false, false, false, false, false, true, true, true, true, true, true, true, true, true, false, false, false, false, false, false, false, true, true, true, false, true, false, true, true, true, true, false, false, false, false, false, false, true, false, true, true, true, false, false, false, true, false, true, false, true, true, false, false, false, false, true, false, false, true, false, true, true, true, false, true, true, true, true, true, false, false, true, true, true, true, true, false, false, false, true, true, true, false, false, false, false, true, false, false, false, true, true, true, true, false, true, true, true, false, true, true, true, true, false, false, false, false, true, false, false, false, false, false, false, false, false, false, false, false, false, false, false, false, false, false, false, false, true, false, false, false, false, false, true, true, false, false, false, false, false, false, false, false, true, true, false, false, false, false, false, false, false, false, false, false, false, false, true, true, true, false, false, false, false, false, false, false, false, false, false, false, false, false, true, true, true, false, false, false, false, false, false, false, false, false, false, false, false, false, false, false, false, false, false, false, false, false, false, false, false, false, true, true, false, false, true, true, true, false, true, false, false, false, false, false, true, true, true, false, true, true, true, true, true, false, false, false, false, false, false, false, false, false, false, true, true, true, false, false, false, false, false, false, true, true, true, true, true, false, true, true, false, false, true, true, true, true, true, false, false, true, true, false, false, false, false, true, false, true, true, true, false, true, false, true, true, true, true, true, true, true, true, true, true, false, false, true, true, true, true, true, false, false, true, false, true, false, true, true, true, true, true, true, true, true, true, true, false, true, false, false, false, true, true, true, true, true, true, false, true, false, true, true, true, true, true, true, true, true, false, false, false, true, true, true, false, false, false, false, false, true, true, true, true, true, true, false, true, false, false, false, true, true, true, true, true, true, true, false, false, false, false, false, false, false, false, true, true, true, true, false, true, false, true, true, false, false, false, false, false, false, true, true, true, true, true, true, false, true, true, true, true, true, false, true, true, true, false, true, true, true, true, true, true, false, false, true, false, true, true, true, false, false, false, true, false, false, true, false, false, false, false, false, false, true, false, true, true, true, true, true, false, true, true, true, false, true, true, false, false, true, true, true, true, true, true, true, true, true, true, false, false, false, false, false, false, false, false, true, false, false, false, false, false, true, false, false, true, true, false, false, true, true, true, true, true, true, true, true, true, false, false, false, false, false, false, true, false, false, false, false, true, true, false, true, true, true, true, true, false, false, false, false, true, true, false, true, false, false, false, true, false, true, true, true, true, true, false, false, false, false, false, false, false, false, false, false, false, false, false, false, false, false, false, false, false, false, false, false, false, false, false, false, false, false, false, false, false, false, false, false, false, false, false, false, false, true, false, false, false, true, true, true, true, true, true, false, false, true, false, false, false, false, false, false, false, false, false, true, false, true, true, true, true, true, true, false, false, false, false, false, false, true, true, true, false, false, true, true, true, true, true, true, true, true, true, true, true, false, false, false, true, false, false, true, false, false, false, false, true, true, false, false, true, false, true, true, true, false, false, false, true, false, true, true, true, false, false, false, false, false, false, false, false, true, true, true, true, true, false, true, true, true, true, false, false, true, true, true, false, false, false, false, false, false, true, false, true, true, false, false, false, false, true, true, true, false, true, true, false, true, true, false, false, true, true, false, false, false, true, true, false, true, true, true, true, true, false, false, false, false, true, true, true, true, true, true, true, true, true, true, true, true, true, true, true, false, true, true, false, false, true, true, true, true, true, false, false, true, false, true, true, true, true, true, true, false, true, true, true, true, true, true, false, false, true, false, false, true, true, true, true, false, false, false, false, true, true, true, false, true, false, false, true, true, false, false, false, false, true, true, true, true, true, false, false, false, false, true, true, false, false, true, false, false, false, true, false, true, true, true, true, false, false, false, false, false, false, false, false, false, false, true, true, false, false, false, false, false, false, false, false, true, false, false, false, false, false, true, false, false, false, true, true, false, false, false, false, false, false, false, false, false, true, true, true, true, false, false, false, false, false, false, false, false, false, false, true, true, false, false, false, false, true, false, false, true, false, false, false, false, true, true, false, false, false, false, false, false, false, true, true, true, false, false, false, false, false, false, true, false, false, true, true, false, false, false, false, false, false, false, false, false, false, false, false, false, false, true, false, false, false, false, false, false, false, false, false, false, false, false, false, false, false, true, true, false, false, false, false, false, false, true, false, false, false, false, false, false, false, false, false, false, false, false, false, false, false, false, false, false, false, false, false, false, false, false, true, true, false, false, false, false, false, true, true, false, false, false, false, false, true, true, true, false, false, false, false, true, true, true, false, true, true, true, false, false, true, false, false, false, false, false, false, true, true, false, true, false, false, false, true, true, true, true, true, true, false, false, true, true, false, true, true, true, true, true, true, false, false, true, true, true, true, true, true, true, true, true, false, true, true, true, true, false, true, true, false, true, true, false, true, true, true, true, false, true, false, true, false, false, false, false, false, false, true, true, true, true, true, true, false, true, false, false, false, false, false, true, true, false, true, true, false, true, true, true, true, true, true, true, true, true, true, true, true, false, false, true, true, true, true, true, true, true, true, true, true, true, true, true, true, true, true, false, false, true, false, true, true, true, true, true, true, true, true, true, true, true, true, true, true, true, true, true, true, false, false, false, true, false, false, false, true, true, true, true, false, true, true, false, false, true, true, false, true, true, true, true, true, true, false, false, false, true, true, true, true, false, true, true, false, true, false, true, false, false, false, false, false, false, true, true, false, false, false, false, true, true, true, false, false, true, true, true, true, false, false, true, true, false, true, false, true, true, true, false, false, true, true, true, false, false, false, false, false, false, true, false, false, false, false, false, true, false, false, false, false, true, false, false, true, false, false, false, false, false, false, false, false, false, true, false, true, true, true, true, true, false, false, false, true, true, true, false, true, true, false, false, false, false, false, false, false, false, false, false, false, false, true, true, false, false, false, false, false, false, true, false, false, false, false, false, false, false, false, false, true, true, true, true, true, false, false, false, false, false, true, false, true, false, false, false, false, false, false, false, false, false, false, false, false, false, true, true, false, false, false, false, false, true, false, false, false, false, false, false, false, false, false, false, false, false, false, false, false, false, false, true, true, false, false, false, false, false, false, false, false, false, false, false, true, true, true, true, false, true, true, true, false, false, false, false, false, false, false, false, false, true, false, true, false, true, true, true, true, true, false, false, true, false, true, true, false, true, true, true, true, true, true, false, true, true, true, false, true, true, true, true, true, true, true, true, true, false, true, true, true, true, false, true, true, true, false, true, true, true, true, true, true, true, true, true, true, false, true, false, false, false, false, false, false, false, false, false, false, true, true, true, false, true, true, false, true, true, true, true, true, true, true, true, true, false, true, true, false, true, true, true, true, false, false, true, false, false, false, false, true, true, true, false, false, false, true, false, true, true, true, false, false, false, true, true, true, false, false, false, false, false, true, true, false, false, true, true, true, true, true, false, true, true, true, false, false, false, true, true, true, true, false, true, true, true, true, true, true, false, false, false, true, false, false, false, false, true, true, true, false, false, false, false, false, false, true, true, false, false, false, false, false, false, true, true, true, false, false, false, false, false, true, true, true, false, true, false, true, true, false, false, true, true, true, true, true, false, false, true, true, true, false, false, false, false, false, false, false, true, false, false, true, false, false, false, false, true, true, true, true, true, true, false, false, false, false, true, true, true, true, true, true, true, true, false, false, false, false, false, true, false, false, false, false, false, true, false, false, false, false, false, true, true, true, true, false, false, false, false, false, false, false, false, false, false, false, false, false, false, false, false, false, false, true, false, false, false, false, false, false, false, false, false, false, false, false, false, false, false, false, false, false, false, false, false, false, false, false, false, false, true, false, false, false, false, false, false, true, true, false, false, true, false, false, false, true, true, false, false, true, true, true, true, true, false, false, false, false, false, false, false, true, true, true, false, false, false, false, false, false, false, false, true, true, true, false, false, false, false, false, false, false, true, true, false, false, true, false, false, true, true, false, true, true, false, false, false, false, false, false, true, true, true, false, true, false, false, false, true, true, true, false, true, true, false, false, false, false, false, false, false, false, false, false, false, false, false, true, true, true, true, false, false, true, true, true, true, false, false, false, false, false, true, true, false, false, false, false, true, false, true, false, false, false, true, true, true, true, false, true, true, true, false, true, true, true, false, false, true, true, true, false, false, true, true, false, false, false, true, true, false, false, true, true, true, true, true, false, false, true, false, false, false, true, true, true, false, true, true, true, true, false, true, false, true, false, false, false, false, false, false, true, true, true, true, false, false, true, false, false, false, false, false, false, false, true, false, false, false, false, false, true, true, true, false, false, false, true, false, true, false, true, true, true, false, false, false, false, true, true, true, true, true, false, true, true, true, true, false, false, true, true, false, false, false, true, false, true, false, false, false, true, true, true, false, false, false, true, true, false, false, false, true, true, true, true, true, false, false, true, true, false, false, false, false, false, false, true, true, true, true, true, false, false, false, false, false, false, false, false, false, false, false, true, false, false, false, true, true, true, false, true, true, false, true, true, true, true, true, false, false, false, false, false, false, false, false, false, false, false, true, false, true, true, false, false, false, false, false, false, false, false, false, false, false, false, false, false, false, false, false, true, true, false, false, false, false, true, false, false, true, false, false, true, true, false, false, false, false, true, true, false, false, false, false, false, false, false, false, false, false, false, false, false, false, false, false, false, true, true, true, false, false, false, false, false, false, false, false, true, false, true, false, false, false, false, false, false, false, false, false, false, false, false, false, true, true, false, false, true, false, false, false, true, true, false, false, false, false, false, false, false, false, false, true, true, true, false, true, false, true, true, true, false, true, false, false, true, false, true, true, true, true, true, true, true, false, true, true, true, true, true, true, true, false, false, false, false, false, false, true, true, true, true, true, true, false, false, true, true, true, true, false, false, true, false, false, true, true, true, true, true, true, true, true, true, false, true, true, true, true, true, true, false, true, true, false, true, true, true, false, false, false, false, false, false, true, true, false, false, true, true, true, false, false, true, true, true, true, false, false, true, true, false, false, false, false, false, true, true, true, false, false, true, true, true, true, true, false, true, true, true, true, true, true, false, true, true, true, false, false, true, false, false, false, false, false, true, true, true, true, true, true, true, true, true, false, false, true, true, false, false, false, false, true, false, false, false, true, true, true, true, true, false, true, true, false, true, true, true, false, false, true, true, false, false, false, false, false, false, false, true, false, false, false, false, false, true, false, true, true, true, true, true, true, true, true, false, false, false, false, true, true, false, false, false, true, true, false, false, false, false, true, false, false, false, true, false, false, false, false, false, false, true, false, false, true, true, true, true, true, true, true, false, false, true, false, true, true, true, false, false, false, false, false, true, true, true, true, true, false, false, false, false, false, false, false, false, true, true, false, false, false, false, false, false, false, false, true, true, true, false, false, false, false, false, false, false, true, false, false, false, false, false, false, false, false, false, false, false, false, false, false, false, false, false, false, true, false, true, false, true, false, false, false, false, true, true, false, false, false, false, false, false, false, false, false, false, false, false, false, false, false, false, false, false, false, true, false, false, false, false, false, false, false, true, false, false, false, false, false, true, false, false, false, false, false, false, false, true, true, false, false, false, false, false, false, false, false, false, false, false, true, false, false, false, true, true, true, false, false, true, true, true, false, false, false, false, false, false, false, false, true, false, false, false, false, false, false, false, false, false, true, false, false, false, false, false, false, false, true, true, true, true, true, true, true, true, true, true, true, false, true, true, false, false, false, false, false, false, false, false, false, false, false, false, false, false, true, false, false, false, false, true, true, true, true, true, true, true, true, true, true, true, false, false, false, false, true, true, false, true, true, true, true, true, true, true, true, true, false, false, false, false, false, false, true, true, true, false, false, false, false, false, false, false, true, true, true, true, true, true, true, true, true, true, true, true, true, true, false, false, false, false, false, true, false, false, false, false, false, true, true, true, true, true, true, true, true, false, false, false, false, false, true, false, true, false, false, false, false, true, true, true, true, true, true, true, true, true, true, false, true, true, true, true, true, true, true, true, true, false, false, false, true, true, true, true, true, false, true, false, true, true, false, true, true, true, true, false, false, false, true, false, false, true, true, true, true, true, false, true, false, false, true, false, false, false, true, true, true, true, false, false, false, false, false, false, false, false, true, true, true, false, false, true, true, true, false, true, true, true, false, false, false, true, false, false, false, false, false, false, false, false, false, false, true, false, false, true, false, false, false, false, true, false, true, true, true, false, false, false, false, false, false, false, true, false, false, false, false, false, false, false, false, false, false, false, false, true, true, false, false, false, false, false, false, false, false, false, false, false, false, false, false, false, false, false, false, false, false, false, true, false, false, false, true, true, false, false, false, false, false, false, false, false, false, false, false, false, false, false, false, false, false, false, false, false, false, false, false, false, false, false, false, true, true, false, true, true, false, false, false, false, true, true, true, true, false, false, false, false, false, false, false, false, false, false, false, false, true, false, false, false, true, false, true, true, false, true, true, false, false, true, true, true, false, true, true, true, true, false, false, false, false, false, false, true, false, false, true, true, false, false, false, false, true, false, false, true, false, false, false, false, true, true, true, true, true, true, true, false, true, false, true, false, true, true, true, false, true, true, true, true, true, true, true, true, false, true, true, true, true, true, true, true, false, false, true, true, true, false, false, true, false, false, true, false, false, true, true, true, true, true, false, false, true, true, true, true, true, false, true, true, true, true, false, false, true, false, false, false, true, true, true, false, false, false, true, true, true, true, true, true, true, true, false, true, false, false, false, false, false, false, true, true, true, true, true, true, false, false, false, false, true, true, true, true, true, true, false, false, false, true, true, true, false, true, false, true, false, false, false, false, false, false, false, true, true, true, false, false, true, true, true, true, true, true, false, false, true, false, false, false, false, false, false, false, false, false, false, false, false, false, true, true, true, true, true, true, true, true, false, false, true, false, false, false, true, false, false, false, false, false, false, false, false, false, true, true, false, true, true, false, false, false, false, false, false, false, false, false, false, true, false, false, true, true, true, true, false, false, false, false, false, false, false, true, true, true, true, true, false, true, true, true, true, false, false, false, false, false, false, false, false, false, false, false, false, false, false, false, false, false, false, false, false, false, true, true, false, true, true, false, false, false, false, false, false, false, false, false, false, false, false, false, false, false, false, false, false, false, false, false, false, false, true, false, false, true, true, false, false, false, false, false, false, false, false, false, false, false, false, false, true, true, false, true, true, true, false, false, false, false, false, true, false, false, false, false, false, false, true, false, true, true, true, true, true, true, true, true, true, false, false, false, true, false, false, false, false, false, false, false, false, false, false, false, false, true, true, false, true, true, false, false, false, false, false, true, true, true, true, true, false, false, true, false, false, false, false, false, false, true, true, false, true, true, false, false, false, false, false, false, false, false, false, false, false, true, true, true, true, true, false, false, false, true, true, true, true, true, true, false, true, true, false, false, false, true, true, true, true, true, true, true, true, false, true, true, false, false, false, false, true, false, false, false, false, false, true, true, false, false, true, true, false, true, false, false, false, false, true, true, true, true, false, false, false, false, false, true, true, true, true, false, true, true, true, false, false, false, true, true, true, false, true, true, false, false, false, true, false, true, false, false, false, false, false, true, false, false, false, false, false, false, false, false, false, false, false, false, false, false, false, true, true, true, false, false, false, false, false, false, true, false, false, false, false, false, false, true, false, false, true, true, true, false, false, false, false, true, true, true, true, false, true, true, true, true, false, true, false, true, false, false, true, true, true, false, false, true, true, true, true, false, false, false, false, true, true, false, false, false, true, true, true, false, true, false, true, false, false, false, true, true, true, false, false, false, true, true, true, true, true, true, true, true, true, false, false, false, false, false, false, false, false, true, true, false, false, false, true, false, true, true, false, false, true, true, true, false, false, true, true, false, false, false, true, true, false, false, true, true, true, false, false, false, false, false, false, false, true, true, false, true, false, false, true, true, false, false, false, false, false, false, false, false, false, true, false, false, false, false, false, false, false, false, false, false, false, false, false, false, false, false, false, false, false, false, false, false, false, false, false, true, false, false, false, false, false, false, false, false, false, false, true, true, false, false, false, false, false, false, false, false, false, false, true, true, false, false, false, true, true, false, false, false, false, false, false, false, false, false, false, false, false, true, true, true, true, false, false, false, true, true, true, true, true, true, true, true, true, true, false, true, true, true, false, false, false, true, false, true, false, true, true, true, true, true, true, true, true, true, true, true, true, true, false, true, true, true, true, true, false, false, false, false, false, false, false, false, false, true, true, false, true, true, true, false, true, true, true, false, false, false, false, false, false, false, false, true, true, false, false, false, false, false, true, true, true, true, true, true, true, true, true, true, true, true, true, true, true, true, true, true, true, true, true, true, true, true, true, true, true, false, true, true, true, true, true, true, false, true, false, true, true, true, true, true, true, true, true, true, true, true, false, false, false, true, false, false, false, false, true, false, false, false, false, false, false, false, false, false, true, false, false, true, true, true, false, true, false, false, true, true, true, true, true, true, false, false, true, true, true, true, true, true, false, false, true, true, true, true, false, true, false, true, false, false, true, true, false, true, false, false, false, false, true, false, false, false, true, true, true, true, true, false, false, false, true, true, false, false, false, false, false, false, false, true, false, false, false, false, false, false, true, false, true, false, false, false, false, false, false, false, false, false, false, true, false, true, true, true, true, true, true, true, true, false, false, true, true, true, true, true, false, false, false, true, true, false, false, true, true, true, false, true, false, false, false, false, false, false, false, false, false, false, false, false, false, false, false, false, false, true, false, false, false, false, false, false, false, true, true, false, false, false, false, false, false, false, false, false, false, false, false, false, false, false, false, false, false, false, false, false, false, false, false, false, false, true, false, false, false, false, false, false, false, false, false, false, false, false, false, false, false, false, false, false, false, true, false, false, false, false, false, false, false, false, false, false, true, false, false, false, true, true, true, true, false, true, true, true, true, false, false, false, false, false, false, false, false, false, false, false, false, false, false, true, false, false, false, false, false, false, false, true, true, true, false, true, true, false, false, false, false, true, false, false, false, false, true, false, false, false, true, true, true, true, true, true, true, true, true, true, true, true, true, true, false, false, false, true, true, true, true, true, false, false, true, true, false, true, true, true, false, false, false, false, false, false, false, true, true, true, true, true, true, true, false, false, false, true, true, true, false, true, true, true, true, true, false, false, false, false, true, true, true, true, true, true, true, false, true, true, false, false, false, false, false, true, true, true, true, false, false, false, false, false, true, false, false, false, false, false, false, false, false, true, true, false, true, true, true, true, true, true, false, true, true, true, true, true, false, true, true, true, true, true, true, true, true, true, true, false, true, true, false, true, false, true, true, true, true, true, true, true, false, true, false, true, true, true, true, false, true, true, true, true, true, true, false, false, true, true, false, false, false, false, false, false, true, true, true, false, false, false, true, true, false, true, true, true, false, false, true, false, false, true, false, false, false, false, false, true, true, true, true, true, false, false, false, false, false, false, false, false, false, false, false, false, false, true, true, true, true, false, false, false, false, false, true, false, false, false, false, false, false, false, true, true, true, false, false, true, false, false, false, true, false, true, false, true, false, false, false, false, false, false, true, false, false, false, true, true, false, false, false, false, false, false, false, false, false, false, false, false, false, true, false, false, false, true, true, true, true, true, true, true, false, false, false, false, false, false, false, false, false, false, true, false, false, false, false, false, false, false, false, false, false, false, false, false, false, true, true, true, true, false, false, false, true, false, false, false, false, false, false, false, false, true, true, false, false, false, false, false, false, false, false, false, false, false, true, true, false, false, false, true, false, false, false, true, false, true, true, true, true, true, true, true, true, false, true, true, false, true, true, false, true, false, false, true, true, true, true, true, true, true, false, false, true, false, false, false, false, true, false, false, true, false, false, true, false, false, true, true, true, true, true, true, false, true, true, true, true, true, true, true, false, false, false, false, false, true, false, true, false, false, true, true, true, true, false, true, false, false, false, true, false, false, true, true, true, true, true, true, true, true, false, true, true, false, true, false, true, true, true, false, false, false, true, true, true, true, true, true, true, true, true, true, true, false, true, false, false, false, false, true, true, false, false, false, false, false, true, false, true, true, true, true, false, false, true, false, true, true, true, true, true, true, false, false, false, false, true, false, false, false, false, false, false, true, false, false, false, false, true, true, true, true, false, true, false, false, true, true, false, false, true, true, false, true, true, true, true, true, false, true, true, false, false, true, false, true, true, false, true, true, false, true, false, false, false, true, true, true, true, true, false, true, false, false, true, true, true, false, true, false, true, true, true, true, true, false, false, false, true, true, true, true, false, false, true, false, false, false, false, false, false, true, true, true, true, false, false, false, false, false, true, true, true, false, true, true, true, false, false, false, false, false, true, false, true, true, true, true, true, false, false, true, true, false, false, false, false, false, false, false, false, false, false, false, false, false, false, false, false, false, false, false, false, false, false, true, false, false, false, false, false, false, false, false, false, false, false, false, false, false, false, false, false, false, false, false, false, false, false, false, false, true, false, true, true, false, false, false, false, false, false, false, true, false, false, false, false, false, false, false, false, true, true, true, true, false, false, true, true, true, true, false, false, false, false, false, false, false, false, false, false, false, false, false, false, false, false, false, false, false, false, false, false, false, true, true, true, false, true, true, false, false, false, false, false, false, true, true, true, true, true, true, true, false, false, false, false, true, false, true, true, true, false, false, true, false, false, true, false, false, false, false, false, false, false, true, true, true, true, true, false, true, true, true, true, true, true, true, true, false, false, false, false, true, false, true, true, false, false, false, true, false, true, true, true, true, true, true, false, false, false, false, true, false, true, true, false, true, true, true, false, false, true, true, false, true, true, true, false, true, true, true, true, true, true, true, true, true, true, false, true, true, true, true, true, false, true, true, true, false, false, false, false, false, false, false, false, false, false, false, true, true, false, true, false, false, false, true, false, false, false, false, true, true, false, true, true, true, false, false, false, false, true, false, false, false, false, false, false, true, true, true, true, true, false, false, true, true, true, true, true, false, true, true, true, false, false, false, false, true, true, true, true, false, true, true, false, true, true, true, true, false, false, true, true, false, true, true, true, true, false, false, false, false, false, true, true, true, true, true, true, false, true, true, false, false, false, false, true, true, false, false, false, false, true, false, false, false, true, true, true, true, true, false, false, false, true, true, true, true, true, false, false, false, true, true, false, false, false, false, false, false, false, false, false, false, false, false, false, false, false, false, false, false, false, false, false, false, false, false, false, false, false, false, false, true, true, false, true, true, false, false, true, false, false, false, false, false, false, false, false, false, false, false, false, false, false, false, false, true, true, false, false, false, false, false, false, false, false, false, false, false, false, false, false, false, false, false, false, false, false, false, false, false, false, false, false, false, true, true, true, true, false, false, false, false, false, false, false, false, false, false, false, true, false, false, true, true, false, false, false, false, true, false, true, true, true, false, true, false, false, false, false, false, false, true, false, false, true, false, false, false, false, false, false, false, false, false, true, false, true, true, false, false, false, false, false, false, false, false, false, false, true, true, true, true, true, true, false, false, true, true, true, false, true, true, false, true, true, true, true, false, true, false, false, true, true, true, true, true, true, true, false, true, false, true, true, true, true, true, true, true, true, true, true, true, true, false, false, false, true, false, false, false, true, false, false, false, false, false, false, false, false, false, true, true, true, true, true, true, true, true, true, false, false, false, false, false, false, true, true, true, true, true, true, true, true, false, true, true, true, true, true, true, true, true, true, true, true, false, true, false, false, false, true, true, true, false, false, false, true, true, true, true, true, true, true, true, true, true, false, false, true, true, true, true, true, true, true, false, false, false, false, false, false, true, true, true, true, true, false, false, true, false, true, false, false, true, true, false, true, true, true, true, false, false, true, true, false, false, false, true, false, false, false, true, false, false, true, true, true, false, true, true, true, true, true, false, true, true, false, false, false, false, true, false, true, true, true, false, false, true, true, false, true, true, false, true, true, true, false, true, true, true, true, true, true, false, false, false, false, true, false, false, false, false, false, true, true, true, true, true, true, true, true, false, true, true, true, true, true, true, true, true, true, true, true, false, true, true, true, true, true, true, false, false, false, true, true, false, false, true, true, false, false, false, false, false, false, false, false, false, false, true, true, false, true, false, false, false, false, false, false, false, false, false, false, false, false, false, false, false, false, false, true, false, false, false, false, false, false, false, false, false, false, false, false, false, true, false, true, true, false, false, false, false, false, false, false, false, false, false, false, false, true, false, false, false, false, false, false, false, false, false, true, false, false, false, true, false, true, true, true, true, false, false, false, false, false, true, true, true, true, true, true, false, false, true, false, false, true, true, false, false, false, false, false, false, false, false, false, false, true, true, true, false, false, false, true, false, false, false, false, false, false, false, true, true, true, true, true, false, true, true, true, true, true, true, false, false, true, true, true, false, true, false, true, false, true, true, true, false, true, true, true, false, true, true, false, false, true, true, true, true, true, true, false, false, false, false, false, true, true, true, true, false, true, true, true, true, true, true, false, true, true, true, true, true, true, true, true, true, true, true, true, false, false, false, false, false, true, true, true, true, true, true, false, true, true, true, true, true, true, true, true, false, true, true, false, true, true, false, false, false, true, true, false, false, false, false, true, true, true, true, true, false, false, false, false, true, true, true, true, true, true, false, false, false, true, true, true, false, false, false, true, true, true, true, true, true, true, false, false, true, true, true, false, true, true, true, true, true, false, true, false, true, true, false, false, true, true, true, true, true, true, true, true, true, true, true, true, true, true, true, false, true, true, false, false, true, true, true, true, true, true, false, false, false, false, false, true, true, true, true, true, false, true, false, true, false, false, true, true, true, true, false, false, true, false, false, true, true, false, false, false, false, false, true, false, false, false, true, true, true, true, false, false, true, true, true, false, false, false, false, true, false, false, false, false, true, true, false, true, false, false, true, true, false, false, false, true, true, true, false, false, false, false, false, false, false, false, false, false, false, true, false, false, false, false, true, false, true, true, true, true, false, false, false, false, false, false, false, true, false, false, false, false, false, false, false, false, false, false, false, false, false, false, false, false, false, false, false, false, false, false, false, false, false, false, false, true, false, false, false, false, false, false, false, true, false, false, false, false, false, false, false, false, false, false, false, false, false, false, false, false, false, true, true, true, false, false, false, false, false, true, true, true, false, false, true, true, true, true, true, true, true, true, true, true, true, true, false, false, true, false, false, false, false, false, false, true, true, false, false, false, true, false, true, false, true, false, false, true, false, true, false, false, true, false, false, false, true, true, true, false, false, true, true, true, false, false, true, true, true, true, false, true, true, false, true, false, false, true, false, false, false, false, false, false, false, false, true, false, false, false, true, false, false, true, false, false, false, false, true, false, true, true, true, true, true, true, false, false, true, true, true, true, true, false, false, true, true, false, false, false, true, true, true, true, true, true, true, true, true, false, true, true, true, false, false, true, true, true, true, false, false, false, false, false, true, true, true, true, true, true, true, true, false, true, true, true, false, true, true, true, false, true, false, true, false, true, true, false, true, false, false, true, true, false, false, true, true, true, true, true, true, true, true, true, true, true, true, true, true, false, false, false, false, true, true, true, true, true, true, false, true, false, true, true, false, false, false, false, true, true, false, false, false, true, true, true, true, true, false, false, false, true, true, true, true, false, true, true, true, true, true, true, false, false, false, false, false, false, false, false, false, false, false, false, false, false, false, true, true, true, true, false, false, false, false, false, false, true, true, true, true, false, true, true, false, true, true, false, false, false, true, false, false, false, false, false, true, true, false, false, true, true, false, true, false, false, false, true, true, false, true, true, false, false, false, false, false, true, false, false, false, true, false, false, true, false, false, false, true, false, true, false, false, false, false, false, false, false, false, false, false, false, false, false, false, false, false, false, false, false, false, false, false, false, false, false, false, false, false, false, false, false, false, false, false, false, false, false, false, false, false, false, false, false, false, false, false, false, false, true, true, false, false, false, false, false, false, false, false, false, false, false, true, false, false, false, false, false, false, false, false, false, false, false, false, false, false, false, false, false, false, false, true, true, true, true, false, false, true, true, true, true, true, false, true, false, true, true, true, true, true, true, true, true, true, true, true, true, false, false, false, false, true, true, true, true, false, true, true, true, true, true, true, false, true, false, false, false, false, true, true, true, true, true, true, true, true, true, true, false, true, true, true, true, true, true, true, true, true, true, true, true, true, true, true, true, true, true, true, false, true, false, false, false, false, true, true, true, true, true, true, true, true, false, false, false, false, false, false, false, false, false, false, false, false, true, true, true, true, true, true, true, true, true, true, false, true, false, true, true, true, false, true, false, true, true, true, true, false, false, false, false, false, true, true, true, true, false, true, true, true, true, true, true, false, false, false, true, true, false, false, true, true, true, true, true, false, true, false, false, true, true, true, false, false, false, false, false, true, true, false, false, false, false, false, false, true, true, true, true, true, false, true, true, true, true, true, false, true, false, true, true, false, true, false, false, false, false, false, false, true, true, false, false, false, false, false, false, false, false, false, false, false, false, true, true, false, true, false, true, false, false, false, true, true, true, true, false, true, true, true, true, false, false, false, true, false, false, false, false, false, false, false, false, false, true, false, false, false, false, false, true, false, true, true, false, true, true, true, true, true, false, false, false, false, false, false, false, false, false, false, false, false, false, false, false, false, false, false, false, false, false, false, false, false, false, false, false, false, false, false, false, false, false, false, false, true, false, false, false, false, false, false, false, true, false, false, false, true, true, false, false, false, false, false, false, false, false, false, true, true, true, true, true, false, false, false, false, true, true, true, true, false, false, false, false, false, false, false, false, true, true, false, false, false, true, false, true, true, false, true, false, true, true, true, true, true, true, true, false, false, true, true, true, false, true, true, true, false, false, false, false, false, false, false, false, false, false, false, false, false, false, true, false, false, true, true, true, true, true, false, true, true, true, false, true, false, false, true, false, true, true, false, true, true, true, false, false, false, false, false, false, false, false, false, true, true, true, true, false, false, false, false, false, false, false, false, false, true, true, false, true, true, false, true, false, true, true, true, true, false, false, false, true, false, false, true, true, false, true, true, false, false, true, true, true, true, true, true, true, false, false, false, false, false, false, false, false, false, true, false, false, false, false, false, true, true, false, true, true, false, false, false, false, false, false, true, true, true, true, true, true, true, true, true, true, true, true, true, true, true, true, true, true, false, false, false, true, true, true, true, true, true, false, true, true, true, false, false, true, true, true, true, true, false, true, false, false, false, false, false, true, true, true, true, true, false, false, false, false, true, false, true, false, false, true, false, false, false, false, false, false, true, true, true, false, true, false, true, true, true, true, false, true, true, false, false, false, false, false, true, true, true, false, false, true, true, true, false, false, false, false, false, false, false, false, false, false, false, false, true, false, true, false, false, false, false, false, false, false, false, false, false, false, false, false, false, false, false, false, true, true, false, true, true, true, false, true, true, false, false, false, false, false, false, true, true, false, false, false, false, false, false, false, false, false, false, false, false, false, false, false, false, false, false, false, false, false, false, false, true, true, false, false, false, false, false, false, false, false, false, true, false, false, false, false, false, false, false, false, true, true, true, false, true, false, false, false, false, false, false, false, false, false, false, false, false, false, false, true, true, false, true, false, false, false, false, false, false, false, false, false, false, false, false, false, false, true, true, false, false, false, true, true, true, true, true, false, false, true, false, false, false, false, false, false, false, false, false, false, true, true, false, true, true, true, false, true, true, false, true, true, true, true, true, true, true, true, true, true, true, true, false, true, true, true, true, true, false, false, true, false, false, false, false, false, false, false, false, false, false, true, true, true, true, true, true, true, true, true, true, false, false, false, false, true, true, true, false, true, true, true, true, false, false, false, false, false, true, true, true, true, false, false, true, true, false, false, true, true, false, false, false, false, true, false, true, true, false, false, false, true, true, true, false, false, false, true, false, true, true, true, false, false, true, true, true, false, false, true, false, false, false, false, true, true, true, true, true, true, true, true, true, true, false, true, false, true, false, false, false, false, true, true, false, false, false, false, true, true, true, false, false, false, false, false, false, false, false, false, false, true, true, false, true, true, true, true, true, false, false, true, true, true, true, true, true, false, true, false, false, true, true, true, false, true, false, false, true, true, false, false, true, false, false, true, true, false, false, false, false, false, false, true, false, true, true, true, false, true, true, false, false, false, false, false, false, true, false, false, false, false, false, false, true, true, true, false, false, false, false, false, false, false, false, false, false, false, false, false, false, false, false, false, true, true, false, false, false, false, false, false, false, false, false, false, false, false, false, false, false, false, true, false, false, false, false, false, false, false, false, true, false, false, false, false, false, false, false, false, false, false, false, false, false, false, false, false, false, false, false, false, false, false, false, false, false, true, false, true, false, false, false, false, false, false, false, false, false, false, false, false, false, false, false, false, true, false, true, false, false, false, false, false, true, false, false, false, false, false, false, false, true, true, true, false, true, false, false, false, true, true, true, false, false, false, false, false, true, false, false, true, true, false, false, true, false, false, false, false, true, false, false, false, false, false, false, false, false, false, false, false, true, false, true, true, false, true, true, false, false, false, true, true, true, false, false, false, false, false, true, true, false, true, true, true, true, true, true, true, false, true, false, true, true, true, true, true, true, true, true, true, true, true, true, true, false, false, false, true, true, false, false, false, false, false, true, true, true, true, true, true, true, true, true, true, true, true, true, true, false, true, true, true, true, false, true, true, true, true, true, true, false, true, true, false, false, false, false, false, true, true, true, false, false, false, false, false, true, true, true, false, true, true, true, true, true, true, true, true, true, false, false, true, true, true, true, true, false, true, true, true, true, true, false, false, false, false, true, true, true, true, true, true, false, true, true, true, false, true, true, false, true, false, true, true, true, true, true, true, true, true, true, true, true, true, true, true, true, true, true, true, false, false, false, false, false, true, true, false, true, false, false, true, true, false, false, false, false, false, false, true, true, false, false, false, false, false, false, false, true, true, true, false, false, false, false, false, false, false, false, true, true, true, false, false, false, true, false, false, false, false, false, false, false, false, true, false, false, false, false, false, true, true, true, false, false, true, false, true, false, false, false, false, false, false, true, false, false, false, true, true, false, false, false, false, false, true, true, true, false, false, false, true, false, false, true, false, false, true, false, false, true, true, false, false, false, false, false, false, false, false, false, false, false, true, true, true, true, false, false, false, false, false, false, false, false, true, false, false, false, true, false, false, false, false, false, false, false, false, false, false, true, false, false, false, false, true, false, false, false, false, false, false, false, false, false, false, false, false, false, false, false, false, false, false, false, false, false, false, false, true, true, true, false, false, true, true, true, true, false, false, false, false, false, false, false, false, true, false, true, false, false, false, true, false, false, false, true, false, false, false, true, false, false, true, true, true, true, true, true, false, false, true, true, true, true, true, true, true, true, true, true, true, true, true, false, true, true, false, true, true, true, true, true, false, false, true, true, true, false, true, false, false, true, true, true, true, true, false, false, true, true, true, true, true, true, true, true, true, false, true, true, true, true, true, true, true, false, false, true, true, true, true, true, false, false, false, false, false, false, true, true, false, true, true, true, false, true, true, false, true, true, true, true, false, false, false, false, false, false, true, true, true, false, false, false, false, false, false, true, true, true, false, true, true, false, false, false, false, false, false, true, true, false, false, true, true, true, true, true, true, true, true, true, false, false, false, true, true, true, true, true, true, true, true, false, true, false, true, true, true, true, true, true, true, true, false, false, true, true, true, true, true, true, true, true, true, false, true, true, false, true, true, true, true, true, true, true, true, true, true, false, false, true, true, false, true, true, true, true, true, false, true, true, true, true, true, false, false, true, true, true, true, false, true, true, true, true, false, true, false, true, true, true, true, true, true, true, true, false, false, false, false, true, true, true, true, true, true, false, false, false, false, false, false, false, false, false, false, false, false, false, true, true, true, false, false, false, false, false, true, true, true, false, false, false, false, false, true, false, true, false, false, false, false, false, false, false, false, false, false, false, false, false, false, false, false, false, false, false, false, false, false, false, false, false, false, false, false, false, false, false, false, false, false, false, false, false, false, false, false, false, false, false, false, false, false, false, false, false, false, false, false, false, false, false, true, false, false, false, false, false, false, false, false, false, false, false, false, false, false, false, false, false, false, false, false, false, false, false, false, false, false, false, false, false, false, false, false, false, false, false, true, true, true, true, true, false, false, false, true, false, false, false, true, true, false, false, false, false, false, true, true, true, false, false, true, true, false, false, false, false, true, true, true, true, true, true, false, false, true, false, false, false, false, false, false, true, true, true, true, true, false, false, true, true, true, true, true, true, true, true, true, false, false, true, true, true, true, true, true, true, true, false, true, false, true, true, true, true, false, false, false, false, false, false, false, false, false, false, false], \"legendgroup\": \"\", \"name\": \"\", \"showlegend\": true, \"type\": \"pie\"}],\n",
              "                        {\"legend\": {\"tracegroupgap\": 0}, \"margin\": {\"t\": 60}, \"piecolorway\": [\"rgb(103,0,31)\", \"rgb(178,24,43)\", \"rgb(214,96,77)\", \"rgb(244,165,130)\", \"rgb(253,219,199)\", \"rgb(247,247,247)\", \"rgb(209,229,240)\", \"rgb(146,197,222)\", \"rgb(67,147,195)\", \"rgb(33,102,172)\", \"rgb(5,48,97)\"], \"template\": {\"data\": {\"bar\": [{\"error_x\": {\"color\": \"#2a3f5f\"}, \"error_y\": {\"color\": \"#2a3f5f\"}, \"marker\": {\"line\": {\"color\": \"#E5ECF6\", \"width\": 0.5}}, \"type\": \"bar\"}], \"barpolar\": [{\"marker\": {\"line\": {\"color\": \"#E5ECF6\", \"width\": 0.5}}, \"type\": \"barpolar\"}], \"carpet\": [{\"aaxis\": {\"endlinecolor\": \"#2a3f5f\", \"gridcolor\": \"white\", \"linecolor\": \"white\", \"minorgridcolor\": \"white\", \"startlinecolor\": \"#2a3f5f\"}, \"baxis\": {\"endlinecolor\": \"#2a3f5f\", \"gridcolor\": \"white\", \"linecolor\": \"white\", \"minorgridcolor\": \"white\", \"startlinecolor\": \"#2a3f5f\"}, \"type\": \"carpet\"}], \"choropleth\": [{\"colorbar\": {\"outlinewidth\": 0, \"ticks\": \"\"}, \"type\": \"choropleth\"}], \"contour\": [{\"colorbar\": {\"outlinewidth\": 0, \"ticks\": \"\"}, \"colorscale\": [[0.0, \"#0d0887\"], [0.1111111111111111, \"#46039f\"], [0.2222222222222222, \"#7201a8\"], [0.3333333333333333, \"#9c179e\"], [0.4444444444444444, \"#bd3786\"], [0.5555555555555556, \"#d8576b\"], [0.6666666666666666, \"#ed7953\"], [0.7777777777777778, \"#fb9f3a\"], [0.8888888888888888, \"#fdca26\"], [1.0, \"#f0f921\"]], \"type\": \"contour\"}], \"contourcarpet\": [{\"colorbar\": {\"outlinewidth\": 0, \"ticks\": \"\"}, \"type\": \"contourcarpet\"}], \"heatmap\": [{\"colorbar\": {\"outlinewidth\": 0, \"ticks\": \"\"}, \"colorscale\": [[0.0, \"#0d0887\"], [0.1111111111111111, \"#46039f\"], [0.2222222222222222, \"#7201a8\"], [0.3333333333333333, \"#9c179e\"], [0.4444444444444444, \"#bd3786\"], [0.5555555555555556, \"#d8576b\"], [0.6666666666666666, \"#ed7953\"], [0.7777777777777778, \"#fb9f3a\"], [0.8888888888888888, \"#fdca26\"], [1.0, \"#f0f921\"]], \"type\": \"heatmap\"}], \"heatmapgl\": [{\"colorbar\": {\"outlinewidth\": 0, \"ticks\": \"\"}, \"colorscale\": [[0.0, \"#0d0887\"], [0.1111111111111111, \"#46039f\"], [0.2222222222222222, \"#7201a8\"], [0.3333333333333333, \"#9c179e\"], [0.4444444444444444, \"#bd3786\"], [0.5555555555555556, \"#d8576b\"], [0.6666666666666666, \"#ed7953\"], [0.7777777777777778, \"#fb9f3a\"], [0.8888888888888888, \"#fdca26\"], [1.0, \"#f0f921\"]], \"type\": \"heatmapgl\"}], \"histogram\": [{\"marker\": {\"colorbar\": {\"outlinewidth\": 0, \"ticks\": \"\"}}, \"type\": \"histogram\"}], \"histogram2d\": [{\"colorbar\": {\"outlinewidth\": 0, \"ticks\": \"\"}, \"colorscale\": [[0.0, \"#0d0887\"], [0.1111111111111111, \"#46039f\"], [0.2222222222222222, \"#7201a8\"], [0.3333333333333333, \"#9c179e\"], [0.4444444444444444, \"#bd3786\"], [0.5555555555555556, \"#d8576b\"], [0.6666666666666666, \"#ed7953\"], [0.7777777777777778, \"#fb9f3a\"], [0.8888888888888888, \"#fdca26\"], [1.0, \"#f0f921\"]], \"type\": \"histogram2d\"}], \"histogram2dcontour\": [{\"colorbar\": {\"outlinewidth\": 0, \"ticks\": \"\"}, \"colorscale\": [[0.0, \"#0d0887\"], [0.1111111111111111, \"#46039f\"], [0.2222222222222222, \"#7201a8\"], [0.3333333333333333, \"#9c179e\"], [0.4444444444444444, \"#bd3786\"], [0.5555555555555556, \"#d8576b\"], [0.6666666666666666, \"#ed7953\"], [0.7777777777777778, \"#fb9f3a\"], [0.8888888888888888, \"#fdca26\"], [1.0, \"#f0f921\"]], \"type\": \"histogram2dcontour\"}], \"mesh3d\": [{\"colorbar\": {\"outlinewidth\": 0, \"ticks\": \"\"}, \"type\": \"mesh3d\"}], \"parcoords\": [{\"line\": {\"colorbar\": {\"outlinewidth\": 0, \"ticks\": \"\"}}, \"type\": \"parcoords\"}], \"pie\": [{\"automargin\": true, \"type\": \"pie\"}], \"scatter\": [{\"marker\": {\"colorbar\": {\"outlinewidth\": 0, \"ticks\": \"\"}}, \"type\": \"scatter\"}], \"scatter3d\": [{\"line\": {\"colorbar\": {\"outlinewidth\": 0, \"ticks\": \"\"}}, \"marker\": {\"colorbar\": {\"outlinewidth\": 0, \"ticks\": \"\"}}, \"type\": \"scatter3d\"}], \"scattercarpet\": [{\"marker\": {\"colorbar\": {\"outlinewidth\": 0, \"ticks\": \"\"}}, \"type\": \"scattercarpet\"}], \"scattergeo\": [{\"marker\": {\"colorbar\": {\"outlinewidth\": 0, \"ticks\": \"\"}}, \"type\": \"scattergeo\"}], \"scattergl\": [{\"marker\": {\"colorbar\": {\"outlinewidth\": 0, \"ticks\": \"\"}}, \"type\": \"scattergl\"}], \"scattermapbox\": [{\"marker\": {\"colorbar\": {\"outlinewidth\": 0, \"ticks\": \"\"}}, \"type\": \"scattermapbox\"}], \"scatterpolar\": [{\"marker\": {\"colorbar\": {\"outlinewidth\": 0, \"ticks\": \"\"}}, \"type\": \"scatterpolar\"}], \"scatterpolargl\": [{\"marker\": {\"colorbar\": {\"outlinewidth\": 0, \"ticks\": \"\"}}, \"type\": \"scatterpolargl\"}], \"scatterternary\": [{\"marker\": {\"colorbar\": {\"outlinewidth\": 0, \"ticks\": \"\"}}, \"type\": \"scatterternary\"}], \"surface\": [{\"colorbar\": {\"outlinewidth\": 0, \"ticks\": \"\"}, \"colorscale\": [[0.0, \"#0d0887\"], [0.1111111111111111, \"#46039f\"], [0.2222222222222222, \"#7201a8\"], [0.3333333333333333, \"#9c179e\"], [0.4444444444444444, \"#bd3786\"], [0.5555555555555556, \"#d8576b\"], [0.6666666666666666, \"#ed7953\"], [0.7777777777777778, \"#fb9f3a\"], [0.8888888888888888, \"#fdca26\"], [1.0, \"#f0f921\"]], \"type\": \"surface\"}], \"table\": [{\"cells\": {\"fill\": {\"color\": \"#EBF0F8\"}, \"line\": {\"color\": \"white\"}}, \"header\": {\"fill\": {\"color\": \"#C8D4E3\"}, \"line\": {\"color\": \"white\"}}, \"type\": \"table\"}]}, \"layout\": {\"annotationdefaults\": {\"arrowcolor\": \"#2a3f5f\", \"arrowhead\": 0, \"arrowwidth\": 1}, \"coloraxis\": {\"colorbar\": {\"outlinewidth\": 0, \"ticks\": \"\"}}, \"colorscale\": {\"diverging\": [[0, \"#8e0152\"], [0.1, \"#c51b7d\"], [0.2, \"#de77ae\"], [0.3, \"#f1b6da\"], [0.4, \"#fde0ef\"], [0.5, \"#f7f7f7\"], [0.6, \"#e6f5d0\"], [0.7, \"#b8e186\"], [0.8, \"#7fbc41\"], [0.9, \"#4d9221\"], [1, \"#276419\"]], \"sequential\": [[0.0, \"#0d0887\"], [0.1111111111111111, \"#46039f\"], [0.2222222222222222, \"#7201a8\"], [0.3333333333333333, \"#9c179e\"], [0.4444444444444444, \"#bd3786\"], [0.5555555555555556, \"#d8576b\"], [0.6666666666666666, \"#ed7953\"], [0.7777777777777778, \"#fb9f3a\"], [0.8888888888888888, \"#fdca26\"], [1.0, \"#f0f921\"]], \"sequentialminus\": [[0.0, \"#0d0887\"], [0.1111111111111111, \"#46039f\"], [0.2222222222222222, \"#7201a8\"], [0.3333333333333333, \"#9c179e\"], [0.4444444444444444, \"#bd3786\"], [0.5555555555555556, \"#d8576b\"], [0.6666666666666666, \"#ed7953\"], [0.7777777777777778, \"#fb9f3a\"], [0.8888888888888888, \"#fdca26\"], [1.0, \"#f0f921\"]]}, \"colorway\": [\"#636efa\", \"#EF553B\", \"#00cc96\", \"#ab63fa\", \"#FFA15A\", \"#19d3f3\", \"#FF6692\", \"#B6E880\", \"#FF97FF\", \"#FECB52\"], \"font\": {\"color\": \"#2a3f5f\"}, \"geo\": {\"bgcolor\": \"white\", \"lakecolor\": \"white\", \"landcolor\": \"#E5ECF6\", \"showlakes\": true, \"showland\": true, \"subunitcolor\": \"white\"}, \"hoverlabel\": {\"align\": \"left\"}, \"hovermode\": \"closest\", \"mapbox\": {\"style\": \"light\"}, \"paper_bgcolor\": \"white\", \"plot_bgcolor\": \"#E5ECF6\", \"polar\": {\"angularaxis\": {\"gridcolor\": \"white\", \"linecolor\": \"white\", \"ticks\": \"\"}, \"bgcolor\": \"#E5ECF6\", \"radialaxis\": {\"gridcolor\": \"white\", \"linecolor\": \"white\", \"ticks\": \"\"}}, \"scene\": {\"xaxis\": {\"backgroundcolor\": \"#E5ECF6\", \"gridcolor\": \"white\", \"gridwidth\": 2, \"linecolor\": \"white\", \"showbackground\": true, \"ticks\": \"\", \"zerolinecolor\": \"white\"}, \"yaxis\": {\"backgroundcolor\": \"#E5ECF6\", \"gridcolor\": \"white\", \"gridwidth\": 2, \"linecolor\": \"white\", \"showbackground\": true, \"ticks\": \"\", \"zerolinecolor\": \"white\"}, \"zaxis\": {\"backgroundcolor\": \"#E5ECF6\", \"gridcolor\": \"white\", \"gridwidth\": 2, \"linecolor\": \"white\", \"showbackground\": true, \"ticks\": \"\", \"zerolinecolor\": \"white\"}}, \"shapedefaults\": {\"line\": {\"color\": \"#2a3f5f\"}}, \"ternary\": {\"aaxis\": {\"gridcolor\": \"white\", \"linecolor\": \"white\", \"ticks\": \"\"}, \"baxis\": {\"gridcolor\": \"white\", \"linecolor\": \"white\", \"ticks\": \"\"}, \"bgcolor\": \"#E5ECF6\", \"caxis\": {\"gridcolor\": \"white\", \"linecolor\": \"white\", \"ticks\": \"\"}}, \"title\": {\"x\": 0.05}, \"xaxis\": {\"automargin\": true, \"gridcolor\": \"white\", \"linecolor\": \"white\", \"ticks\": \"\", \"title\": {\"standoff\": 15}, \"zerolinecolor\": \"white\", \"zerolinewidth\": 2}, \"yaxis\": {\"automargin\": true, \"gridcolor\": \"white\", \"linecolor\": \"white\", \"ticks\": \"\", \"title\": {\"standoff\": 15}, \"zerolinecolor\": \"white\", \"zerolinewidth\": 2}}}, \"title\": {\"text\": \"Rain or Not?\"}},\n",
              "                        {\"responsive\": true}\n",
              "                    ).then(function(){\n",
              "                            \n",
              "var gd = document.getElementById('67a97da2-28f7-4968-8d15-fddfaac88338');\n",
              "var x = new MutationObserver(function (mutations, observer) {{\n",
              "        var display = window.getComputedStyle(gd).display;\n",
              "        if (!display || display === 'none') {{\n",
              "            console.log([gd, 'removed!']);\n",
              "            Plotly.purge(gd);\n",
              "            observer.disconnect();\n",
              "        }}\n",
              "}});\n",
              "\n",
              "// Listen for the removal of the full notebook cells\n",
              "var notebookContainer = gd.closest('#notebook-container');\n",
              "if (notebookContainer) {{\n",
              "    x.observe(notebookContainer, {childList: true});\n",
              "}}\n",
              "\n",
              "// Listen for the clearing of the current output cell\n",
              "var outputEl = gd.closest('.output');\n",
              "if (outputEl) {{\n",
              "    x.observe(outputEl, {childList: true});\n",
              "}}\n",
              "\n",
              "                        })\n",
              "                };\n",
              "                \n",
              "            </script>\n",
              "        </div>\n",
              "</body>\n",
              "</html>"
            ]
          },
          "metadata": {
            "tags": []
          }
        }
      ]
    },
    {
      "cell_type": "code",
      "metadata": {
        "id": "MYExHx8orbLX"
      },
      "source": [
        "# X to all features\n",
        "X = df.loc[:,df.columns!='RAIN']\n",
        "# y to our target Rain\n",
        "y = df.RAIN"
      ],
      "execution_count": null,
      "outputs": []
    },
    {
      "cell_type": "code",
      "metadata": {
        "colab": {
          "base_uri": "https://localhost:8080/",
          "height": 202
        },
        "id": "dJok5MmeWeLu",
        "outputId": "97e158f3-dd73-4efa-a871-59a987c40dcb"
      },
      "source": [
        "df.head()"
      ],
      "execution_count": null,
      "outputs": [
        {
          "output_type": "execute_result",
          "data": {
            "text/html": [
              "<div>\n",
              "<style scoped>\n",
              "    .dataframe tbody tr th:only-of-type {\n",
              "        vertical-align: middle;\n",
              "    }\n",
              "\n",
              "    .dataframe tbody tr th {\n",
              "        vertical-align: top;\n",
              "    }\n",
              "\n",
              "    .dataframe thead th {\n",
              "        text-align: right;\n",
              "    }\n",
              "</style>\n",
              "<table border=\"1\" class=\"dataframe\">\n",
              "  <thead>\n",
              "    <tr style=\"text-align: right;\">\n",
              "      <th></th>\n",
              "      <th>DATE</th>\n",
              "      <th>PRCP</th>\n",
              "      <th>TMAX</th>\n",
              "      <th>TMIN</th>\n",
              "      <th>RAIN</th>\n",
              "    </tr>\n",
              "  </thead>\n",
              "  <tbody>\n",
              "    <tr>\n",
              "      <th>0</th>\n",
              "      <td>1948-01-01</td>\n",
              "      <td>0.47</td>\n",
              "      <td>51</td>\n",
              "      <td>42</td>\n",
              "      <td>True</td>\n",
              "    </tr>\n",
              "    <tr>\n",
              "      <th>1</th>\n",
              "      <td>1948-01-02</td>\n",
              "      <td>0.59</td>\n",
              "      <td>45</td>\n",
              "      <td>36</td>\n",
              "      <td>True</td>\n",
              "    </tr>\n",
              "    <tr>\n",
              "      <th>2</th>\n",
              "      <td>1948-01-03</td>\n",
              "      <td>0.42</td>\n",
              "      <td>45</td>\n",
              "      <td>35</td>\n",
              "      <td>True</td>\n",
              "    </tr>\n",
              "    <tr>\n",
              "      <th>3</th>\n",
              "      <td>1948-01-04</td>\n",
              "      <td>0.31</td>\n",
              "      <td>45</td>\n",
              "      <td>34</td>\n",
              "      <td>True</td>\n",
              "    </tr>\n",
              "    <tr>\n",
              "      <th>4</th>\n",
              "      <td>1948-01-05</td>\n",
              "      <td>0.17</td>\n",
              "      <td>45</td>\n",
              "      <td>32</td>\n",
              "      <td>True</td>\n",
              "    </tr>\n",
              "  </tbody>\n",
              "</table>\n",
              "</div>"
            ],
            "text/plain": [
              "         DATE  PRCP  TMAX  TMIN  RAIN\n",
              "0  1948-01-01  0.47    51    42  True\n",
              "1  1948-01-02  0.59    45    36  True\n",
              "2  1948-01-03  0.42    45    35  True\n",
              "3  1948-01-04  0.31    45    34  True\n",
              "4  1948-01-05  0.17    45    32  True"
            ]
          },
          "metadata": {
            "tags": []
          },
          "execution_count": 340
        }
      ]
    },
    {
      "cell_type": "code",
      "metadata": {
        "colab": {
          "base_uri": "https://localhost:8080/"
        },
        "id": "KBhsdWqwk8hy",
        "outputId": "ec05479f-804f-47cf-c1a1-9b9b71b8fdc0"
      },
      "source": [
        "df.value_counts()"
      ],
      "execution_count": null,
      "outputs": [
        {
          "output_type": "execute_result",
          "data": {
            "text/plain": [
              "DATE        PRCP  TMAX  TMIN  RAIN \n",
              "2017-12-14  0.00  50    36    False    1\n",
              "1971-04-17  0.15  56    43    True     1\n",
              "1971-04-19  0.00  60    40    False    1\n",
              "1971-04-20  0.08  51    44    True     1\n",
              "1971-04-21  0.00  54    41    False    1\n",
              "                                      ..\n",
              "1994-08-21  0.00  72    60    False    1\n",
              "1994-08-22  0.00  68    58    False    1\n",
              "1994-08-23  0.00  75    59    False    1\n",
              "1994-08-24  0.00  75    54    False    1\n",
              "1948-01-01  0.47  51    42    True     1\n",
              "Length: 25548, dtype: int64"
            ]
          },
          "metadata": {
            "tags": []
          },
          "execution_count": 341
        }
      ]
    },
    {
      "cell_type": "code",
      "metadata": {
        "colab": {
          "base_uri": "https://localhost:8080/"
        },
        "id": "rHJUDN0YWm3Q",
        "outputId": "5436a31a-e75a-45fa-d15a-83a5efe5a13a"
      },
      "source": [
        "df.info()"
      ],
      "execution_count": null,
      "outputs": [
        {
          "output_type": "stream",
          "text": [
            "<class 'pandas.core.frame.DataFrame'>\n",
            "Int64Index: 25548 entries, 0 to 25550\n",
            "Data columns (total 5 columns):\n",
            " #   Column  Non-Null Count  Dtype  \n",
            "---  ------  --------------  -----  \n",
            " 0   DATE    25548 non-null  object \n",
            " 1   PRCP    25548 non-null  float64\n",
            " 2   TMAX    25548 non-null  int64  \n",
            " 3   TMIN    25548 non-null  int64  \n",
            " 4   RAIN    25548 non-null  object \n",
            "dtypes: float64(1), int64(2), object(2)\n",
            "memory usage: 1.2+ MB\n"
          ],
          "name": "stdout"
        }
      ]
    },
    {
      "cell_type": "code",
      "metadata": {
        "colab": {
          "base_uri": "https://localhost:8080/"
        },
        "id": "Vmo9cx4UXXzS",
        "outputId": "ecf07fad-a657-4676-bb17-be0b90b2654d"
      },
      "source": [
        "df.shape"
      ],
      "execution_count": null,
      "outputs": [
        {
          "output_type": "execute_result",
          "data": {
            "text/plain": [
              "(25548, 5)"
            ]
          },
          "metadata": {
            "tags": []
          },
          "execution_count": 343
        }
      ]
    },
    {
      "cell_type": "code",
      "metadata": {
        "colab": {
          "base_uri": "https://localhost:8080/"
        },
        "id": "Xg2YU0RcWsVf",
        "outputId": "a5f92ab2-f52c-4bd1-df52-b590ba1753ef"
      },
      "source": [
        "df.dtypes"
      ],
      "execution_count": null,
      "outputs": [
        {
          "output_type": "execute_result",
          "data": {
            "text/plain": [
              "DATE     object\n",
              "PRCP    float64\n",
              "TMAX      int64\n",
              "TMIN      int64\n",
              "RAIN     object\n",
              "dtype: object"
            ]
          },
          "metadata": {
            "tags": []
          },
          "execution_count": 344
        }
      ]
    },
    {
      "cell_type": "code",
      "metadata": {
        "colab": {
          "base_uri": "https://localhost:8080/",
          "height": 294
        },
        "id": "Ua08fKQ8WvY6",
        "outputId": "7831e20c-60dd-4050-abf3-80e4bd205a32"
      },
      "source": [
        "df.describe()"
      ],
      "execution_count": null,
      "outputs": [
        {
          "output_type": "execute_result",
          "data": {
            "text/html": [
              "<div>\n",
              "<style scoped>\n",
              "    .dataframe tbody tr th:only-of-type {\n",
              "        vertical-align: middle;\n",
              "    }\n",
              "\n",
              "    .dataframe tbody tr th {\n",
              "        vertical-align: top;\n",
              "    }\n",
              "\n",
              "    .dataframe thead th {\n",
              "        text-align: right;\n",
              "    }\n",
              "</style>\n",
              "<table border=\"1\" class=\"dataframe\">\n",
              "  <thead>\n",
              "    <tr style=\"text-align: right;\">\n",
              "      <th></th>\n",
              "      <th>PRCP</th>\n",
              "      <th>TMAX</th>\n",
              "      <th>TMIN</th>\n",
              "    </tr>\n",
              "  </thead>\n",
              "  <tbody>\n",
              "    <tr>\n",
              "      <th>count</th>\n",
              "      <td>25548.000000</td>\n",
              "      <td>25548.000000</td>\n",
              "      <td>25548.000000</td>\n",
              "    </tr>\n",
              "    <tr>\n",
              "      <th>mean</th>\n",
              "      <td>0.106222</td>\n",
              "      <td>59.543056</td>\n",
              "      <td>44.513387</td>\n",
              "    </tr>\n",
              "    <tr>\n",
              "      <th>std</th>\n",
              "      <td>0.239031</td>\n",
              "      <td>12.773265</td>\n",
              "      <td>8.893019</td>\n",
              "    </tr>\n",
              "    <tr>\n",
              "      <th>min</th>\n",
              "      <td>0.000000</td>\n",
              "      <td>4.000000</td>\n",
              "      <td>0.000000</td>\n",
              "    </tr>\n",
              "    <tr>\n",
              "      <th>25%</th>\n",
              "      <td>0.000000</td>\n",
              "      <td>50.000000</td>\n",
              "      <td>38.000000</td>\n",
              "    </tr>\n",
              "    <tr>\n",
              "      <th>50%</th>\n",
              "      <td>0.000000</td>\n",
              "      <td>58.000000</td>\n",
              "      <td>45.000000</td>\n",
              "    </tr>\n",
              "    <tr>\n",
              "      <th>75%</th>\n",
              "      <td>0.100000</td>\n",
              "      <td>69.000000</td>\n",
              "      <td>52.000000</td>\n",
              "    </tr>\n",
              "    <tr>\n",
              "      <th>max</th>\n",
              "      <td>5.020000</td>\n",
              "      <td>103.000000</td>\n",
              "      <td>71.000000</td>\n",
              "    </tr>\n",
              "  </tbody>\n",
              "</table>\n",
              "</div>"
            ],
            "text/plain": [
              "               PRCP          TMAX          TMIN\n",
              "count  25548.000000  25548.000000  25548.000000\n",
              "mean       0.106222     59.543056     44.513387\n",
              "std        0.239031     12.773265      8.893019\n",
              "min        0.000000      4.000000      0.000000\n",
              "25%        0.000000     50.000000     38.000000\n",
              "50%        0.000000     58.000000     45.000000\n",
              "75%        0.100000     69.000000     52.000000\n",
              "max        5.020000    103.000000     71.000000"
            ]
          },
          "metadata": {
            "tags": []
          },
          "execution_count": 345
        }
      ]
    },
    {
      "cell_type": "code",
      "metadata": {
        "colab": {
          "base_uri": "https://localhost:8080/",
          "height": 141
        },
        "id": "9puUBTP2laEc",
        "outputId": "f1f6748c-236b-4158-a879-cf8a0e30cb68"
      },
      "source": [
        "corr = df.corr()\n",
        "corr"
      ],
      "execution_count": null,
      "outputs": [
        {
          "output_type": "execute_result",
          "data": {
            "text/html": [
              "<div>\n",
              "<style scoped>\n",
              "    .dataframe tbody tr th:only-of-type {\n",
              "        vertical-align: middle;\n",
              "    }\n",
              "\n",
              "    .dataframe tbody tr th {\n",
              "        vertical-align: top;\n",
              "    }\n",
              "\n",
              "    .dataframe thead th {\n",
              "        text-align: right;\n",
              "    }\n",
              "</style>\n",
              "<table border=\"1\" class=\"dataframe\">\n",
              "  <thead>\n",
              "    <tr style=\"text-align: right;\">\n",
              "      <th></th>\n",
              "      <th>PRCP</th>\n",
              "      <th>TMAX</th>\n",
              "      <th>TMIN</th>\n",
              "    </tr>\n",
              "  </thead>\n",
              "  <tbody>\n",
              "    <tr>\n",
              "      <th>PRCP</th>\n",
              "      <td>1.000000</td>\n",
              "      <td>-0.226736</td>\n",
              "      <td>-0.064365</td>\n",
              "    </tr>\n",
              "    <tr>\n",
              "      <th>TMAX</th>\n",
              "      <td>-0.226736</td>\n",
              "      <td>1.000000</td>\n",
              "      <td>0.860675</td>\n",
              "    </tr>\n",
              "    <tr>\n",
              "      <th>TMIN</th>\n",
              "      <td>-0.064365</td>\n",
              "      <td>0.860675</td>\n",
              "      <td>1.000000</td>\n",
              "    </tr>\n",
              "  </tbody>\n",
              "</table>\n",
              "</div>"
            ],
            "text/plain": [
              "          PRCP      TMAX      TMIN\n",
              "PRCP  1.000000 -0.226736 -0.064365\n",
              "TMAX -0.226736  1.000000  0.860675\n",
              "TMIN -0.064365  0.860675  1.000000"
            ]
          },
          "metadata": {
            "tags": []
          },
          "execution_count": 346
        }
      ]
    },
    {
      "cell_type": "code",
      "metadata": {
        "colab": {
          "base_uri": "https://localhost:8080/",
          "height": 287
        },
        "id": "IZ0nxnHUltAj",
        "outputId": "ceb2e60e-a654-4130-9581-ae5dfd8e203d"
      },
      "source": [
        "sns.heatmap(corr, annot=True)"
      ],
      "execution_count": null,
      "outputs": [
        {
          "output_type": "execute_result",
          "data": {
            "text/plain": [
              "<matplotlib.axes._subplots.AxesSubplot at 0x7feef9d4cb50>"
            ]
          },
          "metadata": {
            "tags": []
          },
          "execution_count": 347
        },
        {
          "output_type": "display_data",
          "data": {
            "image/png": "[encoded data removed]",
            "text/plain": [
              "<Figure size 432x288 with 2 Axes>"
            ]
          },
          "metadata": {
            "tags": [],
            "needs_background": "light"
          }
        }
      ]
    },
    {
      "cell_type": "code",
      "metadata": {
        "id": "JSzeLQkPl3eO"
      },
      "source": [
        "#X_train, X_test, y_train, y_test = train_test_split(X, y, test_size = 0.25, random_state = 0)"
      ],
      "execution_count": null,
      "outputs": []
    },
    {
      "cell_type": "code",
      "metadata": {
        "id": "jOcJjgc2l8JJ"
      },
      "source": [
        "StandardScaler_ = StandardScaler()\n",
        "\n",
        "X_train = StandardScaler_.fit_transform(X_train)\n",
        "X_test = StandardScaler_.transform(X_test)"
      ],
      "execution_count": null,
      "outputs": []
    },
    {
      "cell_type": "code",
      "metadata": {
        "colab": {
          "base_uri": "https://localhost:8080/",
          "height": 294
        },
        "id": "0H4MKj7amBoI",
        "outputId": "a4437a1d-3824-4212-d0d0-f4a7af699dd0"
      },
      "source": [
        "pd.DataFrame(X_train).describe()"
      ],
      "execution_count": null,
      "outputs": [
        {
          "output_type": "execute_result",
          "data": {
            "text/html": [
              "<div>\n",
              "<style scoped>\n",
              "    .dataframe tbody tr th:only-of-type {\n",
              "        vertical-align: middle;\n",
              "    }\n",
              "\n",
              "    .dataframe tbody tr th {\n",
              "        vertical-align: top;\n",
              "    }\n",
              "\n",
              "    .dataframe thead th {\n",
              "        text-align: right;\n",
              "    }\n",
              "</style>\n",
              "<table border=\"1\" class=\"dataframe\">\n",
              "  <thead>\n",
              "    <tr style=\"text-align: right;\">\n",
              "      <th></th>\n",
              "      <th>0</th>\n",
              "      <th>1</th>\n",
              "      <th>2</th>\n",
              "    </tr>\n",
              "  </thead>\n",
              "  <tbody>\n",
              "    <tr>\n",
              "      <th>count</th>\n",
              "      <td>7.664000e+03</td>\n",
              "      <td>7.664000e+03</td>\n",
              "      <td>7.664000e+03</td>\n",
              "    </tr>\n",
              "    <tr>\n",
              "      <th>mean</th>\n",
              "      <td>8.938715e-17</td>\n",
              "      <td>2.226566e-16</td>\n",
              "      <td>-1.688005e-16</td>\n",
              "    </tr>\n",
              "    <tr>\n",
              "      <th>std</th>\n",
              "      <td>1.000065e+00</td>\n",
              "      <td>1.000065e+00</td>\n",
              "      <td>1.000065e+00</td>\n",
              "    </tr>\n",
              "    <tr>\n",
              "      <th>min</th>\n",
              "      <td>-4.578495e-01</td>\n",
              "      <td>-1.052701e-01</td>\n",
              "      <td>-1.585090e+00</td>\n",
              "    </tr>\n",
              "    <tr>\n",
              "      <th>25%</th>\n",
              "      <td>-4.578495e-01</td>\n",
              "      <td>-1.052701e-01</td>\n",
              "      <td>-1.006373e+00</td>\n",
              "    </tr>\n",
              "    <tr>\n",
              "      <th>50%</th>\n",
              "      <td>-4.578495e-01</td>\n",
              "      <td>-1.052701e-01</td>\n",
              "      <td>-1.382984e-01</td>\n",
              "    </tr>\n",
              "    <tr>\n",
              "      <th>75%</th>\n",
              "      <td>2.608333e-04</td>\n",
              "      <td>-1.052701e-01</td>\n",
              "      <td>1.019135e+00</td>\n",
              "    </tr>\n",
              "    <tr>\n",
              "      <th>max</th>\n",
              "      <td>1.324381e+01</td>\n",
              "      <td>9.499373e+00</td>\n",
              "      <td>1.597851e+00</td>\n",
              "    </tr>\n",
              "  </tbody>\n",
              "</table>\n",
              "</div>"
            ],
            "text/plain": [
              "                  0             1             2\n",
              "count  7.664000e+03  7.664000e+03  7.664000e+03\n",
              "mean   8.938715e-17  2.226566e-16 -1.688005e-16\n",
              "std    1.000065e+00  1.000065e+00  1.000065e+00\n",
              "min   -4.578495e-01 -1.052701e-01 -1.585090e+00\n",
              "25%   -4.578495e-01 -1.052701e-01 -1.006373e+00\n",
              "50%   -4.578495e-01 -1.052701e-01 -1.382984e-01\n",
              "75%    2.608333e-04 -1.052701e-01  1.019135e+00\n",
              "max    1.324381e+01  9.499373e+00  1.597851e+00"
            ]
          },
          "metadata": {
            "tags": []
          },
          "execution_count": 350
        }
      ]
    },
    {
      "cell_type": "code",
      "metadata": {
        "id": "RoBDQOOcXGxp"
      },
      "source": [
        " #convert date from object to 'datetime' data type\n",
        "df['DATE'] = pd.to_datetime(df['DATE'])"
      ],
      "execution_count": null,
      "outputs": []
    },
    {
      "cell_type": "code",
      "metadata": {
        "colab": {
          "base_uri": "https://localhost:8080/"
        },
        "id": "fmViPwgSXlN5",
        "outputId": "149e151c-ed4c-4a63-d05c-6c9e5c537119"
      },
      "source": [
        "df.dtypes"
      ],
      "execution_count": null,
      "outputs": [
        {
          "output_type": "execute_result",
          "data": {
            "text/plain": [
              "DATE    datetime64[ns]\n",
              "PRCP           float64\n",
              "TMAX             int64\n",
              "TMIN             int64\n",
              "RAIN            object\n",
              "dtype: object"
            ]
          },
          "metadata": {
            "tags": []
          },
          "execution_count": 352
        }
      ]
    },
    {
      "cell_type": "code",
      "metadata": {
        "colab": {
          "base_uri": "https://localhost:8080/",
          "height": 202
        },
        "id": "fjpascHjXvyL",
        "outputId": "c8902ad8-76f5-45a3-be26-3be5bc18bf27"
      },
      "source": [
        "df['YEAR']=df['DATE'].map(lambda x: x.year)\n",
        "df['MONTH']=df['DATE'].map(lambda x: x.month)\n",
        "df.head()"
      ],
      "execution_count": null,
      "outputs": [
        {
          "output_type": "execute_result",
          "data": {
            "text/html": [
              "<div>\n",
              "<style scoped>\n",
              "    .dataframe tbody tr th:only-of-type {\n",
              "        vertical-align: middle;\n",
              "    }\n",
              "\n",
              "    .dataframe tbody tr th {\n",
              "        vertical-align: top;\n",
              "    }\n",
              "\n",
              "    .dataframe thead th {\n",
              "        text-align: right;\n",
              "    }\n",
              "</style>\n",
              "<table border=\"1\" class=\"dataframe\">\n",
              "  <thead>\n",
              "    <tr style=\"text-align: right;\">\n",
              "      <th></th>\n",
              "      <th>DATE</th>\n",
              "      <th>PRCP</th>\n",
              "      <th>TMAX</th>\n",
              "      <th>TMIN</th>\n",
              "      <th>RAIN</th>\n",
              "      <th>YEAR</th>\n",
              "      <th>MONTH</th>\n",
              "    </tr>\n",
              "  </thead>\n",
              "  <tbody>\n",
              "    <tr>\n",
              "      <th>0</th>\n",
              "      <td>1948-01-01</td>\n",
              "      <td>0.47</td>\n",
              "      <td>51</td>\n",
              "      <td>42</td>\n",
              "      <td>True</td>\n",
              "      <td>1948</td>\n",
              "      <td>1</td>\n",
              "    </tr>\n",
              "    <tr>\n",
              "      <th>1</th>\n",
              "      <td>1948-01-02</td>\n",
              "      <td>0.59</td>\n",
              "      <td>45</td>\n",
              "      <td>36</td>\n",
              "      <td>True</td>\n",
              "      <td>1948</td>\n",
              "      <td>1</td>\n",
              "    </tr>\n",
              "    <tr>\n",
              "      <th>2</th>\n",
              "      <td>1948-01-03</td>\n",
              "      <td>0.42</td>\n",
              "      <td>45</td>\n",
              "      <td>35</td>\n",
              "      <td>True</td>\n",
              "      <td>1948</td>\n",
              "      <td>1</td>\n",
              "    </tr>\n",
              "    <tr>\n",
              "      <th>3</th>\n",
              "      <td>1948-01-04</td>\n",
              "      <td>0.31</td>\n",
              "      <td>45</td>\n",
              "      <td>34</td>\n",
              "      <td>True</td>\n",
              "      <td>1948</td>\n",
              "      <td>1</td>\n",
              "    </tr>\n",
              "    <tr>\n",
              "      <th>4</th>\n",
              "      <td>1948-01-05</td>\n",
              "      <td>0.17</td>\n",
              "      <td>45</td>\n",
              "      <td>32</td>\n",
              "      <td>True</td>\n",
              "      <td>1948</td>\n",
              "      <td>1</td>\n",
              "    </tr>\n",
              "  </tbody>\n",
              "</table>\n",
              "</div>"
            ],
            "text/plain": [
              "        DATE  PRCP  TMAX  TMIN  RAIN  YEAR  MONTH\n",
              "0 1948-01-01  0.47    51    42  True  1948      1\n",
              "1 1948-01-02  0.59    45    36  True  1948      1\n",
              "2 1948-01-03  0.42    45    35  True  1948      1\n",
              "3 1948-01-04  0.31    45    34  True  1948      1\n",
              "4 1948-01-05  0.17    45    32  True  1948      1"
            ]
          },
          "metadata": {
            "tags": []
          },
          "execution_count": 353
        }
      ]
    },
    {
      "cell_type": "code",
      "metadata": {
        "colab": {
          "base_uri": "https://localhost:8080/",
          "height": 509
        },
        "id": "ZEAFQuooX8KS",
        "outputId": "ce4caa9e-d7ef-4b4f-ebd9-a1241cb30720"
      },
      "source": [
        "#convert RAIN to numeric \n",
        "#true/false\n",
        "#Rain True=1 /Not Rain=0 \n",
        "\n",
        "df['RAIN'] = df['RAIN'].apply(lambda x: 1 if x == True else 0)\n",
        "df.head(15)"
      ],
      "execution_count": null,
      "outputs": [
        {
          "output_type": "execute_result",
          "data": {
            "text/html": [
              "<div>\n",
              "<style scoped>\n",
              "    .dataframe tbody tr th:only-of-type {\n",
              "        vertical-align: middle;\n",
              "    }\n",
              "\n",
              "    .dataframe tbody tr th {\n",
              "        vertical-align: top;\n",
              "    }\n",
              "\n",
              "    .dataframe thead th {\n",
              "        text-align: right;\n",
              "    }\n",
              "</style>\n",
              "<table border=\"1\" class=\"dataframe\">\n",
              "  <thead>\n",
              "    <tr style=\"text-align: right;\">\n",
              "      <th></th>\n",
              "      <th>DATE</th>\n",
              "      <th>PRCP</th>\n",
              "      <th>TMAX</th>\n",
              "      <th>TMIN</th>\n",
              "      <th>RAIN</th>\n",
              "      <th>YEAR</th>\n",
              "      <th>MONTH</th>\n",
              "    </tr>\n",
              "  </thead>\n",
              "  <tbody>\n",
              "    <tr>\n",
              "      <th>0</th>\n",
              "      <td>1948-01-01</td>\n",
              "      <td>0.47</td>\n",
              "      <td>51</td>\n",
              "      <td>42</td>\n",
              "      <td>1</td>\n",
              "      <td>1948</td>\n",
              "      <td>1</td>\n",
              "    </tr>\n",
              "    <tr>\n",
              "      <th>1</th>\n",
              "      <td>1948-01-02</td>\n",
              "      <td>0.59</td>\n",
              "      <td>45</td>\n",
              "      <td>36</td>\n",
              "      <td>1</td>\n",
              "      <td>1948</td>\n",
              "      <td>1</td>\n",
              "    </tr>\n",
              "    <tr>\n",
              "      <th>2</th>\n",
              "      <td>1948-01-03</td>\n",
              "      <td>0.42</td>\n",
              "      <td>45</td>\n",
              "      <td>35</td>\n",
              "      <td>1</td>\n",
              "      <td>1948</td>\n",
              "      <td>1</td>\n",
              "    </tr>\n",
              "    <tr>\n",
              "      <th>3</th>\n",
              "      <td>1948-01-04</td>\n",
              "      <td>0.31</td>\n",
              "      <td>45</td>\n",
              "      <td>34</td>\n",
              "      <td>1</td>\n",
              "      <td>1948</td>\n",
              "      <td>1</td>\n",
              "    </tr>\n",
              "    <tr>\n",
              "      <th>4</th>\n",
              "      <td>1948-01-05</td>\n",
              "      <td>0.17</td>\n",
              "      <td>45</td>\n",
              "      <td>32</td>\n",
              "      <td>1</td>\n",
              "      <td>1948</td>\n",
              "      <td>1</td>\n",
              "    </tr>\n",
              "    <tr>\n",
              "      <th>5</th>\n",
              "      <td>1948-01-06</td>\n",
              "      <td>0.44</td>\n",
              "      <td>48</td>\n",
              "      <td>39</td>\n",
              "      <td>1</td>\n",
              "      <td>1948</td>\n",
              "      <td>1</td>\n",
              "    </tr>\n",
              "    <tr>\n",
              "      <th>6</th>\n",
              "      <td>1948-01-07</td>\n",
              "      <td>0.41</td>\n",
              "      <td>50</td>\n",
              "      <td>40</td>\n",
              "      <td>1</td>\n",
              "      <td>1948</td>\n",
              "      <td>1</td>\n",
              "    </tr>\n",
              "    <tr>\n",
              "      <th>7</th>\n",
              "      <td>1948-01-08</td>\n",
              "      <td>0.04</td>\n",
              "      <td>48</td>\n",
              "      <td>35</td>\n",
              "      <td>1</td>\n",
              "      <td>1948</td>\n",
              "      <td>1</td>\n",
              "    </tr>\n",
              "    <tr>\n",
              "      <th>8</th>\n",
              "      <td>1948-01-09</td>\n",
              "      <td>0.12</td>\n",
              "      <td>50</td>\n",
              "      <td>31</td>\n",
              "      <td>1</td>\n",
              "      <td>1948</td>\n",
              "      <td>1</td>\n",
              "    </tr>\n",
              "    <tr>\n",
              "      <th>9</th>\n",
              "      <td>1948-01-10</td>\n",
              "      <td>0.74</td>\n",
              "      <td>43</td>\n",
              "      <td>34</td>\n",
              "      <td>1</td>\n",
              "      <td>1948</td>\n",
              "      <td>1</td>\n",
              "    </tr>\n",
              "    <tr>\n",
              "      <th>10</th>\n",
              "      <td>1948-01-11</td>\n",
              "      <td>0.01</td>\n",
              "      <td>42</td>\n",
              "      <td>32</td>\n",
              "      <td>1</td>\n",
              "      <td>1948</td>\n",
              "      <td>1</td>\n",
              "    </tr>\n",
              "    <tr>\n",
              "      <th>11</th>\n",
              "      <td>1948-01-12</td>\n",
              "      <td>0.00</td>\n",
              "      <td>41</td>\n",
              "      <td>26</td>\n",
              "      <td>0</td>\n",
              "      <td>1948</td>\n",
              "      <td>1</td>\n",
              "    </tr>\n",
              "    <tr>\n",
              "      <th>12</th>\n",
              "      <td>1948-01-13</td>\n",
              "      <td>0.00</td>\n",
              "      <td>45</td>\n",
              "      <td>29</td>\n",
              "      <td>0</td>\n",
              "      <td>1948</td>\n",
              "      <td>1</td>\n",
              "    </tr>\n",
              "    <tr>\n",
              "      <th>13</th>\n",
              "      <td>1948-01-14</td>\n",
              "      <td>0.00</td>\n",
              "      <td>38</td>\n",
              "      <td>26</td>\n",
              "      <td>0</td>\n",
              "      <td>1948</td>\n",
              "      <td>1</td>\n",
              "    </tr>\n",
              "    <tr>\n",
              "      <th>14</th>\n",
              "      <td>1948-01-15</td>\n",
              "      <td>0.00</td>\n",
              "      <td>34</td>\n",
              "      <td>31</td>\n",
              "      <td>0</td>\n",
              "      <td>1948</td>\n",
              "      <td>1</td>\n",
              "    </tr>\n",
              "  </tbody>\n",
              "</table>\n",
              "</div>"
            ],
            "text/plain": [
              "         DATE  PRCP  TMAX  TMIN  RAIN  YEAR  MONTH\n",
              "0  1948-01-01  0.47    51    42     1  1948      1\n",
              "1  1948-01-02  0.59    45    36     1  1948      1\n",
              "2  1948-01-03  0.42    45    35     1  1948      1\n",
              "3  1948-01-04  0.31    45    34     1  1948      1\n",
              "4  1948-01-05  0.17    45    32     1  1948      1\n",
              "5  1948-01-06  0.44    48    39     1  1948      1\n",
              "6  1948-01-07  0.41    50    40     1  1948      1\n",
              "7  1948-01-08  0.04    48    35     1  1948      1\n",
              "8  1948-01-09  0.12    50    31     1  1948      1\n",
              "9  1948-01-10  0.74    43    34     1  1948      1\n",
              "10 1948-01-11  0.01    42    32     1  1948      1\n",
              "11 1948-01-12  0.00    41    26     0  1948      1\n",
              "12 1948-01-13  0.00    45    29     0  1948      1\n",
              "13 1948-01-14  0.00    38    26     0  1948      1\n",
              "14 1948-01-15  0.00    34    31     0  1948      1"
            ]
          },
          "metadata": {
            "tags": []
          },
          "execution_count": 354
        }
      ]
    },
    {
      "cell_type": "markdown",
      "metadata": {
        "id": "jtnSO-elZ8Dv"
      },
      "source": [
        "## **LOGISTIC REGRESSION**\n"
      ]
    },
    {
      "cell_type": "code",
      "metadata": {
        "id": "3UhhTezLZQyo"
      },
      "source": [
        "X_train, X_test, y_train, y_test = train_test_split(df.drop(['DATE', 'TMAX',\t'TMIN', 'RAIN'],axis=1), df['RAIN'], test_size=0.30)"
      ],
      "execution_count": null,
      "outputs": []
    },
    {
      "cell_type": "code",
      "metadata": {
        "colab": {
          "base_uri": "https://localhost:8080/"
        },
        "id": "QkJpoiBqZ53Z",
        "outputId": "a06021d6-67d7-4d8f-cdeb-f397027a29eb"
      },
      "source": [
        "log = LogisticRegression()\n",
        "log.fit(X_train,y_train)"
      ],
      "execution_count": null,
      "outputs": [
        {
          "output_type": "execute_result",
          "data": {
            "text/plain": [
              "LogisticRegression(C=1.0, class_weight=None, dual=False, fit_intercept=True,\n",
              "                   intercept_scaling=1, l1_ratio=None, max_iter=100,\n",
              "                   multi_class='auto', n_jobs=None, penalty='l2',\n",
              "                   random_state=None, solver='lbfgs', tol=0.0001, verbose=0,\n",
              "                   warm_start=False)"
            ]
          },
          "metadata": {
            "tags": []
          },
          "execution_count": 356
        }
      ]
    },
    {
      "cell_type": "code",
      "metadata": {
        "colab": {
          "base_uri": "https://localhost:8080/",
          "height": 202
        },
        "id": "PaUOXysQz4AO",
        "outputId": "ad1a0a6f-8ce2-47d5-edb2-c6229d68042e"
      },
      "source": [
        "df.head(5)"
      ],
      "execution_count": null,
      "outputs": [
        {
          "output_type": "execute_result",
          "data": {
            "text/html": [
              "<div>\n",
              "<style scoped>\n",
              "    .dataframe tbody tr th:only-of-type {\n",
              "        vertical-align: middle;\n",
              "    }\n",
              "\n",
              "    .dataframe tbody tr th {\n",
              "        vertical-align: top;\n",
              "    }\n",
              "\n",
              "    .dataframe thead th {\n",
              "        text-align: right;\n",
              "    }\n",
              "</style>\n",
              "<table border=\"1\" class=\"dataframe\">\n",
              "  <thead>\n",
              "    <tr style=\"text-align: right;\">\n",
              "      <th></th>\n",
              "      <th>DATE</th>\n",
              "      <th>PRCP</th>\n",
              "      <th>TMAX</th>\n",
              "      <th>TMIN</th>\n",
              "      <th>RAIN</th>\n",
              "      <th>YEAR</th>\n",
              "      <th>MONTH</th>\n",
              "    </tr>\n",
              "  </thead>\n",
              "  <tbody>\n",
              "    <tr>\n",
              "      <th>0</th>\n",
              "      <td>1948-01-01</td>\n",
              "      <td>0.47</td>\n",
              "      <td>51</td>\n",
              "      <td>42</td>\n",
              "      <td>1</td>\n",
              "      <td>1948</td>\n",
              "      <td>1</td>\n",
              "    </tr>\n",
              "    <tr>\n",
              "      <th>1</th>\n",
              "      <td>1948-01-02</td>\n",
              "      <td>0.59</td>\n",
              "      <td>45</td>\n",
              "      <td>36</td>\n",
              "      <td>1</td>\n",
              "      <td>1948</td>\n",
              "      <td>1</td>\n",
              "    </tr>\n",
              "    <tr>\n",
              "      <th>2</th>\n",
              "      <td>1948-01-03</td>\n",
              "      <td>0.42</td>\n",
              "      <td>45</td>\n",
              "      <td>35</td>\n",
              "      <td>1</td>\n",
              "      <td>1948</td>\n",
              "      <td>1</td>\n",
              "    </tr>\n",
              "    <tr>\n",
              "      <th>3</th>\n",
              "      <td>1948-01-04</td>\n",
              "      <td>0.31</td>\n",
              "      <td>45</td>\n",
              "      <td>34</td>\n",
              "      <td>1</td>\n",
              "      <td>1948</td>\n",
              "      <td>1</td>\n",
              "    </tr>\n",
              "    <tr>\n",
              "      <th>4</th>\n",
              "      <td>1948-01-05</td>\n",
              "      <td>0.17</td>\n",
              "      <td>45</td>\n",
              "      <td>32</td>\n",
              "      <td>1</td>\n",
              "      <td>1948</td>\n",
              "      <td>1</td>\n",
              "    </tr>\n",
              "  </tbody>\n",
              "</table>\n",
              "</div>"
            ],
            "text/plain": [
              "        DATE  PRCP  TMAX  TMIN  RAIN  YEAR  MONTH\n",
              "0 1948-01-01  0.47    51    42     1  1948      1\n",
              "1 1948-01-02  0.59    45    36     1  1948      1\n",
              "2 1948-01-03  0.42    45    35     1  1948      1\n",
              "3 1948-01-04  0.31    45    34     1  1948      1\n",
              "4 1948-01-05  0.17    45    32     1  1948      1"
            ]
          },
          "metadata": {
            "tags": []
          },
          "execution_count": 357
        }
      ]
    },
    {
      "cell_type": "code",
      "metadata": {
        "colab": {
          "base_uri": "https://localhost:8080/",
          "height": 202
        },
        "id": "IKw01W5Wz6l_",
        "outputId": "9d6a429c-5edf-4320-ac1e-7c382409f6e3"
      },
      "source": [
        "df.tail(5)"
      ],
      "execution_count": null,
      "outputs": [
        {
          "output_type": "execute_result",
          "data": {
            "text/html": [
              "<div>\n",
              "<style scoped>\n",
              "    .dataframe tbody tr th:only-of-type {\n",
              "        vertical-align: middle;\n",
              "    }\n",
              "\n",
              "    .dataframe tbody tr th {\n",
              "        vertical-align: top;\n",
              "    }\n",
              "\n",
              "    .dataframe thead th {\n",
              "        text-align: right;\n",
              "    }\n",
              "</style>\n",
              "<table border=\"1\" class=\"dataframe\">\n",
              "  <thead>\n",
              "    <tr style=\"text-align: right;\">\n",
              "      <th></th>\n",
              "      <th>DATE</th>\n",
              "      <th>PRCP</th>\n",
              "      <th>TMAX</th>\n",
              "      <th>TMIN</th>\n",
              "      <th>RAIN</th>\n",
              "      <th>YEAR</th>\n",
              "      <th>MONTH</th>\n",
              "    </tr>\n",
              "  </thead>\n",
              "  <tbody>\n",
              "    <tr>\n",
              "      <th>25546</th>\n",
              "      <td>2017-12-10</td>\n",
              "      <td>0.0</td>\n",
              "      <td>49</td>\n",
              "      <td>34</td>\n",
              "      <td>0</td>\n",
              "      <td>2017</td>\n",
              "      <td>12</td>\n",
              "    </tr>\n",
              "    <tr>\n",
              "      <th>25547</th>\n",
              "      <td>2017-12-11</td>\n",
              "      <td>0.0</td>\n",
              "      <td>49</td>\n",
              "      <td>29</td>\n",
              "      <td>0</td>\n",
              "      <td>2017</td>\n",
              "      <td>12</td>\n",
              "    </tr>\n",
              "    <tr>\n",
              "      <th>25548</th>\n",
              "      <td>2017-12-12</td>\n",
              "      <td>0.0</td>\n",
              "      <td>46</td>\n",
              "      <td>32</td>\n",
              "      <td>0</td>\n",
              "      <td>2017</td>\n",
              "      <td>12</td>\n",
              "    </tr>\n",
              "    <tr>\n",
              "      <th>25549</th>\n",
              "      <td>2017-12-13</td>\n",
              "      <td>0.0</td>\n",
              "      <td>48</td>\n",
              "      <td>34</td>\n",
              "      <td>0</td>\n",
              "      <td>2017</td>\n",
              "      <td>12</td>\n",
              "    </tr>\n",
              "    <tr>\n",
              "      <th>25550</th>\n",
              "      <td>2017-12-14</td>\n",
              "      <td>0.0</td>\n",
              "      <td>50</td>\n",
              "      <td>36</td>\n",
              "      <td>0</td>\n",
              "      <td>2017</td>\n",
              "      <td>12</td>\n",
              "    </tr>\n",
              "  </tbody>\n",
              "</table>\n",
              "</div>"
            ],
            "text/plain": [
              "            DATE  PRCP  TMAX  TMIN  RAIN  YEAR  MONTH\n",
              "25546 2017-12-10   0.0    49    34     0  2017     12\n",
              "25547 2017-12-11   0.0    49    29     0  2017     12\n",
              "25548 2017-12-12   0.0    46    32     0  2017     12\n",
              "25549 2017-12-13   0.0    48    34     0  2017     12\n",
              "25550 2017-12-14   0.0    50    36     0  2017     12"
            ]
          },
          "metadata": {
            "tags": []
          },
          "execution_count": 358
        }
      ]
    },
    {
      "cell_type": "markdown",
      "metadata": {
        "id": "0aYhraaYzOUg"
      },
      "source": [
        "##**prediction model**"
      ]
    },
    {
      "cell_type": "code",
      "metadata": {
        "colab": {
          "base_uri": "https://localhost:8080/"
        },
        "id": "QgkKvFwHaKdW",
        "outputId": "554424f0-f70e-41f1-a70e-488b083e14af"
      },
      "source": [
        "prediction_ = log.predict(X_test)\n",
        "print (prediction_)"
      ],
      "execution_count": null,
      "outputs": [
        {
          "output_type": "stream",
          "text": [
            "[0 1 0 ... 0 0 1]\n"
          ],
          "name": "stdout"
        }
      ]
    },
    {
      "cell_type": "code",
      "metadata": {
        "colab": {
          "base_uri": "https://localhost:8080/"
        },
        "id": "L1YdnjFyaXSp",
        "outputId": "a56a6fa2-9d18-4364-d034-e6f4799584b6"
      },
      "source": [
        "print(\"accuracy score:\" ,'\\n', accuracy_score(y_test,prediction_))"
      ],
      "execution_count": null,
      "outputs": [
        {
          "output_type": "stream",
          "text": [
            "accuracy score: \n",
            " 0.910371819960861\n"
          ],
          "name": "stdout"
        }
      ]
    },
    {
      "cell_type": "code",
      "metadata": {
        "colab": {
          "base_uri": "https://localhost:8080/"
        },
        "id": "0kJVTyJDpkSV",
        "outputId": "bb6e86d2-43e1-4f53-b786-530ed30402ed"
      },
      "source": [
        "print(\"Confusion_matrix:\", '\\n', confusion_matrix(y_test,prediction_))\n"
      ],
      "execution_count": null,
      "outputs": [
        {
          "output_type": "stream",
          "text": [
            "Confusion_matrix: \n",
            " [[4389    0]\n",
            " [ 687 2589]]\n"
          ],
          "name": "stdout"
        }
      ]
    },
    {
      "cell_type": "code",
      "metadata": {
        "colab": {
          "base_uri": "https://localhost:8080/"
        },
        "id": "zU9dgnJvpnjK",
        "outputId": "ffac7d5e-a457-444c-bf37-dd969e090e44"
      },
      "source": [
        "print(\"Classification report: \",'\\n', classification_report(y_test,prediction_))"
      ],
      "execution_count": null,
      "outputs": [
        {
          "output_type": "stream",
          "text": [
            "Classification report:  \n",
            "               precision    recall  f1-score   support\n",
            "\n",
            "           0       0.86      1.00      0.93      4389\n",
            "           1       1.00      0.79      0.88      3276\n",
            "\n",
            "    accuracy                           0.91      7665\n",
            "   macro avg       0.93      0.90      0.91      7665\n",
            "weighted avg       0.92      0.91      0.91      7665\n",
            "\n"
          ],
          "name": "stdout"
        }
      ]
    },
    {
      "cell_type": "code",
      "metadata": {
        "id": "KKPegqNqd4NB"
      },
      "source": [
        "#X_train, X_test, y_train, y_test = train_test_split(X, y, test_size=0.25, random_state=42)"
      ],
      "execution_count": null,
      "outputs": []
    },
    {
      "cell_type": "code",
      "metadata": {
        "id": "9gF56nv0eU8N"
      },
      "source": [
        "#log.predict(X_test[0:50])"
      ],
      "execution_count": null,
      "outputs": []
    },
    {
      "cell_type": "markdown",
      "metadata": {
        "id": "91nY_rm8tPS-"
      },
      "source": [
        "## **Choose Target**"
      ]
    },
    {
      "cell_type": "code",
      "metadata": {
        "id": "3EaHlC3Lsh0P"
      },
      "source": [
        "# set X to all features\n",
        "X = df.loc[:,df.columns!='YEAR']\n",
        "# set y to target\n",
        "y = df.YEAR"
      ],
      "execution_count": null,
      "outputs": []
    },
    {
      "cell_type": "code",
      "metadata": {
        "colab": {
          "base_uri": "https://localhost:8080/",
          "height": 202
        },
        "id": "iqHsEV7stGOD",
        "outputId": "4624551a-4b0f-4f09-c2d8-38c5274f1175"
      },
      "source": [
        "#target is: \" YEAR = 2017 \"\n",
        "#If year = 2017 --> set 1 (true) \n",
        "#else set 0 (false)\n",
        "\n",
        "df['YEAR'] = df['YEAR'].apply(lambda x: 1 if x == 2017 else 0 )\n",
        "df.head(5)"
      ],
      "execution_count": null,
      "outputs": [
        {
          "output_type": "execute_result",
          "data": {
            "text/html": [
              "<div>\n",
              "<style scoped>\n",
              "    .dataframe tbody tr th:only-of-type {\n",
              "        vertical-align: middle;\n",
              "    }\n",
              "\n",
              "    .dataframe tbody tr th {\n",
              "        vertical-align: top;\n",
              "    }\n",
              "\n",
              "    .dataframe thead th {\n",
              "        text-align: right;\n",
              "    }\n",
              "</style>\n",
              "<table border=\"1\" class=\"dataframe\">\n",
              "  <thead>\n",
              "    <tr style=\"text-align: right;\">\n",
              "      <th></th>\n",
              "      <th>DATE</th>\n",
              "      <th>PRCP</th>\n",
              "      <th>TMAX</th>\n",
              "      <th>TMIN</th>\n",
              "      <th>RAIN</th>\n",
              "      <th>YEAR</th>\n",
              "      <th>MONTH</th>\n",
              "    </tr>\n",
              "  </thead>\n",
              "  <tbody>\n",
              "    <tr>\n",
              "      <th>0</th>\n",
              "      <td>1948-01-01</td>\n",
              "      <td>0.47</td>\n",
              "      <td>51</td>\n",
              "      <td>42</td>\n",
              "      <td>1</td>\n",
              "      <td>0</td>\n",
              "      <td>1</td>\n",
              "    </tr>\n",
              "    <tr>\n",
              "      <th>1</th>\n",
              "      <td>1948-01-02</td>\n",
              "      <td>0.59</td>\n",
              "      <td>45</td>\n",
              "      <td>36</td>\n",
              "      <td>1</td>\n",
              "      <td>0</td>\n",
              "      <td>1</td>\n",
              "    </tr>\n",
              "    <tr>\n",
              "      <th>2</th>\n",
              "      <td>1948-01-03</td>\n",
              "      <td>0.42</td>\n",
              "      <td>45</td>\n",
              "      <td>35</td>\n",
              "      <td>1</td>\n",
              "      <td>0</td>\n",
              "      <td>1</td>\n",
              "    </tr>\n",
              "    <tr>\n",
              "      <th>3</th>\n",
              "      <td>1948-01-04</td>\n",
              "      <td>0.31</td>\n",
              "      <td>45</td>\n",
              "      <td>34</td>\n",
              "      <td>1</td>\n",
              "      <td>0</td>\n",
              "      <td>1</td>\n",
              "    </tr>\n",
              "    <tr>\n",
              "      <th>4</th>\n",
              "      <td>1948-01-05</td>\n",
              "      <td>0.17</td>\n",
              "      <td>45</td>\n",
              "      <td>32</td>\n",
              "      <td>1</td>\n",
              "      <td>0</td>\n",
              "      <td>1</td>\n",
              "    </tr>\n",
              "  </tbody>\n",
              "</table>\n",
              "</div>"
            ],
            "text/plain": [
              "        DATE  PRCP  TMAX  TMIN  RAIN  YEAR  MONTH\n",
              "0 1948-01-01  0.47    51    42     1     0      1\n",
              "1 1948-01-02  0.59    45    36     1     0      1\n",
              "2 1948-01-03  0.42    45    35     1     0      1\n",
              "3 1948-01-04  0.31    45    34     1     0      1\n",
              "4 1948-01-05  0.17    45    32     1     0      1"
            ]
          },
          "metadata": {
            "tags": []
          },
          "execution_count": 375
        }
      ]
    },
    {
      "cell_type": "code",
      "metadata": {
        "colab": {
          "base_uri": "https://localhost:8080/",
          "height": 355
        },
        "id": "bmU38WXWuJzl",
        "outputId": "cb91fcbc-a2a1-4890-8ef7-da3d66a8a8c0"
      },
      "source": [
        "df.tail(10)"
      ],
      "execution_count": null,
      "outputs": [
        {
          "output_type": "execute_result",
          "data": {
            "text/html": [
              "<div>\n",
              "<style scoped>\n",
              "    .dataframe tbody tr th:only-of-type {\n",
              "        vertical-align: middle;\n",
              "    }\n",
              "\n",
              "    .dataframe tbody tr th {\n",
              "        vertical-align: top;\n",
              "    }\n",
              "\n",
              "    .dataframe thead th {\n",
              "        text-align: right;\n",
              "    }\n",
              "</style>\n",
              "<table border=\"1\" class=\"dataframe\">\n",
              "  <thead>\n",
              "    <tr style=\"text-align: right;\">\n",
              "      <th></th>\n",
              "      <th>DATE</th>\n",
              "      <th>PRCP</th>\n",
              "      <th>TMAX</th>\n",
              "      <th>TMIN</th>\n",
              "      <th>RAIN</th>\n",
              "      <th>YEAR</th>\n",
              "      <th>MONTH</th>\n",
              "    </tr>\n",
              "  </thead>\n",
              "  <tbody>\n",
              "    <tr>\n",
              "      <th>25541</th>\n",
              "      <td>2017-12-05</td>\n",
              "      <td>0.0</td>\n",
              "      <td>45</td>\n",
              "      <td>33</td>\n",
              "      <td>0</td>\n",
              "      <td>1</td>\n",
              "      <td>12</td>\n",
              "    </tr>\n",
              "    <tr>\n",
              "      <th>25542</th>\n",
              "      <td>2017-12-06</td>\n",
              "      <td>0.0</td>\n",
              "      <td>52</td>\n",
              "      <td>36</td>\n",
              "      <td>0</td>\n",
              "      <td>1</td>\n",
              "      <td>12</td>\n",
              "    </tr>\n",
              "    <tr>\n",
              "      <th>25543</th>\n",
              "      <td>2017-12-07</td>\n",
              "      <td>0.0</td>\n",
              "      <td>52</td>\n",
              "      <td>34</td>\n",
              "      <td>0</td>\n",
              "      <td>1</td>\n",
              "      <td>12</td>\n",
              "    </tr>\n",
              "    <tr>\n",
              "      <th>25544</th>\n",
              "      <td>2017-12-08</td>\n",
              "      <td>0.0</td>\n",
              "      <td>43</td>\n",
              "      <td>29</td>\n",
              "      <td>0</td>\n",
              "      <td>1</td>\n",
              "      <td>12</td>\n",
              "    </tr>\n",
              "    <tr>\n",
              "      <th>25545</th>\n",
              "      <td>2017-12-09</td>\n",
              "      <td>0.0</td>\n",
              "      <td>44</td>\n",
              "      <td>29</td>\n",
              "      <td>0</td>\n",
              "      <td>1</td>\n",
              "      <td>12</td>\n",
              "    </tr>\n",
              "    <tr>\n",
              "      <th>25546</th>\n",
              "      <td>2017-12-10</td>\n",
              "      <td>0.0</td>\n",
              "      <td>49</td>\n",
              "      <td>34</td>\n",
              "      <td>0</td>\n",
              "      <td>1</td>\n",
              "      <td>12</td>\n",
              "    </tr>\n",
              "    <tr>\n",
              "      <th>25547</th>\n",
              "      <td>2017-12-11</td>\n",
              "      <td>0.0</td>\n",
              "      <td>49</td>\n",
              "      <td>29</td>\n",
              "      <td>0</td>\n",
              "      <td>1</td>\n",
              "      <td>12</td>\n",
              "    </tr>\n",
              "    <tr>\n",
              "      <th>25548</th>\n",
              "      <td>2017-12-12</td>\n",
              "      <td>0.0</td>\n",
              "      <td>46</td>\n",
              "      <td>32</td>\n",
              "      <td>0</td>\n",
              "      <td>1</td>\n",
              "      <td>12</td>\n",
              "    </tr>\n",
              "    <tr>\n",
              "      <th>25549</th>\n",
              "      <td>2017-12-13</td>\n",
              "      <td>0.0</td>\n",
              "      <td>48</td>\n",
              "      <td>34</td>\n",
              "      <td>0</td>\n",
              "      <td>1</td>\n",
              "      <td>12</td>\n",
              "    </tr>\n",
              "    <tr>\n",
              "      <th>25550</th>\n",
              "      <td>2017-12-14</td>\n",
              "      <td>0.0</td>\n",
              "      <td>50</td>\n",
              "      <td>36</td>\n",
              "      <td>0</td>\n",
              "      <td>1</td>\n",
              "      <td>12</td>\n",
              "    </tr>\n",
              "  </tbody>\n",
              "</table>\n",
              "</div>"
            ],
            "text/plain": [
              "            DATE  PRCP  TMAX  TMIN  RAIN  YEAR  MONTH\n",
              "25541 2017-12-05   0.0    45    33     0     1     12\n",
              "25542 2017-12-06   0.0    52    36     0     1     12\n",
              "25543 2017-12-07   0.0    52    34     0     1     12\n",
              "25544 2017-12-08   0.0    43    29     0     1     12\n",
              "25545 2017-12-09   0.0    44    29     0     1     12\n",
              "25546 2017-12-10   0.0    49    34     0     1     12\n",
              "25547 2017-12-11   0.0    49    29     0     1     12\n",
              "25548 2017-12-12   0.0    46    32     0     1     12\n",
              "25549 2017-12-13   0.0    48    34     0     1     12\n",
              "25550 2017-12-14   0.0    50    36     0     1     12"
            ]
          },
          "metadata": {
            "tags": []
          },
          "execution_count": 367
        }
      ]
    },
    {
      "cell_type": "code",
      "metadata": {
        "id": "049m1DrjxBmX"
      },
      "source": [
        "X_train, X_test, y_train, y_test = train_test_split(df.drop(['DATE', 'TMAX',\t'TMIN', 'RAIN'],axis=1), df['RAIN'], test_size=0.70)"
      ],
      "execution_count": null,
      "outputs": []
    },
    {
      "cell_type": "code",
      "metadata": {
        "colab": {
          "base_uri": "https://localhost:8080/"
        },
        "id": "Rf1TJBVKxbK_",
        "outputId": "a7a2b01a-a6fa-4312-fb3c-a4c5cdcb93aa"
      },
      "source": [
        "log2 = LogisticRegression()\n",
        "log2.fit(X_train,y_train)"
      ],
      "execution_count": null,
      "outputs": [
        {
          "output_type": "execute_result",
          "data": {
            "text/plain": [
              "LogisticRegression(C=1.0, class_weight=None, dual=False, fit_intercept=True,\n",
              "                   intercept_scaling=1, l1_ratio=None, max_iter=100,\n",
              "                   multi_class='auto', n_jobs=None, penalty='l2',\n",
              "                   random_state=None, solver='lbfgs', tol=0.0001, verbose=0,\n",
              "                   warm_start=False)"
            ]
          },
          "metadata": {
            "tags": []
          },
          "execution_count": 369
        }
      ]
    },
    {
      "cell_type": "markdown",
      "metadata": {
        "id": "K1bDWdbEzJBw"
      },
      "source": [
        "##**prediction model**"
      ]
    },
    {
      "cell_type": "code",
      "metadata": {
        "colab": {
          "base_uri": "https://localhost:8080/"
        },
        "id": "PiXysxMvyIU_",
        "outputId": "da473c38-9f5c-4b67-8869-7435b432c15b"
      },
      "source": [
        "prediction_ = log.predict(X_test)\n",
        "print (prediction_)"
      ],
      "execution_count": null,
      "outputs": [
        {
          "output_type": "stream",
          "text": [
            "[1 1 0 ... 0 1 1]\n"
          ],
          "name": "stdout"
        }
      ]
    },
    {
      "cell_type": "code",
      "metadata": {
        "colab": {
          "base_uri": "https://localhost:8080/"
        },
        "id": "4x4UCPn0yCz4",
        "outputId": "168a183d-798e-46fb-b87e-1c8b0dc75977"
      },
      "source": [
        "print(\"accuracy score:\" ,'\\n', accuracy_score(y_test,prediction_))"
      ],
      "execution_count": null,
      "outputs": [
        {
          "output_type": "stream",
          "text": [
            "accuracy score: \n",
            " 0.9658912994855737\n"
          ],
          "name": "stdout"
        }
      ]
    },
    {
      "cell_type": "code",
      "metadata": {
        "colab": {
          "base_uri": "https://localhost:8080/"
        },
        "id": "_C8rfuhsybya",
        "outputId": "724a4115-518a-46d0-f4b2-396318381505"
      },
      "source": [
        "print(\"Confusion_matrix:\", '\\n', confusion_matrix(y_test,prediction_))"
      ],
      "execution_count": null,
      "outputs": [
        {
          "output_type": "stream",
          "text": [
            "Confusion_matrix: \n",
            " [[9635  610]\n",
            " [   0 7639]]\n"
          ],
          "name": "stdout"
        }
      ]
    },
    {
      "cell_type": "code",
      "metadata": {
        "colab": {
          "base_uri": "https://localhost:8080/"
        },
        "id": "wBeAwaNeydbm",
        "outputId": "e19c09ec-f346-4cb6-bd91-086467a34abd"
      },
      "source": [
        "print(\"Classification report: \",'\\n', classification_report(y_test,prediction_))"
      ],
      "execution_count": null,
      "outputs": [
        {
          "output_type": "stream",
          "text": [
            "Classification report:  \n",
            "               precision    recall  f1-score   support\n",
            "\n",
            "           0       1.00      0.94      0.97     10245\n",
            "           1       0.93      1.00      0.96      7639\n",
            "\n",
            "    accuracy                           0.97     17884\n",
            "   macro avg       0.96      0.97      0.97     17884\n",
            "weighted avg       0.97      0.97      0.97     17884\n",
            "\n"
          ],
          "name": "stdout"
        }
      ]
    }
  ]
}
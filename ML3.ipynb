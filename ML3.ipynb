{
  "nbformat": 4,
  "nbformat_minor": 0,
  "metadata": {
    "colab": {
      "name": "ML3.ipynb",
      "provenance": [],
      "authorship_tag": "ABX9TyMnPeRnfuC4RDYaxoMPkbVd",
      "include_colab_link": true
    },
    "kernelspec": {
      "name": "python3",
      "display_name": "Python 3"
    },
    "language_info": {
      "name": "python"
    }
  },
  "cells": [
    {
      "cell_type": "markdown",
      "metadata": {
        "id": "view-in-github",
        "colab_type": "text"
      },
      "source": [
        "<a href=\"https://colab.research.google.com/github/wajdalturki/Wajdalturki/blob/main/ML3.ipynb\" target=\"_parent\"><img src=\"https://colab.research.google.com/assets/colab-badge.svg\" alt=\"Open In Colab\"/></a>"
      ]
    },
    {
      "cell_type": "markdown",
      "metadata": {
        "id": "h9Jt4ZvUifyg"
      },
      "source": [
        "## Importing All"
      ]
    },
    {
      "cell_type": "code",
      "metadata": {
        "id": "-qC7BMGumjHD"
      },
      "source": [
        "%%capture\n",
        "# STARTER CODE\n",
        "!pip install category_encoders\n",
        "import seaborn as sns\n",
        "import pandas as pd\n",
        "import numpy as np\n",
        "import matplotlib.pyplot as plt\n",
        "import category_encoders as ce\n",
        "from sklearn.linear_model import LinearRegression, LogisticRegression\n",
        "from sklearn.preprocessing import StandardScaler\n",
        "from sklearn.model_selection import train_test_split\n",
        "from sklearn.pipeline import make_pipeline\n",
        "from sklearn.metrics import classification_report, confusion_matrix\n",
        "from sklearn.metrics import mean_squared_error, mean_absolute_error, accuracy_score, accuracy_score, recall_score, precision_score\n",
        "df_r = sns.load_dataset(\"tips\").dropna()\n",
        "df_c = sns.load_dataset(\"titanic\").dropna()\n",
        "model_r = LinearRegression()\n",
        "model_c = LogisticRegression()\n",
        "x_train_r, x_test_r, y_train_r, y_test_r = train_test_split(df_r.drop(\"total_bill\", axis=1), df_r[\"total_bill\"])\n",
        "x_train_c, x_test_c, y_train_c, y_test_c = train_test_split(df_c.drop([\"survived\", \"alive\", \"adult_male\"], axis=1), df_c[\"survived\"])\n",
        "pipe_r = make_pipeline(ce.OrdinalEncoder(), StandardScaler(), LinearRegression()).fit(x_train_r, y_train_r)\n",
        "pipe_c = make_pipeline(ce.OrdinalEncoder(), StandardScaler(), LogisticRegression()).fit(x_train_c, y_train_c)\n",
        "y_pred_r = pipe_r.predict(x_test_r)\n",
        "y_pred_c = pipe_c.predict(x_test_c)"
      ],
      "execution_count": 178,
      "outputs": []
    },
    {
      "cell_type": "markdown",
      "metadata": {
        "id": "FXtJj-WpiVKr"
      },
      "source": [
        "## Loading Dataset"
      ]
    },
    {
      "cell_type": "code",
      "metadata": {
        "colab": {
          "base_uri": "https://localhost:8080/",
          "height": 415
        },
        "id": "FKYSbKCfBTc0",
        "outputId": "197fc37c-394b-4fdb-fcf3-939a241453df"
      },
      "source": [
        "# Load data and drop NaN values\n",
        "df = pd.read_csv(\"/seattle_weather_1948-2017.csv\").dropna()\n",
        "df"
      ],
      "execution_count": 179,
      "outputs": [
        {
          "output_type": "execute_result",
          "data": {
            "text/html": [
              "<div>\n",
              "<style scoped>\n",
              "    .dataframe tbody tr th:only-of-type {\n",
              "        vertical-align: middle;\n",
              "    }\n",
              "\n",
              "    .dataframe tbody tr th {\n",
              "        vertical-align: top;\n",
              "    }\n",
              "\n",
              "    .dataframe thead th {\n",
              "        text-align: right;\n",
              "    }\n",
              "</style>\n",
              "<table border=\"1\" class=\"dataframe\">\n",
              "  <thead>\n",
              "    <tr style=\"text-align: right;\">\n",
              "      <th></th>\n",
              "      <th>DATE</th>\n",
              "      <th>PRCP</th>\n",
              "      <th>TMAX</th>\n",
              "      <th>TMIN</th>\n",
              "      <th>RAIN</th>\n",
              "    </tr>\n",
              "  </thead>\n",
              "  <tbody>\n",
              "    <tr>\n",
              "      <th>0</th>\n",
              "      <td>1948-01-01</td>\n",
              "      <td>0.47</td>\n",
              "      <td>51</td>\n",
              "      <td>42</td>\n",
              "      <td>True</td>\n",
              "    </tr>\n",
              "    <tr>\n",
              "      <th>1</th>\n",
              "      <td>1948-01-02</td>\n",
              "      <td>0.59</td>\n",
              "      <td>45</td>\n",
              "      <td>36</td>\n",
              "      <td>True</td>\n",
              "    </tr>\n",
              "    <tr>\n",
              "      <th>2</th>\n",
              "      <td>1948-01-03</td>\n",
              "      <td>0.42</td>\n",
              "      <td>45</td>\n",
              "      <td>35</td>\n",
              "      <td>True</td>\n",
              "    </tr>\n",
              "    <tr>\n",
              "      <th>3</th>\n",
              "      <td>1948-01-04</td>\n",
              "      <td>0.31</td>\n",
              "      <td>45</td>\n",
              "      <td>34</td>\n",
              "      <td>True</td>\n",
              "    </tr>\n",
              "    <tr>\n",
              "      <th>4</th>\n",
              "      <td>1948-01-05</td>\n",
              "      <td>0.17</td>\n",
              "      <td>45</td>\n",
              "      <td>32</td>\n",
              "      <td>True</td>\n",
              "    </tr>\n",
              "    <tr>\n",
              "      <th>...</th>\n",
              "      <td>...</td>\n",
              "      <td>...</td>\n",
              "      <td>...</td>\n",
              "      <td>...</td>\n",
              "      <td>...</td>\n",
              "    </tr>\n",
              "    <tr>\n",
              "      <th>25546</th>\n",
              "      <td>2017-12-10</td>\n",
              "      <td>0.00</td>\n",
              "      <td>49</td>\n",
              "      <td>34</td>\n",
              "      <td>False</td>\n",
              "    </tr>\n",
              "    <tr>\n",
              "      <th>25547</th>\n",
              "      <td>2017-12-11</td>\n",
              "      <td>0.00</td>\n",
              "      <td>49</td>\n",
              "      <td>29</td>\n",
              "      <td>False</td>\n",
              "    </tr>\n",
              "    <tr>\n",
              "      <th>25548</th>\n",
              "      <td>2017-12-12</td>\n",
              "      <td>0.00</td>\n",
              "      <td>46</td>\n",
              "      <td>32</td>\n",
              "      <td>False</td>\n",
              "    </tr>\n",
              "    <tr>\n",
              "      <th>25549</th>\n",
              "      <td>2017-12-13</td>\n",
              "      <td>0.00</td>\n",
              "      <td>48</td>\n",
              "      <td>34</td>\n",
              "      <td>False</td>\n",
              "    </tr>\n",
              "    <tr>\n",
              "      <th>25550</th>\n",
              "      <td>2017-12-14</td>\n",
              "      <td>0.00</td>\n",
              "      <td>50</td>\n",
              "      <td>36</td>\n",
              "      <td>False</td>\n",
              "    </tr>\n",
              "  </tbody>\n",
              "</table>\n",
              "<p>25548 rows × 5 columns</p>\n",
              "</div>"
            ],
            "text/plain": [
              "             DATE  PRCP  TMAX  TMIN   RAIN\n",
              "0      1948-01-01  0.47    51    42   True\n",
              "1      1948-01-02  0.59    45    36   True\n",
              "2      1948-01-03  0.42    45    35   True\n",
              "3      1948-01-04  0.31    45    34   True\n",
              "4      1948-01-05  0.17    45    32   True\n",
              "...           ...   ...   ...   ...    ...\n",
              "25546  2017-12-10  0.00    49    34  False\n",
              "25547  2017-12-11  0.00    49    29  False\n",
              "25548  2017-12-12  0.00    46    32  False\n",
              "25549  2017-12-13  0.00    48    34  False\n",
              "25550  2017-12-14  0.00    50    36  False\n",
              "\n",
              "[25548 rows x 5 columns]"
            ]
          },
          "metadata": {
            "tags": []
          },
          "execution_count": 179
        }
      ]
    },
    {
      "cell_type": "code",
      "metadata": {
        "colab": {
          "base_uri": "https://localhost:8080/"
        },
        "id": "osQrn1WpIFfR",
        "outputId": "94f168f0-b60b-4706-9910-82c547f4443e"
      },
      "source": [
        "df['PRCP'].value_counts()"
      ],
      "execution_count": 180,
      "outputs": [
        {
          "output_type": "execute_result",
          "data": {
            "text/plain": [
              "0.00    14648\n",
              "0.01      933\n",
              "0.02      707\n",
              "0.03      493\n",
              "0.04      428\n",
              "        ...  \n",
              "2.49        1\n",
              "2.18        1\n",
              "2.20        1\n",
              "2.70        1\n",
              "2.95        1\n",
              "Name: PRCP, Length: 207, dtype: int64"
            ]
          },
          "metadata": {
            "tags": []
          },
          "execution_count": 180
        }
      ]
    },
    {
      "cell_type": "code",
      "metadata": {
        "colab": {
          "base_uri": "https://localhost:8080/"
        },
        "id": "HPVWYcivJctt",
        "outputId": "344d0588-2a0e-4a24-f666-2bf0dd92f917"
      },
      "source": [
        "df['PRCP'] = df[\"PRCP\"].map(lambda i: 1 if i==True else 0)\n",
        "df['PRCP'].value_counts()"
      ],
      "execution_count": 181,
      "outputs": [
        {
          "output_type": "execute_result",
          "data": {
            "text/plain": [
              "0    25539\n",
              "1        9\n",
              "Name: PRCP, dtype: int64"
            ]
          },
          "metadata": {
            "tags": []
          },
          "execution_count": 181
        }
      ]
    },
    {
      "cell_type": "code",
      "metadata": {
        "id": "FB7-4KylE47J"
      },
      "source": [
        "#sns.pairplot(df)"
      ],
      "execution_count": 182,
      "outputs": []
    },
    {
      "cell_type": "code",
      "metadata": {
        "colab": {
          "base_uri": "https://localhost:8080/",
          "height": 202
        },
        "id": "x3lX1awdCQIR",
        "outputId": "c42d907c-0951-4898-f8c1-3a6a7db34ba8"
      },
      "source": [
        "df.head()"
      ],
      "execution_count": 183,
      "outputs": [
        {
          "output_type": "execute_result",
          "data": {
            "text/html": [
              "<div>\n",
              "<style scoped>\n",
              "    .dataframe tbody tr th:only-of-type {\n",
              "        vertical-align: middle;\n",
              "    }\n",
              "\n",
              "    .dataframe tbody tr th {\n",
              "        vertical-align: top;\n",
              "    }\n",
              "\n",
              "    .dataframe thead th {\n",
              "        text-align: right;\n",
              "    }\n",
              "</style>\n",
              "<table border=\"1\" class=\"dataframe\">\n",
              "  <thead>\n",
              "    <tr style=\"text-align: right;\">\n",
              "      <th></th>\n",
              "      <th>DATE</th>\n",
              "      <th>PRCP</th>\n",
              "      <th>TMAX</th>\n",
              "      <th>TMIN</th>\n",
              "      <th>RAIN</th>\n",
              "    </tr>\n",
              "  </thead>\n",
              "  <tbody>\n",
              "    <tr>\n",
              "      <th>0</th>\n",
              "      <td>1948-01-01</td>\n",
              "      <td>0</td>\n",
              "      <td>51</td>\n",
              "      <td>42</td>\n",
              "      <td>True</td>\n",
              "    </tr>\n",
              "    <tr>\n",
              "      <th>1</th>\n",
              "      <td>1948-01-02</td>\n",
              "      <td>0</td>\n",
              "      <td>45</td>\n",
              "      <td>36</td>\n",
              "      <td>True</td>\n",
              "    </tr>\n",
              "    <tr>\n",
              "      <th>2</th>\n",
              "      <td>1948-01-03</td>\n",
              "      <td>0</td>\n",
              "      <td>45</td>\n",
              "      <td>35</td>\n",
              "      <td>True</td>\n",
              "    </tr>\n",
              "    <tr>\n",
              "      <th>3</th>\n",
              "      <td>1948-01-04</td>\n",
              "      <td>0</td>\n",
              "      <td>45</td>\n",
              "      <td>34</td>\n",
              "      <td>True</td>\n",
              "    </tr>\n",
              "    <tr>\n",
              "      <th>4</th>\n",
              "      <td>1948-01-05</td>\n",
              "      <td>0</td>\n",
              "      <td>45</td>\n",
              "      <td>32</td>\n",
              "      <td>True</td>\n",
              "    </tr>\n",
              "  </tbody>\n",
              "</table>\n",
              "</div>"
            ],
            "text/plain": [
              "         DATE  PRCP  TMAX  TMIN  RAIN\n",
              "0  1948-01-01     0    51    42  True\n",
              "1  1948-01-02     0    45    36  True\n",
              "2  1948-01-03     0    45    35  True\n",
              "3  1948-01-04     0    45    34  True\n",
              "4  1948-01-05     0    45    32  True"
            ]
          },
          "metadata": {
            "tags": []
          },
          "execution_count": 183
        }
      ]
    },
    {
      "cell_type": "code",
      "metadata": {
        "colab": {
          "base_uri": "https://localhost:8080/",
          "height": 294
        },
        "id": "UR8o1a45dSNC",
        "outputId": "4a693ba0-ab74-41f5-e981-343e5ae5f183"
      },
      "source": [
        "df.describe()"
      ],
      "execution_count": 184,
      "outputs": [
        {
          "output_type": "execute_result",
          "data": {
            "text/html": [
              "<div>\n",
              "<style scoped>\n",
              "    .dataframe tbody tr th:only-of-type {\n",
              "        vertical-align: middle;\n",
              "    }\n",
              "\n",
              "    .dataframe tbody tr th {\n",
              "        vertical-align: top;\n",
              "    }\n",
              "\n",
              "    .dataframe thead th {\n",
              "        text-align: right;\n",
              "    }\n",
              "</style>\n",
              "<table border=\"1\" class=\"dataframe\">\n",
              "  <thead>\n",
              "    <tr style=\"text-align: right;\">\n",
              "      <th></th>\n",
              "      <th>PRCP</th>\n",
              "      <th>TMAX</th>\n",
              "      <th>TMIN</th>\n",
              "    </tr>\n",
              "  </thead>\n",
              "  <tbody>\n",
              "    <tr>\n",
              "      <th>count</th>\n",
              "      <td>25548.000000</td>\n",
              "      <td>25548.000000</td>\n",
              "      <td>25548.000000</td>\n",
              "    </tr>\n",
              "    <tr>\n",
              "      <th>mean</th>\n",
              "      <td>0.000352</td>\n",
              "      <td>59.543056</td>\n",
              "      <td>44.513387</td>\n",
              "    </tr>\n",
              "    <tr>\n",
              "      <th>std</th>\n",
              "      <td>0.018766</td>\n",
              "      <td>12.773265</td>\n",
              "      <td>8.893019</td>\n",
              "    </tr>\n",
              "    <tr>\n",
              "      <th>min</th>\n",
              "      <td>0.000000</td>\n",
              "      <td>4.000000</td>\n",
              "      <td>0.000000</td>\n",
              "    </tr>\n",
              "    <tr>\n",
              "      <th>25%</th>\n",
              "      <td>0.000000</td>\n",
              "      <td>50.000000</td>\n",
              "      <td>38.000000</td>\n",
              "    </tr>\n",
              "    <tr>\n",
              "      <th>50%</th>\n",
              "      <td>0.000000</td>\n",
              "      <td>58.000000</td>\n",
              "      <td>45.000000</td>\n",
              "    </tr>\n",
              "    <tr>\n",
              "      <th>75%</th>\n",
              "      <td>0.000000</td>\n",
              "      <td>69.000000</td>\n",
              "      <td>52.000000</td>\n",
              "    </tr>\n",
              "    <tr>\n",
              "      <th>max</th>\n",
              "      <td>1.000000</td>\n",
              "      <td>103.000000</td>\n",
              "      <td>71.000000</td>\n",
              "    </tr>\n",
              "  </tbody>\n",
              "</table>\n",
              "</div>"
            ],
            "text/plain": [
              "               PRCP          TMAX          TMIN\n",
              "count  25548.000000  25548.000000  25548.000000\n",
              "mean       0.000352     59.543056     44.513387\n",
              "std        0.018766     12.773265      8.893019\n",
              "min        0.000000      4.000000      0.000000\n",
              "25%        0.000000     50.000000     38.000000\n",
              "50%        0.000000     58.000000     45.000000\n",
              "75%        0.000000     69.000000     52.000000\n",
              "max        1.000000    103.000000     71.000000"
            ]
          },
          "metadata": {
            "tags": []
          },
          "execution_count": 184
        }
      ]
    },
    {
      "cell_type": "markdown",
      "metadata": {
        "id": "R8YyLAH4cYbo"
      },
      "source": [
        "## Missing Values"
      ]
    },
    {
      "cell_type": "code",
      "metadata": {
        "colab": {
          "base_uri": "https://localhost:8080/",
          "height": 49
        },
        "id": "uAXA6AXLbSjP",
        "outputId": "0d190476-b835-427d-b846-89406b62d495"
      },
      "source": [
        "# Check Null Values of Rain columns\n",
        "#df[pd.isnull(df['RAIN'])]\n",
        "df[pd.isnull(df['RAIN'])]"
      ],
      "execution_count": 185,
      "outputs": [
        {
          "output_type": "execute_result",
          "data": {
            "text/html": [
              "<div>\n",
              "<style scoped>\n",
              "    .dataframe tbody tr th:only-of-type {\n",
              "        vertical-align: middle;\n",
              "    }\n",
              "\n",
              "    .dataframe tbody tr th {\n",
              "        vertical-align: top;\n",
              "    }\n",
              "\n",
              "    .dataframe thead th {\n",
              "        text-align: right;\n",
              "    }\n",
              "</style>\n",
              "<table border=\"1\" class=\"dataframe\">\n",
              "  <thead>\n",
              "    <tr style=\"text-align: right;\">\n",
              "      <th></th>\n",
              "      <th>DATE</th>\n",
              "      <th>PRCP</th>\n",
              "      <th>TMAX</th>\n",
              "      <th>TMIN</th>\n",
              "      <th>RAIN</th>\n",
              "    </tr>\n",
              "  </thead>\n",
              "  <tbody>\n",
              "  </tbody>\n",
              "</table>\n",
              "</div>"
            ],
            "text/plain": [
              "Empty DataFrame\n",
              "Columns: [DATE, PRCP, TMAX, TMIN, RAIN]\n",
              "Index: []"
            ]
          },
          "metadata": {
            "tags": []
          },
          "execution_count": 185
        }
      ]
    },
    {
      "cell_type": "code",
      "metadata": {
        "colab": {
          "base_uri": "https://localhost:8080/",
          "height": 49
        },
        "id": "ojQ_3qz0bSGD",
        "outputId": "939b560a-9124-4c2e-c587-13d2bf53774f"
      },
      "source": [
        "# Check Null Values of PRCP columns\n",
        "df[pd.isnull(df['PRCP'])]"
      ],
      "execution_count": 186,
      "outputs": [
        {
          "output_type": "execute_result",
          "data": {
            "text/html": [
              "<div>\n",
              "<style scoped>\n",
              "    .dataframe tbody tr th:only-of-type {\n",
              "        vertical-align: middle;\n",
              "    }\n",
              "\n",
              "    .dataframe tbody tr th {\n",
              "        vertical-align: top;\n",
              "    }\n",
              "\n",
              "    .dataframe thead th {\n",
              "        text-align: right;\n",
              "    }\n",
              "</style>\n",
              "<table border=\"1\" class=\"dataframe\">\n",
              "  <thead>\n",
              "    <tr style=\"text-align: right;\">\n",
              "      <th></th>\n",
              "      <th>DATE</th>\n",
              "      <th>PRCP</th>\n",
              "      <th>TMAX</th>\n",
              "      <th>TMIN</th>\n",
              "      <th>RAIN</th>\n",
              "    </tr>\n",
              "  </thead>\n",
              "  <tbody>\n",
              "  </tbody>\n",
              "</table>\n",
              "</div>"
            ],
            "text/plain": [
              "Empty DataFrame\n",
              "Columns: [DATE, PRCP, TMAX, TMIN, RAIN]\n",
              "Index: []"
            ]
          },
          "metadata": {
            "tags": []
          },
          "execution_count": 186
        }
      ]
    },
    {
      "cell_type": "code",
      "metadata": {
        "colab": {
          "base_uri": "https://localhost:8080/"
        },
        "id": "dF-Je0GVbSwN",
        "outputId": "fc268912-2794-48c3-c237-6bab795c6b13"
      },
      "source": [
        "df['PRCP'].mean()"
      ],
      "execution_count": 187,
      "outputs": [
        {
          "output_type": "execute_result",
          "data": {
            "text/plain": [
              "0.0003522780648191639"
            ]
          },
          "metadata": {
            "tags": []
          },
          "execution_count": 187
        }
      ]
    },
    {
      "cell_type": "code",
      "metadata": {
        "colab": {
          "base_uri": "https://localhost:8080/"
        },
        "id": "OgCkSRjncpKG",
        "outputId": "16abc020-4e36-46f9-e5ff-cbc5d045a17b"
      },
      "source": [
        "df[\"PRCP\"].describe()"
      ],
      "execution_count": 188,
      "outputs": [
        {
          "output_type": "execute_result",
          "data": {
            "text/plain": [
              "count    25548.000000\n",
              "mean         0.000352\n",
              "std          0.018766\n",
              "min          0.000000\n",
              "25%          0.000000\n",
              "50%          0.000000\n",
              "75%          0.000000\n",
              "max          1.000000\n",
              "Name: PRCP, dtype: float64"
            ]
          },
          "metadata": {
            "tags": []
          },
          "execution_count": 188
        }
      ]
    },
    {
      "cell_type": "markdown",
      "metadata": {
        "id": "Jzcax7Nx7X3J"
      },
      "source": [
        "## prediction Regression RAIN column\n",
        "### - Precision, Recall "
      ]
    },
    {
      "cell_type": "code",
      "metadata": {
        "colab": {
          "base_uri": "https://localhost:8080/"
        },
        "id": "DLxTrX6Oe4iB",
        "outputId": "63f4d909-38d6-424c-8bad-61e250fa512e"
      },
      "source": [
        "logre= LogisticRegression()\n",
        "X=df.drop(['RAIN','DATE'],axis=1) # dropping columns\n",
        "y=df['RAIN']\n",
        "y=y.astype('str')\n",
        "X_train, X_test, y_train, y_test = train_test_split(X, y, test_size=0.3)\n",
        "logre.fit(X_train,y_train) # Fitting Values"
      ],
      "execution_count": 189,
      "outputs": [
        {
          "output_type": "execute_result",
          "data": {
            "text/plain": [
              "LogisticRegression(C=1.0, class_weight=None, dual=False, fit_intercept=True,\n",
              "                   intercept_scaling=1, l1_ratio=None, max_iter=100,\n",
              "                   multi_class='auto', n_jobs=None, penalty='l2',\n",
              "                   random_state=None, solver='lbfgs', tol=0.0001, verbose=0,\n",
              "                   warm_start=False)"
            ]
          },
          "metadata": {
            "tags": []
          },
          "execution_count": 189
        }
      ]
    },
    {
      "cell_type": "code",
      "metadata": {
        "id": "QBbkwxGF9QBj"
      },
      "source": [
        "y_pred = logre.predict(X_test)"
      ],
      "execution_count": 190,
      "outputs": []
    },
    {
      "cell_type": "code",
      "metadata": {
        "colab": {
          "base_uri": "https://localhost:8080/"
        },
        "id": "wyH7BohdbS8g",
        "outputId": "90221f90-cf8c-4ad8-b12d-1735f76d50d4"
      },
      "source": [
        "#Don't Forget Importing ((sklearn.metrics import classification_report)) in the first code\n",
        "\n",
        "# then Print it \n",
        "print('Rain Classification:',classification_report(y_test,y_pred))\n",
        "print('\\n')\n",
        "print('confusion_matrix:\\n ',confusion_matrix(y_test,y_pred))\n",
        "#print('score: ',accuracy_score(y_test,y_pred))"
      ],
      "execution_count": 203,
      "outputs": [
        {
          "output_type": "stream",
          "text": [
            "/usr/local/lib/python3.7/dist-packages/sklearn/metrics/_classification.py:1272: UndefinedMetricWarning: Precision and F-score are ill-defined and being set to 0.0 in labels with no predicted samples. Use `zero_division` parameter to control this behavior.\n",
            "  _warn_prf(average, modifier, msg_start, len(result))\n"
          ],
          "name": "stderr"
        },
        {
          "output_type": "stream",
          "text": [
            "Rain Classification:               precision    recall  f1-score   support\n",
            "\n",
            "           0       1.00      1.00      1.00      7663\n",
            "           1       0.00      0.00      0.00         2\n",
            "\n",
            "    accuracy                           1.00      7665\n",
            "   macro avg       0.50      0.50      0.50      7665\n",
            "weighted avg       1.00      1.00      1.00      7665\n",
            "\n",
            "\n",
            "\n",
            "confusion_matrix:\n",
            "  [[7663    0]\n",
            " [   2    0]]\n"
          ],
          "name": "stdout"
        }
      ]
    },
    {
      "cell_type": "markdown",
      "metadata": {
        "id": "RuV8BDS5jl-G"
      },
      "source": [
        "###accuracy_score"
      ]
    },
    {
      "cell_type": "code",
      "metadata": {
        "id": "-Jt5l-nZjhtt"
      },
      "source": [
        "print('score: ',accuracy_score(y_test,y_pred))"
      ],
      "execution_count": null,
      "outputs": []
    },
    {
      "cell_type": "markdown",
      "metadata": {
        "id": "sdM0tffbA0Nn"
      },
      "source": [
        "## prediction Regression PRCP column"
      ]
    },
    {
      "cell_type": "code",
      "metadata": {
        "colab": {
          "base_uri": "https://localhost:8080/"
        },
        "id": "hiO32-XMT4A5",
        "outputId": "b86dcc3a-5d3d-411e-e9f3-15df00e77543"
      },
      "source": [
        "df[\"PRCP\"].value_counts(normalize=True)"
      ],
      "execution_count": 192,
      "outputs": [
        {
          "output_type": "execute_result",
          "data": {
            "text/plain": [
              "0    0.999648\n",
              "1    0.000352\n",
              "Name: PRCP, dtype: float64"
            ]
          },
          "metadata": {
            "tags": []
          },
          "execution_count": 192
        }
      ]
    },
    {
      "cell_type": "code",
      "metadata": {
        "colab": {
          "base_uri": "https://localhost:8080/"
        },
        "id": "JW-6xkjvTnIs",
        "outputId": "dca1a49a-824d-4e03-91aa-4665cc646b7a"
      },
      "source": [
        "training, test = train_test_split(\n",
        "    df, # data\n",
        "    train_size = 0.8, # size of the train data\n",
        "    test_size = 0.2, # size of test data\n",
        "    random_state = 42\n",
        "\n",
        ")\n",
        "training[\"PRCP\"].value_counts(normalize=True)"
      ],
      "execution_count": 193,
      "outputs": [
        {
          "output_type": "execute_result",
          "data": {
            "text/plain": [
              "0    0.999706\n",
              "1    0.000294\n",
              "Name: PRCP, dtype: float64"
            ]
          },
          "metadata": {
            "tags": []
          },
          "execution_count": 193
        }
      ]
    },
    {
      "cell_type": "code",
      "metadata": {
        "colab": {
          "base_uri": "https://localhost:8080/"
        },
        "id": "VktqvEiwUAEU",
        "outputId": "3d5f31ca-5936-47f5-ffe6-854359b6aa91"
      },
      "source": [
        "test[\"PRCP\"].value_counts(normalize=True)"
      ],
      "execution_count": 194,
      "outputs": [
        {
          "output_type": "execute_result",
          "data": {
            "text/plain": [
              "0    0.999413\n",
              "1    0.000587\n",
              "Name: PRCP, dtype: float64"
            ]
          },
          "metadata": {
            "tags": []
          },
          "execution_count": 194
        }
      ]
    },
    {
      "cell_type": "code",
      "metadata": {
        "colab": {
          "base_uri": "https://localhost:8080/",
          "height": 202
        },
        "id": "5YC7uSLQUOdj",
        "outputId": "6e33c429-e5eb-42a4-9e48-c9b23d512e7d"
      },
      "source": [
        "# Create Validation Set\n",
        "\n",
        "# Select target column\n",
        "target = \"PRCP\"\n",
        "\n",
        "\n",
        "# Create training and validation sets\n",
        "X_train, X_val, y_train, y_val,= train_test_split(\n",
        "    training.drop([target, \"DATE\"], axis=1), # Df with features\n",
        "    training[target], # Df with labels\n",
        "    train_size=0.8,\n",
        "    test_size=0.2,\n",
        "    random_state=42\n",
        ")\n",
        "X_train.head()"
      ],
      "execution_count": 195,
      "outputs": [
        {
          "output_type": "execute_result",
          "data": {
            "text/html": [
              "<div>\n",
              "<style scoped>\n",
              "    .dataframe tbody tr th:only-of-type {\n",
              "        vertical-align: middle;\n",
              "    }\n",
              "\n",
              "    .dataframe tbody tr th {\n",
              "        vertical-align: top;\n",
              "    }\n",
              "\n",
              "    .dataframe thead th {\n",
              "        text-align: right;\n",
              "    }\n",
              "</style>\n",
              "<table border=\"1\" class=\"dataframe\">\n",
              "  <thead>\n",
              "    <tr style=\"text-align: right;\">\n",
              "      <th></th>\n",
              "      <th>TMAX</th>\n",
              "      <th>TMIN</th>\n",
              "      <th>RAIN</th>\n",
              "    </tr>\n",
              "  </thead>\n",
              "  <tbody>\n",
              "    <tr>\n",
              "      <th>2783</th>\n",
              "      <td>71</td>\n",
              "      <td>47</td>\n",
              "      <td>False</td>\n",
              "    </tr>\n",
              "    <tr>\n",
              "      <th>18263</th>\n",
              "      <td>50</td>\n",
              "      <td>37</td>\n",
              "      <td>True</td>\n",
              "    </tr>\n",
              "    <tr>\n",
              "      <th>21613</th>\n",
              "      <td>59</td>\n",
              "      <td>46</td>\n",
              "      <td>True</td>\n",
              "    </tr>\n",
              "    <tr>\n",
              "      <th>20304</th>\n",
              "      <td>79</td>\n",
              "      <td>53</td>\n",
              "      <td>False</td>\n",
              "    </tr>\n",
              "    <tr>\n",
              "      <th>15497</th>\n",
              "      <td>62</td>\n",
              "      <td>52</td>\n",
              "      <td>True</td>\n",
              "    </tr>\n",
              "  </tbody>\n",
              "</table>\n",
              "</div>"
            ],
            "text/plain": [
              "       TMAX  TMIN   RAIN\n",
              "2783     71    47  False\n",
              "18263    50    37   True\n",
              "21613    59    46   True\n",
              "20304    79    53  False\n",
              "15497    62    52   True"
            ]
          },
          "metadata": {
            "tags": []
          },
          "execution_count": 195
        }
      ]
    },
    {
      "cell_type": "code",
      "metadata": {
        "colab": {
          "base_uri": "https://localhost:8080/"
        },
        "id": "eE6zDZNTBAbJ",
        "outputId": "5fcec960-842d-4e59-8cfd-b33363fe0017"
      },
      "source": [
        "logres= LogisticRegression()\n",
        "X=df.drop(['PRCP','DATE'],axis=1) # dropping columns\n",
        "y=df['PRCP']\n",
        "y=y.astype('str')\n",
        "X_train, X_test, y_train, y_test = train_test_split(X, y, test_size=0.3)\n",
        "logres.fit(X_train,y_train) # Fitting Values"
      ],
      "execution_count": 196,
      "outputs": [
        {
          "output_type": "execute_result",
          "data": {
            "text/plain": [
              "LogisticRegression(C=1.0, class_weight=None, dual=False, fit_intercept=True,\n",
              "                   intercept_scaling=1, l1_ratio=None, max_iter=100,\n",
              "                   multi_class='auto', n_jobs=None, penalty='l2',\n",
              "                   random_state=None, solver='lbfgs', tol=0.0001, verbose=0,\n",
              "                   warm_start=False)"
            ]
          },
          "metadata": {
            "tags": []
          },
          "execution_count": 196
        }
      ]
    },
    {
      "cell_type": "code",
      "metadata": {
        "id": "t76Iz9rCBSEI"
      },
      "source": [
        "y_pred = logres.predict(X_test)"
      ],
      "execution_count": 197,
      "outputs": []
    },
    {
      "cell_type": "code",
      "metadata": {
        "colab": {
          "base_uri": "https://localhost:8080/"
        },
        "id": "4ciI_RqNBXKS",
        "outputId": "f8d7bbea-cfbd-46ca-ad67-21109451532f"
      },
      "source": [
        "#Don't Forget Importing ((sklearn.metrics import classification_report)) in the first code\n",
        "\n",
        "# then Print (Classification to prediction )\n",
        "print('PRCP Classification:',classification_report(y_test,y_pred))\n",
        "print('\\n')\n",
        "print('confusion_matrix:\\n ',confusion_matrix(y_test,y_pred))"
      ],
      "execution_count": 206,
      "outputs": [
        {
          "output_type": "stream",
          "text": [
            "/usr/local/lib/python3.7/dist-packages/sklearn/metrics/_classification.py:1272: UndefinedMetricWarning: Precision and F-score are ill-defined and being set to 0.0 in labels with no predicted samples. Use `zero_division` parameter to control this behavior.\n",
            "  _warn_prf(average, modifier, msg_start, len(result))\n"
          ],
          "name": "stderr"
        },
        {
          "output_type": "stream",
          "text": [
            "PRCP Classification:               precision    recall  f1-score   support\n",
            "\n",
            "           0       1.00      1.00      1.00      7663\n",
            "           1       0.00      0.00      0.00         2\n",
            "\n",
            "    accuracy                           1.00      7665\n",
            "   macro avg       0.50      0.50      0.50      7665\n",
            "weighted avg       1.00      1.00      1.00      7665\n",
            "\n",
            "\n",
            "\n",
            "confusion_matrix:\n",
            "  [[7663    0]\n",
            " [   2    0]]\n"
          ],
          "name": "stdout"
        }
      ]
    },
    {
      "cell_type": "markdown",
      "metadata": {
        "id": "v8d985t0j4Ba"
      },
      "source": [
        "**score**"
      ]
    },
    {
      "cell_type": "code",
      "metadata": {
        "colab": {
          "base_uri": "https://localhost:8080/"
        },
        "id": "5Vp5EKHMj75H",
        "outputId": "39fb2710-3369-43dc-a042-5555106784f0"
      },
      "source": [
        "print('score: ',accuracy_score(y_test,y_pred))"
      ],
      "execution_count": 207,
      "outputs": [
        {
          "output_type": "stream",
          "text": [
            "score:  0.9997390737116765\n"
          ],
          "name": "stdout"
        }
      ]
    },
    {
      "cell_type": "code",
      "metadata": {
        "id": "yHR0OcCjOs19"
      },
      "source": [
        "## get average squared error(MSE) by comparing predicted values with real values. \n",
        "print('%.2f'%mean_squared_error(y_test, y_pred))"
      ],
      "execution_count": null,
      "outputs": []
    },
    {
      "cell_type": "markdown",
      "metadata": {
        "id": "NX4YnCC9AnmA"
      },
      "source": [
        "### SSE Cost of prediction Regression PRCP column"
      ]
    },
    {
      "cell_type": "markdown",
      "metadata": {
        "id": "g2AK4C2oXr3L"
      },
      "source": [
        "### **Mean Squared Error (MSE)**"
      ]
    },
    {
      "cell_type": "code",
      "metadata": {
        "colab": {
          "base_uri": "https://localhost:8080/"
        },
        "id": "5cODLC2vCaGQ",
        "outputId": "16eba163-032d-4313-c2e8-46c7567b1a3f"
      },
      "source": [
        "# Calculation of Mean Squared Error (MSE)\n",
        "MSE = mean_squared_error(y_test, y_pred)\n",
        "MSE"
      ],
      "execution_count": 226,
      "outputs": [
        {
          "output_type": "execute_result",
          "data": {
            "text/plain": [
              "0.0002609262883235486"
            ]
          },
          "metadata": {
            "tags": []
          },
          "execution_count": 226
        }
      ]
    },
    {
      "cell_type": "code",
      "metadata": {
        "id": "xFLWV1ETO-73"
      },
      "source": [
        "from sklearn.metrics import mean_squared_error\n",
        "#mean_squared_error(df['PRCP'])"
      ],
      "execution_count": 199,
      "outputs": []
    },
    {
      "cell_type": "markdown",
      "metadata": {
        "id": "ZkyVziAykLzx"
      },
      "source": [
        "### **Sum Squared Error (SSE)**"
      ]
    },
    {
      "cell_type": "code",
      "metadata": {
        "id": "zHkOfHdDi39Z"
      },
      "source": [
        "# Calculation of Sum Squared Error(SSE)\n",
        "SSE = sum((y_test - y_pred)^2)\n",
        "SSE"
      ],
      "execution_count": null,
      "outputs": []
    },
    {
      "cell_type": "markdown",
      "metadata": {
        "id": "WXZkhayQb3gF"
      },
      "source": [
        "###**Mean Absolute Error (MAE)**"
      ]
    },
    {
      "cell_type": "code",
      "metadata": {
        "colab": {
          "base_uri": "https://localhost:8080/"
        },
        "id": "UBIa3lw_ccaz",
        "outputId": "66d8dd62-afb0-41c3-a3ba-d7a220cf8df9"
      },
      "source": [
        "#from sklearn.metrics import mean_absolute_error\n",
        "MAE= mean_absolute_error(y_test, y_pred, multioutput='raw_values')\n",
        "MAE"
      ],
      "execution_count": 219,
      "outputs": [
        {
          "output_type": "execute_result",
          "data": {
            "text/plain": [
              "array([0.00026093])"
            ]
          },
          "metadata": {
            "tags": []
          },
          "execution_count": 219
        }
      ]
    },
    {
      "cell_type": "markdown",
      "metadata": {
        "id": "Oet_j3G0dUPQ"
      },
      "source": [
        "### Mean Absolute deviation function"
      ]
    },
    {
      "cell_type": "code",
      "metadata": {
        "colab": {
          "base_uri": "https://localhost:8080/"
        },
        "id": "e-ndTGHGbama",
        "outputId": "2302bded-b57d-4d1d-e6f8-7e02c2548140"
      },
      "source": [
        "df.mad() # mad() is mean absolute deviation function"
      ],
      "execution_count": 225,
      "outputs": [
        {
          "output_type": "execute_result",
          "data": {
            "text/plain": [
              "PRCP     0.000704\n",
              "TMAX    10.595231\n",
              "TMIN     7.340104\n",
              "dtype: float64"
            ]
          },
          "metadata": {
            "tags": []
          },
          "execution_count": 225
        }
      ]
    },
    {
      "cell_type": "code",
      "metadata": {
        "id": "4s0HpSDl9Z0U"
      },
      "source": [
        ""
      ],
      "execution_count": null,
      "outputs": []
    },
    {
      "cell_type": "code",
      "metadata": {
        "id": "kmJJBZ0A9Z4s"
      },
      "source": [
        ""
      ],
      "execution_count": null,
      "outputs": []
    },
    {
      "cell_type": "code",
      "metadata": {
        "id": "Lv4MlHx5eYhv"
      },
      "source": [
        ""
      ],
      "execution_count": null,
      "outputs": []
    }
  ]
}